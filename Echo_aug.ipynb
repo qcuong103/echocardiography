{
  "nbformat": 4,
  "nbformat_minor": 0,
  "metadata": {
    "colab": {
      "name": "Echo_aug.ipynb",
      "provenance": [],
      "collapsed_sections": []
    },
    "kernelspec": {
      "name": "python3",
      "display_name": "Python 3"
    },
    "language_info": {
      "name": "python"
    },
    "accelerator": "GPU"
  },
  "cells": [
    {
      "cell_type": "markdown",
      "metadata": {
        "id": "S2ijQ0OB1vHT"
      },
      "source": [
        "# Import"
      ]
    },
    {
      "cell_type": "code",
      "metadata": {
        "id": "ZpQ7BUoV4_Oi"
      },
      "source": [
        "\n",
        "# Import Library\n",
        "import torch\n",
        "torch.cuda.empty_cache()\n",
        "import torch.nn as nn\n",
        "from torch.utils.data import DataLoader\n",
        "import torch.optim as optim\n",
        "\n",
        "import cv2\n",
        "import numpy as np\n",
        "import matplotlib.pyplot as plt\n",
        "\n",
        "import torchvision\n",
        "from torchvision import models,transforms\n",
        "\n",
        "from collections import namedtuple\n",
        "\n",
        "from sklearn.metrics import classification_report\n",
        "\n",
        "import time"
      ],
      "execution_count": 1,
      "outputs": []
    },
    {
      "cell_type": "markdown",
      "metadata": {
        "id": "G26oe6fk2F8s"
      },
      "source": [
        "# Get DATA"
      ]
    },
    {
      "cell_type": "code",
      "metadata": {
        "id": "JJnVjBsj6c2U",
        "colab": {
          "base_uri": "https://localhost:8080/"
        },
        "outputId": "c9356d03-b066-488a-b3b2-8466c06f1499"
      },
      "source": [
        "# Using CUDA\n",
        "use_gpu = torch.cuda.is_available()\n",
        "if use_gpu:\n",
        "    print(\"Using CUDA\")\n",
        "else: print(\"Using CPU\")"
      ],
      "execution_count": 2,
      "outputs": [
        {
          "output_type": "stream",
          "name": "stdout",
          "text": [
            "Using CUDA\n"
          ]
        }
      ]
    },
    {
      "cell_type": "code",
      "metadata": {
        "id": "gDVNC4AC6lP8",
        "colab": {
          "base_uri": "https://localhost:8080/"
        },
        "outputId": "9b6a7d2e-0dae-4734-bf84-17074091fdf3"
      },
      "source": [
        "# Clone Data\n",
        "!git clone https://github.com/qcuong103/echocardiography\n",
        "\n",
        "# Hyper-parameters\n",
        "classes = ['2C', '3C', '4C']\n",
        "TrainTest = namedtuple('TrainTest', ['train', 'test'])"
      ],
      "execution_count": 3,
      "outputs": [
        {
          "output_type": "stream",
          "name": "stdout",
          "text": [
            "Cloning into 'echocardiography'...\n",
            "remote: Enumerating objects: 8335, done.\u001b[K\n",
            "remote: Total 8335 (delta 0), reused 0 (delta 0), pack-reused 8335\u001b[K\n",
            "Receiving objects: 100% (8335/8335), 488.10 MiB | 28.33 MiB/s, done.\n",
            "Resolving deltas: 100% (2/2), done.\n",
            "Checking out files: 100% (8327/8327), done.\n"
          ]
        }
      ]
    },
    {
      "cell_type": "markdown",
      "metadata": {
        "id": "2HViKL8A2LT8"
      },
      "source": [
        "# Prepare Data"
      ]
    },
    {
      "cell_type": "code",
      "metadata": {
        "id": "7XeE9l6g2AyE"
      },
      "source": [
        "# Transforms Data\n",
        "def prepare_data(sizeImg=224, typeImg=\"None\"):\n",
        "  if (typeImg == \"None\"):\n",
        "    if (sizeImg == 224):\n",
        "      transform_train = transforms.Compose([\n",
        "        transforms.Resize((224,224)),\n",
        "        transforms.ToTensor()])\n",
        "      transform_test = transforms.Compose([\n",
        "        transforms.Resize((224,224)),\n",
        "        transforms.ToTensor()])\n",
        "    elif (sizeImg == 64):\n",
        "      transform_train = transforms.Compose([\n",
        "        transforms.Resize((64,64)),\n",
        "        transforms.ToTensor()])\n",
        "      transform_test = transforms.Compose([\n",
        "        transforms.Resize((64,64)),\n",
        "        transforms.ToTensor()])\n",
        "    else:\n",
        "      transform_train = transforms.Compose([\n",
        "        transforms.Resize((32,32)),\n",
        "        transforms.ToTensor()])\n",
        "      transform_test = transforms.Compose([\n",
        "        transforms.Resize((32,32)),\n",
        "        transforms.ToTensor()])\n",
        "  elif (typeImg == \"aug\"):\n",
        "    transform_train = transforms.Compose([\n",
        "      transforms.Resize((224,224)),\n",
        "      transforms.RandomHorizontalFlip(p=0.3),\n",
        "      transforms.RandomVerticalFlip(p=0.3),\n",
        "      transforms.RandomRotation(degrees=10),\n",
        "      transforms.ToTensor()])\n",
        "    transform_test = transforms.Compose([\n",
        "      transforms.Resize((224,224)),\n",
        "      transforms.ToTensor()])\n",
        "  else:\n",
        "    transform_train = transforms.Compose([\n",
        "      transforms.Resize((224,224)),\n",
        "      transforms.RandomEqualize(p=1),\n",
        "      transforms.GaussianBlur(kernel_size=3),\n",
        "      transforms.ToTensor()])\n",
        "    transform_test = transforms.Compose([\n",
        "      transforms.Resize((224,224)),\n",
        "      transforms.RandomEqualize(p=1),\n",
        "      transforms.GaussianBlur(kernel_size=3),\n",
        "      transforms.ToTensor()])\n",
        "    \n",
        "  trainset = torchvision.datasets.ImageFolder(\n",
        "      root='/content/echocardiography/DATA_CHAMBER_2021/train', \n",
        "      transform=transform_train)\n",
        "  testset = torchvision.datasets.ImageFolder(\n",
        "      root='/content/echocardiography/DATA_CHAMBER_2021/test', \n",
        "      transform=transform_test)\n",
        "  \n",
        "  print(\"Number of Image in train set:\", len(trainset))\n",
        "  print(\"Number of Image in test set:\", len(testset))\n",
        "\n",
        "  return TrainTest(train=trainset,test=testset)\n",
        "\n",
        "# Load Data\n",
        "def prepare_loader(datasets):\n",
        "  batch_size = 32\n",
        "  trainloader = DataLoader(\n",
        "    dataset=datasets.train, batch_size=batch_size, \n",
        "    shuffle=True, num_workers=4\n",
        "  )\n",
        "  testloader = DataLoader(\n",
        "    dataset=datasets.test, batch_size=batch_size, \n",
        "    shuffle=True, num_workers=4\n",
        "  )\n",
        "  \n",
        "  print(\"Num batch in train set: \", len(trainloader))\n",
        "  print(\"Num batch in test set: \", len(testloader))\n",
        "  class_names = datasets.train.classes\n",
        "  inputs, classes = next(iter(trainloader))\n",
        "  # show_databatch(inputs, classes)\n",
        "  for i in range(4):\n",
        "    print([class_names[x] for x in classes[(8*i):(8*i+8)]])\n",
        "  imshow(torchvision.utils.make_grid(inputs))\n",
        "  return TrainTest(train=trainloader, test=testloader)\n",
        "\n",
        "def imshow(inp, title=None):\n",
        "    inp = inp.numpy().transpose((1, 2, 0))\n",
        "    # plt.figure(figsize=(10, 10))\n",
        "    plt.axis('off')\n",
        "    plt.imshow(inp)\n",
        "    if title is not None:\n",
        "        plt.title(title)\n",
        "    plt.pause(0.001)\n",
        "\n",
        "# dataset = prepare_data()\n",
        "# loaderset = prepare_loader(dataset)"
      ],
      "execution_count": 4,
      "outputs": []
    },
    {
      "cell_type": "code",
      "metadata": {
        "colab": {
          "base_uri": "https://localhost:8080/",
          "height": 36
        },
        "id": "jkavKRFJUYhz",
        "outputId": "62722e1d-d445-436c-c52b-574e144e0833"
      },
      "source": [
        "torch.__version__"
      ],
      "execution_count": 5,
      "outputs": [
        {
          "output_type": "execute_result",
          "data": {
            "application/vnd.google.colaboratory.intrinsic+json": {
              "type": "string"
            },
            "text/plain": [
              "'1.10.0+cu111'"
            ]
          },
          "metadata": {},
          "execution_count": 5
        }
      ]
    },
    {
      "cell_type": "markdown",
      "metadata": {
        "id": "EGa4ZYUapWax"
      },
      "source": [
        "# **Train**"
      ]
    },
    {
      "cell_type": "code",
      "metadata": {
        "id": "gpvWunBb9VSz"
      },
      "source": [
        "def train_epoch(epoch, model, loader, loss_func, optimizer, device):\n",
        "  print(\"Train model\")\n",
        "  print('-' * 10)\n",
        "  model.train()\n",
        "  running_loss = 0.0\n",
        "  images_so_close = 0.0\n",
        "  reporting_steps = 60\n",
        "\n",
        "  for i, (images, labels) in enumerate(loader):\n",
        "    images, labels = images.to(device), labels.to(device)\n",
        "    \n",
        "    optimizer.zero_grad()\n",
        "    outputs = model(images)\n",
        "    loss = loss_func(outputs, labels)\n",
        "    loss.backward()\n",
        "    optimizer.step()\n",
        "\n",
        "    images_so_close = loss.item()\n",
        "    running_loss += images_so_close\n",
        "    if i % reporting_steps == reporting_steps - 1:\n",
        "      print(f\"Epoch {epoch} Step {i} ave_loss {running_loss/reporting_steps:.4f}\")\n",
        "      running_loss = 0.0\n",
        "  return images_so_close\n"
      ],
      "execution_count": 6,
      "outputs": []
    },
    {
      "cell_type": "markdown",
      "metadata": {
        "id": "jXViyKY2pau5"
      },
      "source": [
        "# **Test**"
      ]
    },
    {
      "cell_type": "code",
      "metadata": {
        "id": "yDnb7RX-JtX_"
      },
      "source": [
        "def test_epoch(epoch, model, loader, device):\n",
        "  since = time.time()\n",
        "\n",
        "  model.eval()\n",
        "  ytrue = []\n",
        "  ypred = []\n",
        "\n",
        "  print(\"Test model\")\n",
        "  print('-' * 10)\n",
        "\n",
        "  for i, (images, labels) in enumerate(loader):\n",
        "    images, labels = images.to(device), labels.to(device)\n",
        "\n",
        "    outputs = model(images)\n",
        "    _, predicted = torch.max(outputs, dim=1)\n",
        "    ytrue += list(labels.cpu().numpy())\n",
        "    ypred += list(predicted.cpu().numpy())\n",
        "\n",
        "  elapsed_time = time.time() - since\n",
        "  print()\n",
        "  print(\"Evaluation completed in {:.0f}m {:.0f}s\".format(elapsed_time // 60, elapsed_time % 60))\n",
        "  print('-' * 10)\n",
        "\n",
        "  return ypred, ytrue"
      ],
      "execution_count": 7,
      "outputs": []
    },
    {
      "cell_type": "markdown",
      "metadata": {
        "id": "F4_OzR3OpfvT"
      },
      "source": [
        "# **Main**"
      ]
    },
    {
      "cell_type": "code",
      "metadata": {
        "id": "xYtxYUVY9ZUu"
      },
      "source": [
        "def run(modelName, imgSize, aug):\n",
        "  PATH = \"./\" + modelName + '.pth'\n",
        "  datasets = prepare_data(imgSize, aug)\n",
        "  loaders = prepare_loader(datasets)\n",
        "  use_pretrained = False\n",
        "  device = torch.device(\"cuda\" if torch.cuda.is_available() else \"cpu\")\n",
        "  print(\"image size: \", datasets.train[0][0].shape)\n",
        "  print(\"device:\", device)\n",
        "  print(\"model:\", modelName)\n",
        "  \n",
        "  if modelName == 'vgg16':\n",
        "    model = models.vgg16(pretrained=use_pretrained)\n",
        "    model.classifier[6] = nn.modules.linear.Linear(in_features=4096, out_features=3, bias=True)\n",
        "  elif modelName == 'resnet50':\n",
        "    model = models.resnet50(pretrained=use_pretrained)\n",
        "    model.fc = nn.modules.linear.Linear(in_features=2048, out_features=3, bias=True) \n",
        "  elif modelName == 'resnet18':\n",
        "    model = models.resnet18(pretrained=use_pretrained)\n",
        "    model.fc = nn.modules.linear.Linear(in_features=512, out_features=3, bias=True)\n",
        "  else:\n",
        "    model = models.densenet121(pretrained=use_pretrained)\n",
        "    model.classifier = nn.modules.linear.Linear(in_features=1024, out_features=3, bias=True)\n",
        "  model.to(device)\n",
        "\n",
        "  loss_func = nn.CrossEntropyLoss()\n",
        "  optimizer = optim.SGD(model.parameters(), lr=0.01, momentum=0.9, weight_decay=5e-4)\n",
        "\n",
        "  # class_out = len(classes)\n",
        "  n_epoch = 20\n",
        "\n",
        "  accuracies = []\n",
        "  losses = []\n",
        "  for epoch in range(n_epoch):\n",
        "    print(\"---------------------------------------------------------------\")\n",
        "    print(f\"\\nEpoch {epoch} report: \")\n",
        "    loss = train_epoch(epoch, model, loaders.train, loss_func, optimizer, device)\n",
        "    ypred, ytrue = test_epoch(epoch, model, loaders.test, device)\n",
        "\n",
        "    print(\"Test report: \\n\", classification_report(ytrue, ypred, target_names=classes))\n",
        "    \n",
        "    torch.save(model.state_dict(), PATH)\n",
        "\n",
        "    ypred = np.array(ypred)\n",
        "    ytrue = np.array(ytrue)\n",
        "    accuracy = int((ytrue==ypred).sum() / len(ytrue) * 100)\n",
        "    accuracies.append(accuracy)\n",
        "    losses.append(round(loss, 4))\n",
        "\n",
        "  print(\"model:\", modelName, \", size:\", imgSize, \", augmentation:\", aug)\n",
        "  print(\"accr: \", accuracies)\n",
        "  print(\"loss: \", losses)\n",
        "  return model"
      ],
      "execution_count": 8,
      "outputs": []
    },
    {
      "cell_type": "markdown",
      "metadata": {
        "id": "susXffaJpoeu"
      },
      "source": [
        "# **Run**"
      ]
    },
    {
      "cell_type": "code",
      "metadata": {
        "id": "3ZTxR7ny9n51",
        "colab": {
          "base_uri": "https://localhost:8080/",
          "height": 1000
        },
        "outputId": "9a7d4000-8b42-4bb5-f9ba-694245ba5141"
      },
      "source": [
        "modelset = ['vgg16', 'resnet18', 'resnet50', 'densenet121']\n",
        "\n",
        "for i in modelset:\n",
        "  model = run(modelName=i, imgSize=224, aug=\"aug\")"
      ],
      "execution_count": 9,
      "outputs": [
        {
          "output_type": "stream",
          "name": "stdout",
          "text": [
            "Number of Image in train set: 6717\n",
            "Number of Image in test set: 1607\n",
            "Num batch in train set:  210\n",
            "Num batch in test set:  51\n"
          ]
        },
        {
          "output_type": "stream",
          "name": "stderr",
          "text": [
            "/usr/local/lib/python3.7/dist-packages/torch/utils/data/dataloader.py:481: UserWarning: This DataLoader will create 4 worker processes in total. Our suggested max number of worker in current system is 2, which is smaller than what this DataLoader is going to create. Please be aware that excessive worker creation might get DataLoader running slow or even freeze, lower the worker number to avoid potential slowness/freeze if necessary.\n",
            "  cpuset_checked))\n"
          ]
        },
        {
          "output_type": "stream",
          "name": "stdout",
          "text": [
            "['3C', '3C', '2C', '4C', '3C', '2C', '2C', '3C']\n",
            "['2C', '2C', '3C', '3C', '2C', '2C', '4C', '2C']\n",
            "['3C', '3C', '4C', '2C', '4C', '2C', '2C', '2C']\n",
            "['2C', '2C', '2C', '3C', '3C', '2C', '2C', '3C']\n"
          ]
        },
        {
          "output_type": "display_data",
          "data": {
            "image/png": "[encoded data removed]",
            "text/plain": [
              "<Figure size 432x288 with 1 Axes>"
            ]
          },
          "metadata": {
            "needs_background": "light"
          }
        },
        {
          "output_type": "stream",
          "name": "stdout",
          "text": [
            "image size:  torch.Size([3, 224, 224])\n",
            "device: cuda\n",
            "model: vgg16\n",
            "---------------------------------------------------------------\n",
            "\n",
            "Epoch 0 report: \n",
            "Train model\n",
            "----------\n",
            "Epoch 0 Step 59 ave_loss 1.0964\n",
            "Epoch 0 Step 119 ave_loss 1.0864\n",
            "Epoch 0 Step 179 ave_loss 1.0604\n",
            "Test model\n",
            "----------\n",
            "\n",
            "Evaluation completed in 0m 16s\n",
            "----------\n",
            "Test report: \n",
            "               precision    recall  f1-score   support\n",
            "\n",
            "          2C       0.74      0.07      0.13       409\n",
            "          3C       0.34      1.00      0.51       367\n",
            "          4C       1.00      0.61      0.76       831\n",
            "\n",
            "    accuracy                           0.56      1607\n",
            "   macro avg       0.69      0.56      0.46      1607\n",
            "weighted avg       0.78      0.56      0.54      1607\n",
            "\n",
            "---------------------------------------------------------------\n",
            "\n",
            "Epoch 1 report: \n",
            "Train model\n",
            "----------\n"
          ]
        },
        {
          "output_type": "stream",
          "name": "stderr",
          "text": [
            "/usr/local/lib/python3.7/dist-packages/torch/utils/data/dataloader.py:481: UserWarning: This DataLoader will create 4 worker processes in total. Our suggested max number of worker in current system is 2, which is smaller than what this DataLoader is going to create. Please be aware that excessive worker creation might get DataLoader running slow or even freeze, lower the worker number to avoid potential slowness/freeze if necessary.\n",
            "  cpuset_checked))\n"
          ]
        },
        {
          "output_type": "stream",
          "name": "stdout",
          "text": [
            "Epoch 1 Step 59 ave_loss 0.9633\n",
            "Epoch 1 Step 119 ave_loss 0.8329\n",
            "Epoch 1 Step 179 ave_loss 0.7950\n",
            "Test model\n",
            "----------\n",
            "\n",
            "Evaluation completed in 0m 16s\n",
            "----------\n",
            "Test report: \n",
            "               precision    recall  f1-score   support\n",
            "\n",
            "          2C       0.58      0.74      0.65       409\n",
            "          3C       0.65      0.82      0.72       367\n",
            "          4C       0.99      0.74      0.84       831\n",
            "\n",
            "    accuracy                           0.75      1607\n",
            "   macro avg       0.74      0.76      0.74      1607\n",
            "weighted avg       0.80      0.75      0.77      1607\n",
            "\n",
            "---------------------------------------------------------------\n",
            "\n",
            "Epoch 2 report: \n",
            "Train model\n",
            "----------\n"
          ]
        },
        {
          "output_type": "stream",
          "name": "stderr",
          "text": [
            "/usr/local/lib/python3.7/dist-packages/torch/utils/data/dataloader.py:481: UserWarning: This DataLoader will create 4 worker processes in total. Our suggested max number of worker in current system is 2, which is smaller than what this DataLoader is going to create. Please be aware that excessive worker creation might get DataLoader running slow or even freeze, lower the worker number to avoid potential slowness/freeze if necessary.\n",
            "  cpuset_checked))\n"
          ]
        },
        {
          "output_type": "stream",
          "name": "stdout",
          "text": [
            "Epoch 2 Step 59 ave_loss 0.5835\n",
            "Epoch 2 Step 119 ave_loss 0.5376\n",
            "Epoch 2 Step 179 ave_loss 0.4324\n",
            "Test model\n",
            "----------\n",
            "\n",
            "Evaluation completed in 0m 16s\n",
            "----------\n",
            "Test report: \n",
            "               precision    recall  f1-score   support\n",
            "\n",
            "          2C       0.54      0.92      0.68       409\n",
            "          3C       0.71      0.68      0.70       367\n",
            "          4C       0.99      0.66      0.80       831\n",
            "\n",
            "    accuracy                           0.73      1607\n",
            "   macro avg       0.75      0.76      0.72      1607\n",
            "weighted avg       0.81      0.73      0.74      1607\n",
            "\n",
            "---------------------------------------------------------------\n",
            "\n",
            "Epoch 3 report: \n",
            "Train model\n",
            "----------\n"
          ]
        },
        {
          "output_type": "stream",
          "name": "stderr",
          "text": [
            "/usr/local/lib/python3.7/dist-packages/torch/utils/data/dataloader.py:481: UserWarning: This DataLoader will create 4 worker processes in total. Our suggested max number of worker in current system is 2, which is smaller than what this DataLoader is going to create. Please be aware that excessive worker creation might get DataLoader running slow or even freeze, lower the worker number to avoid potential slowness/freeze if necessary.\n",
            "  cpuset_checked))\n"
          ]
        },
        {
          "output_type": "stream",
          "name": "stdout",
          "text": [
            "Epoch 3 Step 59 ave_loss 0.3419\n",
            "Epoch 3 Step 119 ave_loss 0.3696\n",
            "Epoch 3 Step 179 ave_loss 0.2299\n",
            "Test model\n",
            "----------\n",
            "\n",
            "Evaluation completed in 0m 16s\n",
            "----------\n",
            "Test report: \n",
            "               precision    recall  f1-score   support\n",
            "\n",
            "          2C       0.56      0.90      0.69       409\n",
            "          3C       0.73      0.63      0.68       367\n",
            "          4C       0.93      0.71      0.81       831\n",
            "\n",
            "    accuracy                           0.74      1607\n",
            "   macro avg       0.74      0.75      0.72      1607\n",
            "weighted avg       0.79      0.74      0.75      1607\n",
            "\n",
            "---------------------------------------------------------------\n",
            "\n",
            "Epoch 4 report: \n",
            "Train model\n",
            "----------\n"
          ]
        },
        {
          "output_type": "stream",
          "name": "stderr",
          "text": [
            "/usr/local/lib/python3.7/dist-packages/torch/utils/data/dataloader.py:481: UserWarning: This DataLoader will create 4 worker processes in total. Our suggested max number of worker in current system is 2, which is smaller than what this DataLoader is going to create. Please be aware that excessive worker creation might get DataLoader running slow or even freeze, lower the worker number to avoid potential slowness/freeze if necessary.\n",
            "  cpuset_checked))\n"
          ]
        },
        {
          "output_type": "stream",
          "name": "stdout",
          "text": [
            "Epoch 4 Step 59 ave_loss 0.1886\n",
            "Epoch 4 Step 119 ave_loss 0.1238\n",
            "Epoch 4 Step 179 ave_loss 0.1335\n",
            "Test model\n",
            "----------\n",
            "\n",
            "Evaluation completed in 0m 16s\n",
            "----------\n",
            "Test report: \n",
            "               precision    recall  f1-score   support\n",
            "\n",
            "          2C       0.58      0.96      0.72       409\n",
            "          3C       0.92      0.76      0.83       367\n",
            "          4C       0.97      0.73      0.83       831\n",
            "\n",
            "    accuracy                           0.79      1607\n",
            "   macro avg       0.82      0.82      0.80      1607\n",
            "weighted avg       0.86      0.79      0.80      1607\n",
            "\n",
            "---------------------------------------------------------------\n",
            "\n",
            "Epoch 5 report: \n",
            "Train model\n",
            "----------\n"
          ]
        },
        {
          "output_type": "stream",
          "name": "stderr",
          "text": [
            "/usr/local/lib/python3.7/dist-packages/torch/utils/data/dataloader.py:481: UserWarning: This DataLoader will create 4 worker processes in total. Our suggested max number of worker in current system is 2, which is smaller than what this DataLoader is going to create. Please be aware that excessive worker creation might get DataLoader running slow or even freeze, lower the worker number to avoid potential slowness/freeze if necessary.\n",
            "  cpuset_checked))\n"
          ]
        },
        {
          "output_type": "stream",
          "name": "stdout",
          "text": [
            "Epoch 5 Step 59 ave_loss 0.1042\n",
            "Epoch 5 Step 119 ave_loss 0.0984\n",
            "Epoch 5 Step 179 ave_loss 0.1102\n",
            "Test model\n",
            "----------\n",
            "\n",
            "Evaluation completed in 0m 16s\n",
            "----------\n",
            "Test report: \n",
            "               precision    recall  f1-score   support\n",
            "\n",
            "          2C       0.55      0.99      0.71       409\n",
            "          3C       0.81      0.91      0.86       367\n",
            "          4C       1.00      0.55      0.71       831\n",
            "\n",
            "    accuracy                           0.75      1607\n",
            "   macro avg       0.79      0.82      0.76      1607\n",
            "weighted avg       0.84      0.75      0.74      1607\n",
            "\n",
            "---------------------------------------------------------------\n",
            "\n",
            "Epoch 6 report: \n",
            "Train model\n",
            "----------\n"
          ]
        },
        {
          "output_type": "stream",
          "name": "stderr",
          "text": [
            "/usr/local/lib/python3.7/dist-packages/torch/utils/data/dataloader.py:481: UserWarning: This DataLoader will create 4 worker processes in total. Our suggested max number of worker in current system is 2, which is smaller than what this DataLoader is going to create. Please be aware that excessive worker creation might get DataLoader running slow or even freeze, lower the worker number to avoid potential slowness/freeze if necessary.\n",
            "  cpuset_checked))\n"
          ]
        },
        {
          "output_type": "stream",
          "name": "stdout",
          "text": [
            "Epoch 6 Step 59 ave_loss 0.0634\n",
            "Epoch 6 Step 119 ave_loss 0.1328\n",
            "Epoch 6 Step 179 ave_loss 0.0783\n",
            "Test model\n",
            "----------\n",
            "\n",
            "Evaluation completed in 0m 16s\n",
            "----------\n",
            "Test report: \n",
            "               precision    recall  f1-score   support\n",
            "\n",
            "          2C       0.60      0.99      0.75       409\n",
            "          3C       0.77      0.87      0.81       367\n",
            "          4C       1.00      0.62      0.77       831\n",
            "\n",
            "    accuracy                           0.77      1607\n",
            "   macro avg       0.79      0.83      0.78      1607\n",
            "weighted avg       0.85      0.77      0.77      1607\n",
            "\n",
            "---------------------------------------------------------------\n",
            "\n",
            "Epoch 7 report: \n",
            "Train model\n",
            "----------\n"
          ]
        },
        {
          "output_type": "stream",
          "name": "stderr",
          "text": [
            "/usr/local/lib/python3.7/dist-packages/torch/utils/data/dataloader.py:481: UserWarning: This DataLoader will create 4 worker processes in total. Our suggested max number of worker in current system is 2, which is smaller than what this DataLoader is going to create. Please be aware that excessive worker creation might get DataLoader running slow or even freeze, lower the worker number to avoid potential slowness/freeze if necessary.\n",
            "  cpuset_checked))\n"
          ]
        },
        {
          "output_type": "stream",
          "name": "stdout",
          "text": [
            "Epoch 7 Step 59 ave_loss 0.0612\n",
            "Epoch 7 Step 119 ave_loss 0.0588\n",
            "Epoch 7 Step 179 ave_loss 0.0808\n",
            "Test model\n",
            "----------\n",
            "\n",
            "Evaluation completed in 0m 16s\n",
            "----------\n",
            "Test report: \n",
            "               precision    recall  f1-score   support\n",
            "\n",
            "          2C       0.65      0.78      0.71       409\n",
            "          3C       0.66      0.89      0.76       367\n",
            "          4C       0.94      0.70      0.80       831\n",
            "\n",
            "    accuracy                           0.77      1607\n",
            "   macro avg       0.75      0.79      0.76      1607\n",
            "weighted avg       0.80      0.77      0.77      1607\n",
            "\n",
            "---------------------------------------------------------------\n",
            "\n",
            "Epoch 8 report: \n",
            "Train model\n",
            "----------\n"
          ]
        },
        {
          "output_type": "stream",
          "name": "stderr",
          "text": [
            "/usr/local/lib/python3.7/dist-packages/torch/utils/data/dataloader.py:481: UserWarning: This DataLoader will create 4 worker processes in total. Our suggested max number of worker in current system is 2, which is smaller than what this DataLoader is going to create. Please be aware that excessive worker creation might get DataLoader running slow or even freeze, lower the worker number to avoid potential slowness/freeze if necessary.\n",
            "  cpuset_checked))\n"
          ]
        },
        {
          "output_type": "stream",
          "name": "stdout",
          "text": [
            "Epoch 8 Step 59 ave_loss 0.0706\n",
            "Epoch 8 Step 119 ave_loss 0.0510\n",
            "Epoch 8 Step 179 ave_loss 0.0749\n",
            "Test model\n",
            "----------\n",
            "\n",
            "Evaluation completed in 0m 16s\n",
            "----------\n",
            "Test report: \n",
            "               precision    recall  f1-score   support\n",
            "\n",
            "          2C       0.69      0.93      0.79       409\n",
            "          3C       0.66      0.98      0.79       367\n",
            "          4C       1.00      0.61      0.76       831\n",
            "\n",
            "    accuracy                           0.77      1607\n",
            "   macro avg       0.78      0.84      0.78      1607\n",
            "weighted avg       0.84      0.77      0.77      1607\n",
            "\n",
            "---------------------------------------------------------------\n",
            "\n",
            "Epoch 9 report: \n",
            "Train model\n",
            "----------\n"
          ]
        },
        {
          "output_type": "stream",
          "name": "stderr",
          "text": [
            "/usr/local/lib/python3.7/dist-packages/torch/utils/data/dataloader.py:481: UserWarning: This DataLoader will create 4 worker processes in total. Our suggested max number of worker in current system is 2, which is smaller than what this DataLoader is going to create. Please be aware that excessive worker creation might get DataLoader running slow or even freeze, lower the worker number to avoid potential slowness/freeze if necessary.\n",
            "  cpuset_checked))\n"
          ]
        },
        {
          "output_type": "stream",
          "name": "stdout",
          "text": [
            "Epoch 9 Step 59 ave_loss 0.0532\n",
            "Epoch 9 Step 119 ave_loss 0.0360\n",
            "Epoch 9 Step 179 ave_loss 0.0380\n",
            "Test model\n",
            "----------\n",
            "\n",
            "Evaluation completed in 0m 16s\n",
            "----------\n",
            "Test report: \n",
            "               precision    recall  f1-score   support\n",
            "\n",
            "          2C       0.66      0.99      0.79       409\n",
            "          3C       0.61      0.87      0.72       367\n",
            "          4C       0.96      0.54      0.69       831\n",
            "\n",
            "    accuracy                           0.73      1607\n",
            "   macro avg       0.74      0.80      0.73      1607\n",
            "weighted avg       0.80      0.73      0.72      1607\n",
            "\n",
            "---------------------------------------------------------------\n",
            "\n",
            "Epoch 10 report: \n",
            "Train model\n",
            "----------\n"
          ]
        },
        {
          "output_type": "stream",
          "name": "stderr",
          "text": [
            "/usr/local/lib/python3.7/dist-packages/torch/utils/data/dataloader.py:481: UserWarning: This DataLoader will create 4 worker processes in total. Our suggested max number of worker in current system is 2, which is smaller than what this DataLoader is going to create. Please be aware that excessive worker creation might get DataLoader running slow or even freeze, lower the worker number to avoid potential slowness/freeze if necessary.\n",
            "  cpuset_checked))\n"
          ]
        },
        {
          "output_type": "stream",
          "name": "stdout",
          "text": [
            "Epoch 10 Step 59 ave_loss 0.0468\n",
            "Epoch 10 Step 119 ave_loss 0.0469\n",
            "Epoch 10 Step 179 ave_loss 0.0545\n",
            "Test model\n",
            "----------\n",
            "\n",
            "Evaluation completed in 0m 16s\n",
            "----------\n",
            "Test report: \n",
            "               precision    recall  f1-score   support\n",
            "\n",
            "          2C       0.66      0.89      0.75       409\n",
            "          3C       0.67      0.90      0.76       367\n",
            "          4C       0.94      0.63      0.76       831\n",
            "\n",
            "    accuracy                           0.76      1607\n",
            "   macro avg       0.75      0.81      0.76      1607\n",
            "weighted avg       0.80      0.76      0.76      1607\n",
            "\n",
            "---------------------------------------------------------------\n",
            "\n",
            "Epoch 11 report: \n",
            "Train model\n",
            "----------\n"
          ]
        },
        {
          "output_type": "stream",
          "name": "stderr",
          "text": [
            "/usr/local/lib/python3.7/dist-packages/torch/utils/data/dataloader.py:481: UserWarning: This DataLoader will create 4 worker processes in total. Our suggested max number of worker in current system is 2, which is smaller than what this DataLoader is going to create. Please be aware that excessive worker creation might get DataLoader running slow or even freeze, lower the worker number to avoid potential slowness/freeze if necessary.\n",
            "  cpuset_checked))\n"
          ]
        },
        {
          "output_type": "stream",
          "name": "stdout",
          "text": [
            "Epoch 11 Step 59 ave_loss 0.0339\n",
            "Epoch 11 Step 119 ave_loss 0.0247\n",
            "Epoch 11 Step 179 ave_loss 0.0565\n",
            "Test model\n",
            "----------\n",
            "\n",
            "Evaluation completed in 0m 16s\n",
            "----------\n",
            "Test report: \n",
            "               precision    recall  f1-score   support\n",
            "\n",
            "          2C       0.76      0.90      0.82       409\n",
            "          3C       0.71      0.94      0.81       367\n",
            "          4C       0.97      0.74      0.84       831\n",
            "\n",
            "    accuracy                           0.83      1607\n",
            "   macro avg       0.81      0.86      0.82      1607\n",
            "weighted avg       0.86      0.83      0.83      1607\n",
            "\n",
            "---------------------------------------------------------------\n",
            "\n",
            "Epoch 12 report: \n",
            "Train model\n",
            "----------\n"
          ]
        },
        {
          "output_type": "stream",
          "name": "stderr",
          "text": [
            "/usr/local/lib/python3.7/dist-packages/torch/utils/data/dataloader.py:481: UserWarning: This DataLoader will create 4 worker processes in total. Our suggested max number of worker in current system is 2, which is smaller than what this DataLoader is going to create. Please be aware that excessive worker creation might get DataLoader running slow or even freeze, lower the worker number to avoid potential slowness/freeze if necessary.\n",
            "  cpuset_checked))\n"
          ]
        },
        {
          "output_type": "stream",
          "name": "stdout",
          "text": [
            "Epoch 12 Step 59 ave_loss 0.0608\n",
            "Epoch 12 Step 119 ave_loss 0.0322\n",
            "Epoch 12 Step 179 ave_loss 0.0396\n",
            "Test model\n",
            "----------\n",
            "\n",
            "Evaluation completed in 0m 16s\n",
            "----------\n",
            "Test report: \n",
            "               precision    recall  f1-score   support\n",
            "\n",
            "          2C       0.72      0.88      0.79       409\n",
            "          3C       0.75      0.95      0.83       367\n",
            "          4C       0.99      0.76      0.86       831\n",
            "\n",
            "    accuracy                           0.84      1607\n",
            "   macro avg       0.82      0.86      0.83      1607\n",
            "weighted avg       0.87      0.84      0.84      1607\n",
            "\n",
            "---------------------------------------------------------------\n",
            "\n",
            "Epoch 13 report: \n",
            "Train model\n",
            "----------\n"
          ]
        },
        {
          "output_type": "stream",
          "name": "stderr",
          "text": [
            "/usr/local/lib/python3.7/dist-packages/torch/utils/data/dataloader.py:481: UserWarning: This DataLoader will create 4 worker processes in total. Our suggested max number of worker in current system is 2, which is smaller than what this DataLoader is going to create. Please be aware that excessive worker creation might get DataLoader running slow or even freeze, lower the worker number to avoid potential slowness/freeze if necessary.\n",
            "  cpuset_checked))\n"
          ]
        },
        {
          "output_type": "stream",
          "name": "stdout",
          "text": [
            "Epoch 13 Step 59 ave_loss 0.0151\n",
            "Epoch 13 Step 119 ave_loss 0.0068\n",
            "Epoch 13 Step 179 ave_loss 0.0011\n",
            "Test model\n",
            "----------\n",
            "\n",
            "Evaluation completed in 0m 16s\n",
            "----------\n",
            "Test report: \n",
            "               precision    recall  f1-score   support\n",
            "\n",
            "          2C       0.67      0.99      0.80       409\n",
            "          3C       0.87      0.87      0.87       367\n",
            "          4C       0.97      0.74      0.84       831\n",
            "\n",
            "    accuracy                           0.83      1607\n",
            "   macro avg       0.84      0.87      0.84      1607\n",
            "weighted avg       0.87      0.83      0.84      1607\n",
            "\n",
            "---------------------------------------------------------------\n",
            "\n",
            "Epoch 14 report: \n",
            "Train model\n",
            "----------\n"
          ]
        },
        {
          "output_type": "stream",
          "name": "stderr",
          "text": [
            "/usr/local/lib/python3.7/dist-packages/torch/utils/data/dataloader.py:481: UserWarning: This DataLoader will create 4 worker processes in total. Our suggested max number of worker in current system is 2, which is smaller than what this DataLoader is going to create. Please be aware that excessive worker creation might get DataLoader running slow or even freeze, lower the worker number to avoid potential slowness/freeze if necessary.\n",
            "  cpuset_checked))\n"
          ]
        },
        {
          "output_type": "stream",
          "name": "stdout",
          "text": [
            "Epoch 14 Step 59 ave_loss 0.0359\n",
            "Epoch 14 Step 119 ave_loss 0.0288\n",
            "Epoch 14 Step 179 ave_loss 0.0162\n",
            "Test model\n",
            "----------\n",
            "\n",
            "Evaluation completed in 0m 16s\n",
            "----------\n",
            "Test report: \n",
            "               precision    recall  f1-score   support\n",
            "\n",
            "          2C       0.74      0.99      0.85       409\n",
            "          3C       0.81      0.86      0.83       367\n",
            "          4C       0.97      0.78      0.87       831\n",
            "\n",
            "    accuracy                           0.85      1607\n",
            "   macro avg       0.84      0.88      0.85      1607\n",
            "weighted avg       0.87      0.85      0.85      1607\n",
            "\n",
            "---------------------------------------------------------------\n",
            "\n",
            "Epoch 15 report: \n",
            "Train model\n",
            "----------\n"
          ]
        },
        {
          "output_type": "stream",
          "name": "stderr",
          "text": [
            "/usr/local/lib/python3.7/dist-packages/torch/utils/data/dataloader.py:481: UserWarning: This DataLoader will create 4 worker processes in total. Our suggested max number of worker in current system is 2, which is smaller than what this DataLoader is going to create. Please be aware that excessive worker creation might get DataLoader running slow or even freeze, lower the worker number to avoid potential slowness/freeze if necessary.\n",
            "  cpuset_checked))\n"
          ]
        },
        {
          "output_type": "stream",
          "name": "stdout",
          "text": [
            "Epoch 15 Step 59 ave_loss 0.0115\n",
            "Epoch 15 Step 119 ave_loss 0.0196\n",
            "Epoch 15 Step 179 ave_loss 0.0116\n",
            "Test model\n",
            "----------\n",
            "\n",
            "Evaluation completed in 0m 16s\n",
            "----------\n",
            "Test report: \n",
            "               precision    recall  f1-score   support\n",
            "\n",
            "          2C       0.51      0.95      0.67       409\n",
            "          3C       0.91      0.89      0.90       367\n",
            "          4C       0.99      0.59      0.74       831\n",
            "\n",
            "    accuracy                           0.75      1607\n",
            "   macro avg       0.81      0.81      0.77      1607\n",
            "weighted avg       0.85      0.75      0.76      1607\n",
            "\n",
            "---------------------------------------------------------------\n",
            "\n",
            "Epoch 16 report: \n",
            "Train model\n",
            "----------\n"
          ]
        },
        {
          "output_type": "stream",
          "name": "stderr",
          "text": [
            "/usr/local/lib/python3.7/dist-packages/torch/utils/data/dataloader.py:481: UserWarning: This DataLoader will create 4 worker processes in total. Our suggested max number of worker in current system is 2, which is smaller than what this DataLoader is going to create. Please be aware that excessive worker creation might get DataLoader running slow or even freeze, lower the worker number to avoid potential slowness/freeze if necessary.\n",
            "  cpuset_checked))\n"
          ]
        },
        {
          "output_type": "stream",
          "name": "stdout",
          "text": [
            "Epoch 16 Step 59 ave_loss 0.0233\n",
            "Epoch 16 Step 119 ave_loss 0.0164\n",
            "Epoch 16 Step 179 ave_loss 0.0196\n",
            "Test model\n",
            "----------\n",
            "\n",
            "Evaluation completed in 0m 16s\n",
            "----------\n",
            "Test report: \n",
            "               precision    recall  f1-score   support\n",
            "\n",
            "          2C       0.79      0.82      0.80       409\n",
            "          3C       0.72      0.96      0.83       367\n",
            "          4C       0.97      0.80      0.88       831\n",
            "\n",
            "    accuracy                           0.85      1607\n",
            "   macro avg       0.83      0.86      0.84      1607\n",
            "weighted avg       0.87      0.85      0.85      1607\n",
            "\n",
            "---------------------------------------------------------------\n",
            "\n",
            "Epoch 17 report: \n",
            "Train model\n",
            "----------\n"
          ]
        },
        {
          "output_type": "stream",
          "name": "stderr",
          "text": [
            "/usr/local/lib/python3.7/dist-packages/torch/utils/data/dataloader.py:481: UserWarning: This DataLoader will create 4 worker processes in total. Our suggested max number of worker in current system is 2, which is smaller than what this DataLoader is going to create. Please be aware that excessive worker creation might get DataLoader running slow or even freeze, lower the worker number to avoid potential slowness/freeze if necessary.\n",
            "  cpuset_checked))\n"
          ]
        },
        {
          "output_type": "stream",
          "name": "stdout",
          "text": [
            "Epoch 17 Step 59 ave_loss 0.0093\n",
            "Epoch 17 Step 119 ave_loss 0.0270\n",
            "Epoch 17 Step 179 ave_loss 0.0177\n",
            "Test model\n",
            "----------\n",
            "\n",
            "Evaluation completed in 0m 16s\n",
            "----------\n",
            "Test report: \n",
            "               precision    recall  f1-score   support\n",
            "\n",
            "          2C       0.79      0.95      0.87       409\n",
            "          3C       0.70      0.96      0.81       367\n",
            "          4C       0.99      0.73      0.84       831\n",
            "\n",
            "    accuracy                           0.84      1607\n",
            "   macro avg       0.83      0.88      0.84      1607\n",
            "weighted avg       0.87      0.84      0.84      1607\n",
            "\n",
            "---------------------------------------------------------------\n",
            "\n",
            "Epoch 18 report: \n",
            "Train model\n",
            "----------\n"
          ]
        },
        {
          "output_type": "stream",
          "name": "stderr",
          "text": [
            "/usr/local/lib/python3.7/dist-packages/torch/utils/data/dataloader.py:481: UserWarning: This DataLoader will create 4 worker processes in total. Our suggested max number of worker in current system is 2, which is smaller than what this DataLoader is going to create. Please be aware that excessive worker creation might get DataLoader running slow or even freeze, lower the worker number to avoid potential slowness/freeze if necessary.\n",
            "  cpuset_checked))\n"
          ]
        },
        {
          "output_type": "stream",
          "name": "stdout",
          "text": [
            "Epoch 18 Step 59 ave_loss 0.0143\n",
            "Epoch 18 Step 119 ave_loss 0.0055\n",
            "Epoch 18 Step 179 ave_loss 0.0037\n",
            "Test model\n",
            "----------\n",
            "\n",
            "Evaluation completed in 0m 16s\n",
            "----------\n",
            "Test report: \n",
            "               precision    recall  f1-score   support\n",
            "\n",
            "          2C       0.72      0.99      0.83       409\n",
            "          3C       0.71      0.89      0.79       367\n",
            "          4C       0.97      0.67      0.79       831\n",
            "\n",
            "    accuracy                           0.80      1607\n",
            "   macro avg       0.80      0.85      0.80      1607\n",
            "weighted avg       0.84      0.80      0.80      1607\n",
            "\n",
            "---------------------------------------------------------------\n",
            "\n",
            "Epoch 19 report: \n",
            "Train model\n",
            "----------\n"
          ]
        },
        {
          "output_type": "stream",
          "name": "stderr",
          "text": [
            "/usr/local/lib/python3.7/dist-packages/torch/utils/data/dataloader.py:481: UserWarning: This DataLoader will create 4 worker processes in total. Our suggested max number of worker in current system is 2, which is smaller than what this DataLoader is going to create. Please be aware that excessive worker creation might get DataLoader running slow or even freeze, lower the worker number to avoid potential slowness/freeze if necessary.\n",
            "  cpuset_checked))\n"
          ]
        },
        {
          "output_type": "stream",
          "name": "stdout",
          "text": [
            "Epoch 19 Step 59 ave_loss 0.0215\n",
            "Epoch 19 Step 119 ave_loss 0.0176\n",
            "Epoch 19 Step 179 ave_loss 0.0218\n",
            "Test model\n",
            "----------\n",
            "\n",
            "Evaluation completed in 0m 16s\n",
            "----------\n",
            "Test report: \n",
            "               precision    recall  f1-score   support\n",
            "\n",
            "          2C       0.73      0.95      0.83       409\n",
            "          3C       0.83      0.94      0.88       367\n",
            "          4C       0.99      0.79      0.88       831\n",
            "\n",
            "    accuracy                           0.86      1607\n",
            "   macro avg       0.85      0.89      0.86      1607\n",
            "weighted avg       0.89      0.86      0.87      1607\n",
            "\n",
            "model: vgg16 , size: 224 , augmentation: aug\n",
            "accr:  [55, 75, 73, 73, 79, 74, 77, 76, 77, 73, 75, 82, 83, 83, 85, 74, 84, 84, 80, 86]\n",
            "loss:  [0.9579, 0.4552, 0.5349, 0.1296, 0.0796, 0.1106, 0.0222, 0.1708, 0.0425, 0.1125, 0.0103, 0.0004, 0.0034, 0.1488, 0.007, 0.0168, 0.0324, 0.0001, 0.0, 0.0017]\n",
            "Number of Image in train set: 6717\n",
            "Number of Image in test set: 1607\n",
            "Num batch in train set:  210\n",
            "Num batch in test set:  51\n"
          ]
        },
        {
          "output_type": "stream",
          "name": "stderr",
          "text": [
            "/usr/local/lib/python3.7/dist-packages/torch/utils/data/dataloader.py:481: UserWarning: This DataLoader will create 4 worker processes in total. Our suggested max number of worker in current system is 2, which is smaller than what this DataLoader is going to create. Please be aware that excessive worker creation might get DataLoader running slow or even freeze, lower the worker number to avoid potential slowness/freeze if necessary.\n",
            "  cpuset_checked))\n"
          ]
        },
        {
          "output_type": "stream",
          "name": "stdout",
          "text": [
            "['2C', '3C', '3C', '4C', '2C', '2C', '4C', '3C']\n",
            "['4C', '4C', '2C', '4C', '4C', '3C', '4C', '2C']\n",
            "['4C', '2C', '2C', '2C', '2C', '4C', '2C', '4C']\n",
            "['2C', '4C', '4C', '4C', '4C', '3C', '4C', '3C']\n"
          ]
        },
        {
          "output_type": "display_data",
          "data": {
            "image/png": "[encoded data removed]",
            "text/plain": [
              "<Figure size 432x288 with 1 Axes>"
            ]
          },
          "metadata": {
            "needs_background": "light"
          }
        },
        {
          "output_type": "stream",
          "name": "stdout",
          "text": [
            "image size:  torch.Size([3, 224, 224])\n",
            "device: cuda\n",
            "model: resnet18\n",
            "---------------------------------------------------------------\n",
            "\n",
            "Epoch 0 report: \n",
            "Train model\n",
            "----------\n",
            "Epoch 0 Step 59 ave_loss 1.0716\n",
            "Epoch 0 Step 119 ave_loss 0.8676\n",
            "Epoch 0 Step 179 ave_loss 0.5676\n",
            "Test model\n",
            "----------\n",
            "\n",
            "Evaluation completed in 0m 12s\n",
            "----------\n",
            "Test report: \n",
            "               precision    recall  f1-score   support\n",
            "\n",
            "          2C       1.00      0.09      0.17       409\n",
            "          3C       0.67      0.14      0.24       367\n",
            "          4C       0.56      1.00      0.72       831\n",
            "\n",
            "    accuracy                           0.57      1607\n",
            "   macro avg       0.74      0.41      0.37      1607\n",
            "weighted avg       0.70      0.57      0.47      1607\n",
            "\n",
            "---------------------------------------------------------------\n",
            "\n",
            "Epoch 1 report: \n",
            "Train model\n",
            "----------\n"
          ]
        },
        {
          "output_type": "stream",
          "name": "stderr",
          "text": [
            "/usr/local/lib/python3.7/dist-packages/torch/utils/data/dataloader.py:481: UserWarning: This DataLoader will create 4 worker processes in total. Our suggested max number of worker in current system is 2, which is smaller than what this DataLoader is going to create. Please be aware that excessive worker creation might get DataLoader running slow or even freeze, lower the worker number to avoid potential slowness/freeze if necessary.\n",
            "  cpuset_checked))\n"
          ]
        },
        {
          "output_type": "stream",
          "name": "stdout",
          "text": [
            "Epoch 1 Step 59 ave_loss 0.4732\n",
            "Epoch 1 Step 119 ave_loss 0.3298\n",
            "Epoch 1 Step 179 ave_loss 0.2819\n",
            "Test model\n",
            "----------\n",
            "\n",
            "Evaluation completed in 0m 12s\n",
            "----------\n",
            "Test report: \n",
            "               precision    recall  f1-score   support\n",
            "\n",
            "          2C       0.56      0.70      0.62       409\n",
            "          3C       1.00      0.16      0.27       367\n",
            "          4C       0.65      0.81      0.72       831\n",
            "\n",
            "    accuracy                           0.63      1607\n",
            "   macro avg       0.74      0.56      0.54      1607\n",
            "weighted avg       0.71      0.63      0.59      1607\n",
            "\n",
            "---------------------------------------------------------------\n",
            "\n",
            "Epoch 2 report: \n",
            "Train model\n",
            "----------\n"
          ]
        },
        {
          "output_type": "stream",
          "name": "stderr",
          "text": [
            "/usr/local/lib/python3.7/dist-packages/torch/utils/data/dataloader.py:481: UserWarning: This DataLoader will create 4 worker processes in total. Our suggested max number of worker in current system is 2, which is smaller than what this DataLoader is going to create. Please be aware that excessive worker creation might get DataLoader running slow or even freeze, lower the worker number to avoid potential slowness/freeze if necessary.\n",
            "  cpuset_checked))\n"
          ]
        },
        {
          "output_type": "stream",
          "name": "stdout",
          "text": [
            "Epoch 2 Step 59 ave_loss 0.1646\n",
            "Epoch 2 Step 119 ave_loss 0.1422\n",
            "Epoch 2 Step 179 ave_loss 0.1628\n",
            "Test model\n",
            "----------\n",
            "\n",
            "Evaluation completed in 0m 12s\n",
            "----------\n",
            "Test report: \n",
            "               precision    recall  f1-score   support\n",
            "\n",
            "          2C       0.62      0.85      0.72       409\n",
            "          3C       0.86      0.34      0.49       367\n",
            "          4C       0.77      0.82      0.79       831\n",
            "\n",
            "    accuracy                           0.72      1607\n",
            "   macro avg       0.75      0.67      0.67      1607\n",
            "weighted avg       0.75      0.72      0.70      1607\n",
            "\n",
            "---------------------------------------------------------------\n",
            "\n",
            "Epoch 3 report: \n",
            "Train model\n",
            "----------\n"
          ]
        },
        {
          "output_type": "stream",
          "name": "stderr",
          "text": [
            "/usr/local/lib/python3.7/dist-packages/torch/utils/data/dataloader.py:481: UserWarning: This DataLoader will create 4 worker processes in total. Our suggested max number of worker in current system is 2, which is smaller than what this DataLoader is going to create. Please be aware that excessive worker creation might get DataLoader running slow or even freeze, lower the worker number to avoid potential slowness/freeze if necessary.\n",
            "  cpuset_checked))\n"
          ]
        },
        {
          "output_type": "stream",
          "name": "stdout",
          "text": [
            "Epoch 3 Step 59 ave_loss 0.1778\n",
            "Epoch 3 Step 119 ave_loss 0.1016\n",
            "Epoch 3 Step 179 ave_loss 0.0767\n",
            "Test model\n",
            "----------\n",
            "\n",
            "Evaluation completed in 0m 12s\n",
            "----------\n",
            "Test report: \n",
            "               precision    recall  f1-score   support\n",
            "\n",
            "          2C       1.00      0.34      0.51       409\n",
            "          3C       0.29      1.00      0.45       367\n",
            "          4C       1.00      0.24      0.38       831\n",
            "\n",
            "    accuracy                           0.44      1607\n",
            "   macro avg       0.76      0.53      0.45      1607\n",
            "weighted avg       0.84      0.44      0.43      1607\n",
            "\n",
            "---------------------------------------------------------------\n",
            "\n",
            "Epoch 4 report: \n",
            "Train model\n",
            "----------\n"
          ]
        },
        {
          "output_type": "stream",
          "name": "stderr",
          "text": [
            "/usr/local/lib/python3.7/dist-packages/torch/utils/data/dataloader.py:481: UserWarning: This DataLoader will create 4 worker processes in total. Our suggested max number of worker in current system is 2, which is smaller than what this DataLoader is going to create. Please be aware that excessive worker creation might get DataLoader running slow or even freeze, lower the worker number to avoid potential slowness/freeze if necessary.\n",
            "  cpuset_checked))\n"
          ]
        },
        {
          "output_type": "stream",
          "name": "stdout",
          "text": [
            "Epoch 4 Step 59 ave_loss 0.0449\n",
            "Epoch 4 Step 119 ave_loss 0.0413\n",
            "Epoch 4 Step 179 ave_loss 0.0448\n",
            "Test model\n",
            "----------\n",
            "\n",
            "Evaluation completed in 0m 12s\n",
            "----------\n",
            "Test report: \n",
            "               precision    recall  f1-score   support\n",
            "\n",
            "          2C       0.76      0.69      0.72       409\n",
            "          3C       0.85      0.16      0.27       367\n",
            "          4C       0.70      0.97      0.81       831\n",
            "\n",
            "    accuracy                           0.72      1607\n",
            "   macro avg       0.77      0.61      0.60      1607\n",
            "weighted avg       0.75      0.72      0.67      1607\n",
            "\n",
            "---------------------------------------------------------------\n",
            "\n",
            "Epoch 5 report: \n",
            "Train model\n",
            "----------\n"
          ]
        },
        {
          "output_type": "stream",
          "name": "stderr",
          "text": [
            "/usr/local/lib/python3.7/dist-packages/torch/utils/data/dataloader.py:481: UserWarning: This DataLoader will create 4 worker processes in total. Our suggested max number of worker in current system is 2, which is smaller than what this DataLoader is going to create. Please be aware that excessive worker creation might get DataLoader running slow or even freeze, lower the worker number to avoid potential slowness/freeze if necessary.\n",
            "  cpuset_checked))\n"
          ]
        },
        {
          "output_type": "stream",
          "name": "stdout",
          "text": [
            "Epoch 5 Step 59 ave_loss 0.0876\n",
            "Epoch 5 Step 119 ave_loss 0.0654\n",
            "Epoch 5 Step 179 ave_loss 0.0804\n",
            "Test model\n",
            "----------\n",
            "\n",
            "Evaluation completed in 0m 12s\n",
            "----------\n",
            "Test report: \n",
            "               precision    recall  f1-score   support\n",
            "\n",
            "          2C       0.70      0.97      0.81       409\n",
            "          3C       0.86      0.85      0.86       367\n",
            "          4C       0.99      0.81      0.89       831\n",
            "\n",
            "    accuracy                           0.86      1607\n",
            "   macro avg       0.85      0.87      0.85      1607\n",
            "weighted avg       0.88      0.86      0.86      1607\n",
            "\n",
            "---------------------------------------------------------------\n",
            "\n",
            "Epoch 6 report: \n",
            "Train model\n",
            "----------\n"
          ]
        },
        {
          "output_type": "stream",
          "name": "stderr",
          "text": [
            "/usr/local/lib/python3.7/dist-packages/torch/utils/data/dataloader.py:481: UserWarning: This DataLoader will create 4 worker processes in total. Our suggested max number of worker in current system is 2, which is smaller than what this DataLoader is going to create. Please be aware that excessive worker creation might get DataLoader running slow or even freeze, lower the worker number to avoid potential slowness/freeze if necessary.\n",
            "  cpuset_checked))\n"
          ]
        },
        {
          "output_type": "stream",
          "name": "stdout",
          "text": [
            "Epoch 6 Step 59 ave_loss 0.0317\n",
            "Epoch 6 Step 119 ave_loss 0.0445\n",
            "Epoch 6 Step 179 ave_loss 0.0261\n",
            "Test model\n",
            "----------\n",
            "\n",
            "Evaluation completed in 0m 12s\n",
            "----------\n",
            "Test report: \n",
            "               precision    recall  f1-score   support\n",
            "\n",
            "          2C       0.86      0.87      0.86       409\n",
            "          3C       0.83      0.70      0.76       367\n",
            "          4C       0.88      0.94      0.90       831\n",
            "\n",
            "    accuracy                           0.86      1607\n",
            "   macro avg       0.86      0.83      0.84      1607\n",
            "weighted avg       0.86      0.86      0.86      1607\n",
            "\n",
            "---------------------------------------------------------------\n",
            "\n",
            "Epoch 7 report: \n",
            "Train model\n",
            "----------\n"
          ]
        },
        {
          "output_type": "stream",
          "name": "stderr",
          "text": [
            "/usr/local/lib/python3.7/dist-packages/torch/utils/data/dataloader.py:481: UserWarning: This DataLoader will create 4 worker processes in total. Our suggested max number of worker in current system is 2, which is smaller than what this DataLoader is going to create. Please be aware that excessive worker creation might get DataLoader running slow or even freeze, lower the worker number to avoid potential slowness/freeze if necessary.\n",
            "  cpuset_checked))\n"
          ]
        },
        {
          "output_type": "stream",
          "name": "stdout",
          "text": [
            "Epoch 7 Step 59 ave_loss 0.0314\n",
            "Epoch 7 Step 119 ave_loss 0.0181\n",
            "Epoch 7 Step 179 ave_loss 0.0595\n",
            "Test model\n",
            "----------\n",
            "\n",
            "Evaluation completed in 0m 12s\n",
            "----------\n",
            "Test report: \n",
            "               precision    recall  f1-score   support\n",
            "\n",
            "          2C       0.69      0.90      0.78       409\n",
            "          3C       0.89      0.63      0.74       367\n",
            "          4C       0.84      0.83      0.83       831\n",
            "\n",
            "    accuracy                           0.80      1607\n",
            "   macro avg       0.81      0.78      0.78      1607\n",
            "weighted avg       0.81      0.80      0.80      1607\n",
            "\n",
            "---------------------------------------------------------------\n",
            "\n",
            "Epoch 8 report: \n",
            "Train model\n",
            "----------\n"
          ]
        },
        {
          "output_type": "stream",
          "name": "stderr",
          "text": [
            "/usr/local/lib/python3.7/dist-packages/torch/utils/data/dataloader.py:481: UserWarning: This DataLoader will create 4 worker processes in total. Our suggested max number of worker in current system is 2, which is smaller than what this DataLoader is going to create. Please be aware that excessive worker creation might get DataLoader running slow or even freeze, lower the worker number to avoid potential slowness/freeze if necessary.\n",
            "  cpuset_checked))\n"
          ]
        },
        {
          "output_type": "stream",
          "name": "stdout",
          "text": [
            "Epoch 8 Step 59 ave_loss 0.0703\n",
            "Epoch 8 Step 119 ave_loss 0.0216\n",
            "Epoch 8 Step 179 ave_loss 0.0091\n",
            "Test model\n",
            "----------\n",
            "\n",
            "Evaluation completed in 0m 12s\n",
            "----------\n",
            "Test report: \n",
            "               precision    recall  f1-score   support\n",
            "\n",
            "          2C       0.77      0.95      0.85       409\n",
            "          3C       0.81      0.81      0.81       367\n",
            "          4C       0.94      0.83      0.88       831\n",
            "\n",
            "    accuracy                           0.86      1607\n",
            "   macro avg       0.84      0.86      0.85      1607\n",
            "weighted avg       0.87      0.86      0.86      1607\n",
            "\n",
            "---------------------------------------------------------------\n",
            "\n",
            "Epoch 9 report: \n",
            "Train model\n",
            "----------\n"
          ]
        },
        {
          "output_type": "stream",
          "name": "stderr",
          "text": [
            "/usr/local/lib/python3.7/dist-packages/torch/utils/data/dataloader.py:481: UserWarning: This DataLoader will create 4 worker processes in total. Our suggested max number of worker in current system is 2, which is smaller than what this DataLoader is going to create. Please be aware that excessive worker creation might get DataLoader running slow or even freeze, lower the worker number to avoid potential slowness/freeze if necessary.\n",
            "  cpuset_checked))\n"
          ]
        },
        {
          "output_type": "stream",
          "name": "stdout",
          "text": [
            "Epoch 9 Step 59 ave_loss 0.0196\n",
            "Epoch 9 Step 119 ave_loss 0.0214\n",
            "Epoch 9 Step 179 ave_loss 0.0115\n",
            "Test model\n",
            "----------\n",
            "\n",
            "Evaluation completed in 0m 12s\n",
            "----------\n",
            "Test report: \n",
            "               precision    recall  f1-score   support\n",
            "\n",
            "          2C       0.97      0.93      0.95       409\n",
            "          3C       0.80      0.89      0.84       367\n",
            "          4C       0.94      0.92      0.93       831\n",
            "\n",
            "    accuracy                           0.91      1607\n",
            "   macro avg       0.90      0.91      0.91      1607\n",
            "weighted avg       0.92      0.91      0.91      1607\n",
            "\n",
            "---------------------------------------------------------------\n",
            "\n",
            "Epoch 10 report: \n",
            "Train model\n",
            "----------\n"
          ]
        },
        {
          "output_type": "stream",
          "name": "stderr",
          "text": [
            "/usr/local/lib/python3.7/dist-packages/torch/utils/data/dataloader.py:481: UserWarning: This DataLoader will create 4 worker processes in total. Our suggested max number of worker in current system is 2, which is smaller than what this DataLoader is going to create. Please be aware that excessive worker creation might get DataLoader running slow or even freeze, lower the worker number to avoid potential slowness/freeze if necessary.\n",
            "  cpuset_checked))\n"
          ]
        },
        {
          "output_type": "stream",
          "name": "stdout",
          "text": [
            "Epoch 10 Step 59 ave_loss 0.0278\n",
            "Epoch 10 Step 119 ave_loss 0.0275\n",
            "Epoch 10 Step 179 ave_loss 0.0210\n",
            "Test model\n",
            "----------\n",
            "\n",
            "Evaluation completed in 0m 13s\n",
            "----------\n",
            "Test report: \n",
            "               precision    recall  f1-score   support\n",
            "\n",
            "          2C       0.75      0.99      0.85       409\n",
            "          3C       0.77      0.75      0.76       367\n",
            "          4C       0.91      0.77      0.84       831\n",
            "\n",
            "    accuracy                           0.82      1607\n",
            "   macro avg       0.81      0.84      0.81      1607\n",
            "weighted avg       0.83      0.82      0.82      1607\n",
            "\n",
            "---------------------------------------------------------------\n",
            "\n",
            "Epoch 11 report: \n",
            "Train model\n",
            "----------\n"
          ]
        },
        {
          "output_type": "stream",
          "name": "stderr",
          "text": [
            "/usr/local/lib/python3.7/dist-packages/torch/utils/data/dataloader.py:481: UserWarning: This DataLoader will create 4 worker processes in total. Our suggested max number of worker in current system is 2, which is smaller than what this DataLoader is going to create. Please be aware that excessive worker creation might get DataLoader running slow or even freeze, lower the worker number to avoid potential slowness/freeze if necessary.\n",
            "  cpuset_checked))\n"
          ]
        },
        {
          "output_type": "stream",
          "name": "stdout",
          "text": [
            "Epoch 11 Step 59 ave_loss 0.0220\n",
            "Epoch 11 Step 119 ave_loss 0.0232\n",
            "Epoch 11 Step 179 ave_loss 0.0172\n",
            "Test model\n",
            "----------\n",
            "\n",
            "Evaluation completed in 0m 12s\n",
            "----------\n",
            "Test report: \n",
            "               precision    recall  f1-score   support\n",
            "\n",
            "          2C       0.87      0.93      0.90       409\n",
            "          3C       0.71      0.86      0.78       367\n",
            "          4C       0.95      0.83      0.89       831\n",
            "\n",
            "    accuracy                           0.86      1607\n",
            "   macro avg       0.84      0.87      0.86      1607\n",
            "weighted avg       0.88      0.86      0.87      1607\n",
            "\n",
            "---------------------------------------------------------------\n",
            "\n",
            "Epoch 12 report: \n",
            "Train model\n",
            "----------\n"
          ]
        },
        {
          "output_type": "stream",
          "name": "stderr",
          "text": [
            "/usr/local/lib/python3.7/dist-packages/torch/utils/data/dataloader.py:481: UserWarning: This DataLoader will create 4 worker processes in total. Our suggested max number of worker in current system is 2, which is smaller than what this DataLoader is going to create. Please be aware that excessive worker creation might get DataLoader running slow or even freeze, lower the worker number to avoid potential slowness/freeze if necessary.\n",
            "  cpuset_checked))\n"
          ]
        },
        {
          "output_type": "stream",
          "name": "stdout",
          "text": [
            "Epoch 12 Step 59 ave_loss 0.0211\n",
            "Epoch 12 Step 119 ave_loss 0.0169\n",
            "Epoch 12 Step 179 ave_loss 0.0173\n",
            "Test model\n",
            "----------\n",
            "\n",
            "Evaluation completed in 0m 13s\n",
            "----------\n",
            "Test report: \n",
            "               precision    recall  f1-score   support\n",
            "\n",
            "          2C       0.87      0.97      0.91       409\n",
            "          3C       0.94      0.85      0.89       367\n",
            "          4C       0.94      0.93      0.94       831\n",
            "\n",
            "    accuracy                           0.92      1607\n",
            "   macro avg       0.92      0.92      0.91      1607\n",
            "weighted avg       0.92      0.92      0.92      1607\n",
            "\n",
            "---------------------------------------------------------------\n",
            "\n",
            "Epoch 13 report: \n",
            "Train model\n",
            "----------\n"
          ]
        },
        {
          "output_type": "stream",
          "name": "stderr",
          "text": [
            "/usr/local/lib/python3.7/dist-packages/torch/utils/data/dataloader.py:481: UserWarning: This DataLoader will create 4 worker processes in total. Our suggested max number of worker in current system is 2, which is smaller than what this DataLoader is going to create. Please be aware that excessive worker creation might get DataLoader running slow or even freeze, lower the worker number to avoid potential slowness/freeze if necessary.\n",
            "  cpuset_checked))\n"
          ]
        },
        {
          "output_type": "stream",
          "name": "stdout",
          "text": [
            "Epoch 13 Step 59 ave_loss 0.0039\n",
            "Epoch 13 Step 119 ave_loss 0.0236\n",
            "Epoch 13 Step 179 ave_loss 0.0113\n",
            "Test model\n",
            "----------\n",
            "\n",
            "Evaluation completed in 0m 12s\n",
            "----------\n",
            "Test report: \n",
            "               precision    recall  f1-score   support\n",
            "\n",
            "          2C       0.90      0.98      0.94       409\n",
            "          3C       0.78      0.91      0.84       367\n",
            "          4C       0.96      0.84      0.90       831\n",
            "\n",
            "    accuracy                           0.89      1607\n",
            "   macro avg       0.88      0.91      0.89      1607\n",
            "weighted avg       0.90      0.89      0.89      1607\n",
            "\n",
            "---------------------------------------------------------------\n",
            "\n",
            "Epoch 14 report: \n",
            "Train model\n",
            "----------\n"
          ]
        },
        {
          "output_type": "stream",
          "name": "stderr",
          "text": [
            "/usr/local/lib/python3.7/dist-packages/torch/utils/data/dataloader.py:481: UserWarning: This DataLoader will create 4 worker processes in total. Our suggested max number of worker in current system is 2, which is smaller than what this DataLoader is going to create. Please be aware that excessive worker creation might get DataLoader running slow or even freeze, lower the worker number to avoid potential slowness/freeze if necessary.\n",
            "  cpuset_checked))\n"
          ]
        },
        {
          "output_type": "stream",
          "name": "stdout",
          "text": [
            "Epoch 14 Step 59 ave_loss 0.0019\n",
            "Epoch 14 Step 119 ave_loss 0.0041\n",
            "Epoch 14 Step 179 ave_loss 0.0133\n",
            "Test model\n",
            "----------\n",
            "\n",
            "Evaluation completed in 0m 12s\n",
            "----------\n",
            "Test report: \n",
            "               precision    recall  f1-score   support\n",
            "\n",
            "          2C       0.86      0.72      0.78       409\n",
            "          3C       0.58      0.93      0.71       367\n",
            "          4C       0.97      0.79      0.87       831\n",
            "\n",
            "    accuracy                           0.80      1607\n",
            "   macro avg       0.80      0.81      0.79      1607\n",
            "weighted avg       0.85      0.80      0.81      1607\n",
            "\n",
            "---------------------------------------------------------------\n",
            "\n",
            "Epoch 15 report: \n",
            "Train model\n",
            "----------\n"
          ]
        },
        {
          "output_type": "stream",
          "name": "stderr",
          "text": [
            "/usr/local/lib/python3.7/dist-packages/torch/utils/data/dataloader.py:481: UserWarning: This DataLoader will create 4 worker processes in total. Our suggested max number of worker in current system is 2, which is smaller than what this DataLoader is going to create. Please be aware that excessive worker creation might get DataLoader running slow or even freeze, lower the worker number to avoid potential slowness/freeze if necessary.\n",
            "  cpuset_checked))\n"
          ]
        },
        {
          "output_type": "stream",
          "name": "stdout",
          "text": [
            "Epoch 15 Step 59 ave_loss 0.0028\n",
            "Epoch 15 Step 119 ave_loss 0.0035\n",
            "Epoch 15 Step 179 ave_loss 0.0056\n",
            "Test model\n",
            "----------\n",
            "\n",
            "Evaluation completed in 0m 12s\n",
            "----------\n",
            "Test report: \n",
            "               precision    recall  f1-score   support\n",
            "\n",
            "          2C       0.86      0.70      0.77       409\n",
            "          3C       0.48      0.93      0.63       367\n",
            "          4C       0.99      0.66      0.79       831\n",
            "\n",
            "    accuracy                           0.73      1607\n",
            "   macro avg       0.78      0.76      0.73      1607\n",
            "weighted avg       0.84      0.73      0.75      1607\n",
            "\n",
            "---------------------------------------------------------------\n",
            "\n",
            "Epoch 16 report: \n",
            "Train model\n",
            "----------\n"
          ]
        },
        {
          "output_type": "stream",
          "name": "stderr",
          "text": [
            "/usr/local/lib/python3.7/dist-packages/torch/utils/data/dataloader.py:481: UserWarning: This DataLoader will create 4 worker processes in total. Our suggested max number of worker in current system is 2, which is smaller than what this DataLoader is going to create. Please be aware that excessive worker creation might get DataLoader running slow or even freeze, lower the worker number to avoid potential slowness/freeze if necessary.\n",
            "  cpuset_checked))\n"
          ]
        },
        {
          "output_type": "stream",
          "name": "stdout",
          "text": [
            "Epoch 16 Step 59 ave_loss 0.0051\n",
            "Epoch 16 Step 119 ave_loss 0.0150\n",
            "Epoch 16 Step 179 ave_loss 0.0163\n",
            "Test model\n",
            "----------\n",
            "\n",
            "Evaluation completed in 0m 12s\n",
            "----------\n",
            "Test report: \n",
            "               precision    recall  f1-score   support\n",
            "\n",
            "          2C       0.98      0.89      0.93       409\n",
            "          3C       0.84      0.85      0.85       367\n",
            "          4C       0.90      0.94      0.92       831\n",
            "\n",
            "    accuracy                           0.91      1607\n",
            "   macro avg       0.91      0.89      0.90      1607\n",
            "weighted avg       0.91      0.91      0.91      1607\n",
            "\n",
            "---------------------------------------------------------------\n",
            "\n",
            "Epoch 17 report: \n",
            "Train model\n",
            "----------\n"
          ]
        },
        {
          "output_type": "stream",
          "name": "stderr",
          "text": [
            "/usr/local/lib/python3.7/dist-packages/torch/utils/data/dataloader.py:481: UserWarning: This DataLoader will create 4 worker processes in total. Our suggested max number of worker in current system is 2, which is smaller than what this DataLoader is going to create. Please be aware that excessive worker creation might get DataLoader running slow or even freeze, lower the worker number to avoid potential slowness/freeze if necessary.\n",
            "  cpuset_checked))\n"
          ]
        },
        {
          "output_type": "stream",
          "name": "stdout",
          "text": [
            "Epoch 17 Step 59 ave_loss 0.0048\n",
            "Epoch 17 Step 119 ave_loss 0.0052\n",
            "Epoch 17 Step 179 ave_loss 0.0041\n",
            "Test model\n",
            "----------\n",
            "\n",
            "Evaluation completed in 0m 12s\n",
            "----------\n",
            "Test report: \n",
            "               precision    recall  f1-score   support\n",
            "\n",
            "          2C       0.82      0.84      0.83       409\n",
            "          3C       0.73      0.89      0.80       367\n",
            "          4C       0.96      0.86      0.91       831\n",
            "\n",
            "    accuracy                           0.86      1607\n",
            "   macro avg       0.84      0.86      0.85      1607\n",
            "weighted avg       0.87      0.86      0.86      1607\n",
            "\n",
            "---------------------------------------------------------------\n",
            "\n",
            "Epoch 18 report: \n",
            "Train model\n",
            "----------\n"
          ]
        },
        {
          "output_type": "stream",
          "name": "stderr",
          "text": [
            "/usr/local/lib/python3.7/dist-packages/torch/utils/data/dataloader.py:481: UserWarning: This DataLoader will create 4 worker processes in total. Our suggested max number of worker in current system is 2, which is smaller than what this DataLoader is going to create. Please be aware that excessive worker creation might get DataLoader running slow or even freeze, lower the worker number to avoid potential slowness/freeze if necessary.\n",
            "  cpuset_checked))\n"
          ]
        },
        {
          "output_type": "stream",
          "name": "stdout",
          "text": [
            "Epoch 18 Step 59 ave_loss 0.0011\n",
            "Epoch 18 Step 119 ave_loss 0.0029\n",
            "Epoch 18 Step 179 ave_loss 0.0025\n",
            "Test model\n",
            "----------\n",
            "\n",
            "Evaluation completed in 0m 13s\n",
            "----------\n",
            "Test report: \n",
            "               precision    recall  f1-score   support\n",
            "\n",
            "          2C       0.78      0.92      0.85       409\n",
            "          3C       0.68      0.87      0.76       367\n",
            "          4C       0.98      0.78      0.86       831\n",
            "\n",
            "    accuracy                           0.83      1607\n",
            "   macro avg       0.81      0.85      0.83      1607\n",
            "weighted avg       0.86      0.83      0.84      1607\n",
            "\n",
            "---------------------------------------------------------------\n",
            "\n",
            "Epoch 19 report: \n",
            "Train model\n",
            "----------\n"
          ]
        },
        {
          "output_type": "stream",
          "name": "stderr",
          "text": [
            "/usr/local/lib/python3.7/dist-packages/torch/utils/data/dataloader.py:481: UserWarning: This DataLoader will create 4 worker processes in total. Our suggested max number of worker in current system is 2, which is smaller than what this DataLoader is going to create. Please be aware that excessive worker creation might get DataLoader running slow or even freeze, lower the worker number to avoid potential slowness/freeze if necessary.\n",
            "  cpuset_checked))\n"
          ]
        },
        {
          "output_type": "stream",
          "name": "stdout",
          "text": [
            "Epoch 19 Step 59 ave_loss 0.0065\n",
            "Epoch 19 Step 119 ave_loss 0.0272\n",
            "Epoch 19 Step 179 ave_loss 0.0217\n",
            "Test model\n",
            "----------\n",
            "\n",
            "Evaluation completed in 0m 12s\n",
            "----------\n",
            "Test report: \n",
            "               precision    recall  f1-score   support\n",
            "\n",
            "          2C       0.65      0.85      0.73       409\n",
            "          3C       0.67      0.94      0.78       367\n",
            "          4C       0.97      0.64      0.77       831\n",
            "\n",
            "    accuracy                           0.76      1607\n",
            "   macro avg       0.76      0.81      0.76      1607\n",
            "weighted avg       0.82      0.76      0.76      1607\n",
            "\n",
            "model: resnet18 , size: 224 , augmentation: aug\n",
            "accr:  [57, 63, 72, 43, 71, 85, 86, 79, 85, 91, 82, 86, 92, 89, 80, 73, 90, 86, 83, 76]\n",
            "loss:  [0.2991, 0.1185, 0.1725, 0.0734, 0.4411, 0.0106, 0.0442, 0.0133, 0.0805, 0.0391, 0.0008, 0.0045, 0.0014, 0.0006, 0.0002, 0.0109, 0.0001, 0.0003, 0.0, 0.0065]\n",
            "Number of Image in train set: 6717\n",
            "Number of Image in test set: 1607\n",
            "Num batch in train set:  210\n",
            "Num batch in test set:  51\n"
          ]
        },
        {
          "output_type": "stream",
          "name": "stderr",
          "text": [
            "/usr/local/lib/python3.7/dist-packages/torch/utils/data/dataloader.py:481: UserWarning: This DataLoader will create 4 worker processes in total. Our suggested max number of worker in current system is 2, which is smaller than what this DataLoader is going to create. Please be aware that excessive worker creation might get DataLoader running slow or even freeze, lower the worker number to avoid potential slowness/freeze if necessary.\n",
            "  cpuset_checked))\n"
          ]
        },
        {
          "output_type": "stream",
          "name": "stdout",
          "text": [
            "['3C', '2C', '4C', '2C', '3C', '2C', '2C', '4C']\n",
            "['2C', '4C', '3C', '2C', '3C', '4C', '4C', '4C']\n",
            "['3C', '3C', '3C', '2C', '3C', '3C', '2C', '2C']\n",
            "['4C', '3C', '3C', '3C', '2C', '3C', '3C', '3C']\n"
          ]
        },
        {
          "output_type": "display_data",
          "data": {
            "image/png": "[encoded data removed]",
            "text/plain": [
              "<Figure size 432x288 with 1 Axes>"
            ]
          },
          "metadata": {
            "needs_background": "light"
          }
        },
        {
          "output_type": "stream",
          "name": "stdout",
          "text": [
            "image size:  torch.Size([3, 224, 224])\n",
            "device: cuda\n",
            "model: resnet50\n",
            "---------------------------------------------------------------\n",
            "\n",
            "Epoch 0 report: \n",
            "Train model\n",
            "----------\n",
            "Epoch 0 Step 59 ave_loss 2.8599\n",
            "Epoch 0 Step 119 ave_loss 1.2892\n",
            "Epoch 0 Step 179 ave_loss 1.2764\n",
            "Test model\n",
            "----------\n",
            "\n",
            "Evaluation completed in 0m 14s\n",
            "----------\n",
            "Test report: \n",
            "               precision    recall  f1-score   support\n",
            "\n",
            "          2C       0.34      0.74      0.47       409\n",
            "          3C       0.00      0.00      0.00       367\n",
            "          4C       0.58      0.51      0.54       831\n",
            "\n",
            "    accuracy                           0.45      1607\n",
            "   macro avg       0.31      0.42      0.34      1607\n",
            "weighted avg       0.39      0.45      0.40      1607\n",
            "\n"
          ]
        },
        {
          "output_type": "stream",
          "name": "stderr",
          "text": [
            "/usr/local/lib/python3.7/dist-packages/sklearn/metrics/_classification.py:1308: UndefinedMetricWarning: Precision and F-score are ill-defined and being set to 0.0 in labels with no predicted samples. Use `zero_division` parameter to control this behavior.\n",
            "  _warn_prf(average, modifier, msg_start, len(result))\n",
            "/usr/local/lib/python3.7/dist-packages/sklearn/metrics/_classification.py:1308: UndefinedMetricWarning: Precision and F-score are ill-defined and being set to 0.0 in labels with no predicted samples. Use `zero_division` parameter to control this behavior.\n",
            "  _warn_prf(average, modifier, msg_start, len(result))\n",
            "/usr/local/lib/python3.7/dist-packages/sklearn/metrics/_classification.py:1308: UndefinedMetricWarning: Precision and F-score are ill-defined and being set to 0.0 in labels with no predicted samples. Use `zero_division` parameter to control this behavior.\n",
            "  _warn_prf(average, modifier, msg_start, len(result))\n"
          ]
        },
        {
          "output_type": "stream",
          "name": "stdout",
          "text": [
            "---------------------------------------------------------------\n",
            "\n",
            "Epoch 1 report: \n",
            "Train model\n",
            "----------\n"
          ]
        },
        {
          "output_type": "stream",
          "name": "stderr",
          "text": [
            "/usr/local/lib/python3.7/dist-packages/torch/utils/data/dataloader.py:481: UserWarning: This DataLoader will create 4 worker processes in total. Our suggested max number of worker in current system is 2, which is smaller than what this DataLoader is going to create. Please be aware that excessive worker creation might get DataLoader running slow or even freeze, lower the worker number to avoid potential slowness/freeze if necessary.\n",
            "  cpuset_checked))\n"
          ]
        },
        {
          "output_type": "stream",
          "name": "stdout",
          "text": [
            "Epoch 1 Step 59 ave_loss 1.0982\n",
            "Epoch 1 Step 119 ave_loss 0.9764\n",
            "Epoch 1 Step 179 ave_loss 0.8750\n",
            "Test model\n",
            "----------\n",
            "\n",
            "Evaluation completed in 0m 15s\n",
            "----------\n",
            "Test report: \n",
            "               precision    recall  f1-score   support\n",
            "\n",
            "          2C       0.20      0.18      0.19       409\n",
            "          3C       0.25      0.20      0.22       367\n",
            "          4C       0.68      0.79      0.73       831\n",
            "\n",
            "    accuracy                           0.50      1607\n",
            "   macro avg       0.38      0.39      0.38      1607\n",
            "weighted avg       0.46      0.50      0.48      1607\n",
            "\n",
            "---------------------------------------------------------------\n",
            "\n",
            "Epoch 2 report: \n",
            "Train model\n",
            "----------\n"
          ]
        },
        {
          "output_type": "stream",
          "name": "stderr",
          "text": [
            "/usr/local/lib/python3.7/dist-packages/torch/utils/data/dataloader.py:481: UserWarning: This DataLoader will create 4 worker processes in total. Our suggested max number of worker in current system is 2, which is smaller than what this DataLoader is going to create. Please be aware that excessive worker creation might get DataLoader running slow or even freeze, lower the worker number to avoid potential slowness/freeze if necessary.\n",
            "  cpuset_checked))\n"
          ]
        },
        {
          "output_type": "stream",
          "name": "stdout",
          "text": [
            "Epoch 2 Step 59 ave_loss 0.7817\n",
            "Epoch 2 Step 119 ave_loss 0.7124\n",
            "Epoch 2 Step 179 ave_loss 0.5848\n",
            "Test model\n",
            "----------\n",
            "\n",
            "Evaluation completed in 0m 14s\n",
            "----------\n",
            "Test report: \n",
            "               precision    recall  f1-score   support\n",
            "\n",
            "          2C       0.38      1.00      0.55       409\n",
            "          3C       0.40      0.35      0.37       367\n",
            "          4C       1.00      0.25      0.40       831\n",
            "\n",
            "    accuracy                           0.47      1607\n",
            "   macro avg       0.59      0.53      0.44      1607\n",
            "weighted avg       0.71      0.47      0.43      1607\n",
            "\n",
            "---------------------------------------------------------------\n",
            "\n",
            "Epoch 3 report: \n",
            "Train model\n",
            "----------\n"
          ]
        },
        {
          "output_type": "stream",
          "name": "stderr",
          "text": [
            "/usr/local/lib/python3.7/dist-packages/torch/utils/data/dataloader.py:481: UserWarning: This DataLoader will create 4 worker processes in total. Our suggested max number of worker in current system is 2, which is smaller than what this DataLoader is going to create. Please be aware that excessive worker creation might get DataLoader running slow or even freeze, lower the worker number to avoid potential slowness/freeze if necessary.\n",
            "  cpuset_checked))\n"
          ]
        },
        {
          "output_type": "stream",
          "name": "stdout",
          "text": [
            "Epoch 3 Step 59 ave_loss 0.4896\n",
            "Epoch 3 Step 119 ave_loss 0.4716\n",
            "Epoch 3 Step 179 ave_loss 0.3401\n",
            "Test model\n",
            "----------\n",
            "\n",
            "Evaluation completed in 0m 14s\n",
            "----------\n",
            "Test report: \n",
            "               precision    recall  f1-score   support\n",
            "\n",
            "          2C       0.53      0.76      0.62       409\n",
            "          3C       0.34      0.70      0.46       367\n",
            "          4C       0.98      0.32      0.49       831\n",
            "\n",
            "    accuracy                           0.52      1607\n",
            "   macro avg       0.62      0.59      0.52      1607\n",
            "weighted avg       0.72      0.52      0.52      1607\n",
            "\n",
            "---------------------------------------------------------------\n",
            "\n",
            "Epoch 4 report: \n",
            "Train model\n",
            "----------\n"
          ]
        },
        {
          "output_type": "stream",
          "name": "stderr",
          "text": [
            "/usr/local/lib/python3.7/dist-packages/torch/utils/data/dataloader.py:481: UserWarning: This DataLoader will create 4 worker processes in total. Our suggested max number of worker in current system is 2, which is smaller than what this DataLoader is going to create. Please be aware that excessive worker creation might get DataLoader running slow or even freeze, lower the worker number to avoid potential slowness/freeze if necessary.\n",
            "  cpuset_checked))\n"
          ]
        },
        {
          "output_type": "stream",
          "name": "stdout",
          "text": [
            "Epoch 4 Step 59 ave_loss 0.2732\n",
            "Epoch 4 Step 119 ave_loss 0.3087\n",
            "Epoch 4 Step 179 ave_loss 0.2294\n",
            "Test model\n",
            "----------\n",
            "\n",
            "Evaluation completed in 0m 15s\n",
            "----------\n",
            "Test report: \n",
            "               precision    recall  f1-score   support\n",
            "\n",
            "          2C       0.53      0.79      0.64       409\n",
            "          3C       0.52      0.74      0.61       367\n",
            "          4C       0.98      0.57      0.72       831\n",
            "\n",
            "    accuracy                           0.66      1607\n",
            "   macro avg       0.68      0.70      0.66      1607\n",
            "weighted avg       0.76      0.66      0.67      1607\n",
            "\n",
            "---------------------------------------------------------------\n",
            "\n",
            "Epoch 5 report: \n",
            "Train model\n",
            "----------\n"
          ]
        },
        {
          "output_type": "stream",
          "name": "stderr",
          "text": [
            "/usr/local/lib/python3.7/dist-packages/torch/utils/data/dataloader.py:481: UserWarning: This DataLoader will create 4 worker processes in total. Our suggested max number of worker in current system is 2, which is smaller than what this DataLoader is going to create. Please be aware that excessive worker creation might get DataLoader running slow or even freeze, lower the worker number to avoid potential slowness/freeze if necessary.\n",
            "  cpuset_checked))\n"
          ]
        },
        {
          "output_type": "stream",
          "name": "stdout",
          "text": [
            "Epoch 5 Step 59 ave_loss 0.1730\n",
            "Epoch 5 Step 119 ave_loss 0.1331\n",
            "Epoch 5 Step 179 ave_loss 0.1406\n",
            "Test model\n",
            "----------\n",
            "\n",
            "Evaluation completed in 0m 15s\n",
            "----------\n",
            "Test report: \n",
            "               precision    recall  f1-score   support\n",
            "\n",
            "          2C       1.00      0.09      0.16       409\n",
            "          3C       1.00      0.01      0.01       367\n",
            "          4C       0.53      1.00      0.69       831\n",
            "\n",
            "    accuracy                           0.54      1607\n",
            "   macro avg       0.84      0.36      0.29      1607\n",
            "weighted avg       0.76      0.54      0.40      1607\n",
            "\n",
            "---------------------------------------------------------------\n",
            "\n",
            "Epoch 6 report: \n",
            "Train model\n",
            "----------\n"
          ]
        },
        {
          "output_type": "stream",
          "name": "stderr",
          "text": [
            "/usr/local/lib/python3.7/dist-packages/torch/utils/data/dataloader.py:481: UserWarning: This DataLoader will create 4 worker processes in total. Our suggested max number of worker in current system is 2, which is smaller than what this DataLoader is going to create. Please be aware that excessive worker creation might get DataLoader running slow or even freeze, lower the worker number to avoid potential slowness/freeze if necessary.\n",
            "  cpuset_checked))\n"
          ]
        },
        {
          "output_type": "stream",
          "name": "stdout",
          "text": [
            "Epoch 6 Step 59 ave_loss 0.1383\n",
            "Epoch 6 Step 119 ave_loss 0.1277\n",
            "Epoch 6 Step 179 ave_loss 0.0993\n",
            "Test model\n",
            "----------\n",
            "\n",
            "Evaluation completed in 0m 14s\n",
            "----------\n",
            "Test report: \n",
            "               precision    recall  f1-score   support\n",
            "\n",
            "          2C       0.40      1.00      0.57       409\n",
            "          3C       0.78      0.36      0.49       367\n",
            "          4C       0.94      0.48      0.63       831\n",
            "\n",
            "    accuracy                           0.58      1607\n",
            "   macro avg       0.71      0.61      0.56      1607\n",
            "weighted avg       0.77      0.58      0.58      1607\n",
            "\n",
            "---------------------------------------------------------------\n",
            "\n",
            "Epoch 7 report: \n",
            "Train model\n",
            "----------\n"
          ]
        },
        {
          "output_type": "stream",
          "name": "stderr",
          "text": [
            "/usr/local/lib/python3.7/dist-packages/torch/utils/data/dataloader.py:481: UserWarning: This DataLoader will create 4 worker processes in total. Our suggested max number of worker in current system is 2, which is smaller than what this DataLoader is going to create. Please be aware that excessive worker creation might get DataLoader running slow or even freeze, lower the worker number to avoid potential slowness/freeze if necessary.\n",
            "  cpuset_checked))\n"
          ]
        },
        {
          "output_type": "stream",
          "name": "stdout",
          "text": [
            "Epoch 7 Step 59 ave_loss 0.1485\n",
            "Epoch 7 Step 119 ave_loss 0.0927\n",
            "Epoch 7 Step 179 ave_loss 0.0926\n",
            "Test model\n",
            "----------\n",
            "\n",
            "Evaluation completed in 0m 14s\n",
            "----------\n",
            "Test report: \n",
            "               precision    recall  f1-score   support\n",
            "\n",
            "          2C       0.41      1.00      0.59       409\n",
            "          3C       0.90      0.49      0.63       367\n",
            "          4C       0.96      0.49      0.65       831\n",
            "\n",
            "    accuracy                           0.62      1607\n",
            "   macro avg       0.76      0.66      0.62      1607\n",
            "weighted avg       0.81      0.62      0.63      1607\n",
            "\n",
            "---------------------------------------------------------------\n",
            "\n",
            "Epoch 8 report: \n",
            "Train model\n",
            "----------\n"
          ]
        },
        {
          "output_type": "stream",
          "name": "stderr",
          "text": [
            "/usr/local/lib/python3.7/dist-packages/torch/utils/data/dataloader.py:481: UserWarning: This DataLoader will create 4 worker processes in total. Our suggested max number of worker in current system is 2, which is smaller than what this DataLoader is going to create. Please be aware that excessive worker creation might get DataLoader running slow or even freeze, lower the worker number to avoid potential slowness/freeze if necessary.\n",
            "  cpuset_checked))\n"
          ]
        },
        {
          "output_type": "stream",
          "name": "stdout",
          "text": [
            "Epoch 8 Step 59 ave_loss 0.1233\n",
            "Epoch 8 Step 119 ave_loss 0.0787\n",
            "Epoch 8 Step 179 ave_loss 0.0958\n",
            "Test model\n",
            "----------\n",
            "\n",
            "Evaluation completed in 0m 14s\n",
            "----------\n",
            "Test report: \n",
            "               precision    recall  f1-score   support\n",
            "\n",
            "          2C       0.59      0.97      0.74       409\n",
            "          3C       0.77      0.66      0.71       367\n",
            "          4C       0.96      0.71      0.81       831\n",
            "\n",
            "    accuracy                           0.77      1607\n",
            "   macro avg       0.77      0.78      0.75      1607\n",
            "weighted avg       0.82      0.77      0.77      1607\n",
            "\n",
            "---------------------------------------------------------------\n",
            "\n",
            "Epoch 9 report: \n",
            "Train model\n",
            "----------\n"
          ]
        },
        {
          "output_type": "stream",
          "name": "stderr",
          "text": [
            "/usr/local/lib/python3.7/dist-packages/torch/utils/data/dataloader.py:481: UserWarning: This DataLoader will create 4 worker processes in total. Our suggested max number of worker in current system is 2, which is smaller than what this DataLoader is going to create. Please be aware that excessive worker creation might get DataLoader running slow or even freeze, lower the worker number to avoid potential slowness/freeze if necessary.\n",
            "  cpuset_checked))\n"
          ]
        },
        {
          "output_type": "stream",
          "name": "stdout",
          "text": [
            "Epoch 9 Step 59 ave_loss 0.0873\n",
            "Epoch 9 Step 119 ave_loss 0.0627\n",
            "Epoch 9 Step 179 ave_loss 0.0487\n",
            "Test model\n",
            "----------\n",
            "\n",
            "Evaluation completed in 0m 14s\n",
            "----------\n",
            "Test report: \n",
            "               precision    recall  f1-score   support\n",
            "\n",
            "          2C       0.81      0.73      0.77       409\n",
            "          3C       0.59      0.81      0.68       367\n",
            "          4C       0.98      0.86      0.91       831\n",
            "\n",
            "    accuracy                           0.81      1607\n",
            "   macro avg       0.79      0.80      0.79      1607\n",
            "weighted avg       0.84      0.81      0.82      1607\n",
            "\n",
            "---------------------------------------------------------------\n",
            "\n",
            "Epoch 10 report: \n",
            "Train model\n",
            "----------\n"
          ]
        },
        {
          "output_type": "stream",
          "name": "stderr",
          "text": [
            "/usr/local/lib/python3.7/dist-packages/torch/utils/data/dataloader.py:481: UserWarning: This DataLoader will create 4 worker processes in total. Our suggested max number of worker in current system is 2, which is smaller than what this DataLoader is going to create. Please be aware that excessive worker creation might get DataLoader running slow or even freeze, lower the worker number to avoid potential slowness/freeze if necessary.\n",
            "  cpuset_checked))\n"
          ]
        },
        {
          "output_type": "stream",
          "name": "stdout",
          "text": [
            "Epoch 10 Step 59 ave_loss 0.0509\n",
            "Epoch 10 Step 119 ave_loss 0.0622\n",
            "Epoch 10 Step 179 ave_loss 0.0588\n",
            "Test model\n",
            "----------\n",
            "\n",
            "Evaluation completed in 0m 14s\n",
            "----------\n",
            "Test report: \n",
            "               precision    recall  f1-score   support\n",
            "\n",
            "          2C       0.60      0.53      0.56       409\n",
            "          3C       0.63      0.81      0.71       367\n",
            "          4C       0.85      0.79      0.82       831\n",
            "\n",
            "    accuracy                           0.73      1607\n",
            "   macro avg       0.69      0.71      0.70      1607\n",
            "weighted avg       0.74      0.73      0.73      1607\n",
            "\n",
            "---------------------------------------------------------------\n",
            "\n",
            "Epoch 11 report: \n",
            "Train model\n",
            "----------\n"
          ]
        },
        {
          "output_type": "stream",
          "name": "stderr",
          "text": [
            "/usr/local/lib/python3.7/dist-packages/torch/utils/data/dataloader.py:481: UserWarning: This DataLoader will create 4 worker processes in total. Our suggested max number of worker in current system is 2, which is smaller than what this DataLoader is going to create. Please be aware that excessive worker creation might get DataLoader running slow or even freeze, lower the worker number to avoid potential slowness/freeze if necessary.\n",
            "  cpuset_checked))\n"
          ]
        },
        {
          "output_type": "stream",
          "name": "stdout",
          "text": [
            "Epoch 11 Step 59 ave_loss 0.0577\n",
            "Epoch 11 Step 119 ave_loss 0.0473\n",
            "Epoch 11 Step 179 ave_loss 0.0490\n",
            "Test model\n",
            "----------\n",
            "\n",
            "Evaluation completed in 0m 14s\n",
            "----------\n",
            "Test report: \n",
            "               precision    recall  f1-score   support\n",
            "\n",
            "          2C       0.55      0.85      0.67       409\n",
            "          3C       0.69      0.79      0.74       367\n",
            "          4C       0.94      0.63      0.75       831\n",
            "\n",
            "    accuracy                           0.72      1607\n",
            "   macro avg       0.73      0.76      0.72      1607\n",
            "weighted avg       0.78      0.72      0.73      1607\n",
            "\n",
            "---------------------------------------------------------------\n",
            "\n",
            "Epoch 12 report: \n",
            "Train model\n",
            "----------\n"
          ]
        },
        {
          "output_type": "stream",
          "name": "stderr",
          "text": [
            "/usr/local/lib/python3.7/dist-packages/torch/utils/data/dataloader.py:481: UserWarning: This DataLoader will create 4 worker processes in total. Our suggested max number of worker in current system is 2, which is smaller than what this DataLoader is going to create. Please be aware that excessive worker creation might get DataLoader running slow or even freeze, lower the worker number to avoid potential slowness/freeze if necessary.\n",
            "  cpuset_checked))\n"
          ]
        },
        {
          "output_type": "stream",
          "name": "stdout",
          "text": [
            "Epoch 12 Step 59 ave_loss 0.0398\n",
            "Epoch 12 Step 119 ave_loss 0.0242\n",
            "Epoch 12 Step 179 ave_loss 0.0416\n",
            "Test model\n",
            "----------\n",
            "\n",
            "Evaluation completed in 0m 14s\n",
            "----------\n",
            "Test report: \n",
            "               precision    recall  f1-score   support\n",
            "\n",
            "          2C       0.57      0.73      0.64       409\n",
            "          3C       0.56      0.80      0.66       367\n",
            "          4C       0.96      0.65      0.78       831\n",
            "\n",
            "    accuracy                           0.70      1607\n",
            "   macro avg       0.70      0.73      0.69      1607\n",
            "weighted avg       0.77      0.70      0.71      1607\n",
            "\n",
            "---------------------------------------------------------------\n",
            "\n",
            "Epoch 13 report: \n",
            "Train model\n",
            "----------\n"
          ]
        },
        {
          "output_type": "stream",
          "name": "stderr",
          "text": [
            "/usr/local/lib/python3.7/dist-packages/torch/utils/data/dataloader.py:481: UserWarning: This DataLoader will create 4 worker processes in total. Our suggested max number of worker in current system is 2, which is smaller than what this DataLoader is going to create. Please be aware that excessive worker creation might get DataLoader running slow or even freeze, lower the worker number to avoid potential slowness/freeze if necessary.\n",
            "  cpuset_checked))\n"
          ]
        },
        {
          "output_type": "stream",
          "name": "stdout",
          "text": [
            "Epoch 13 Step 59 ave_loss 0.0226\n",
            "Epoch 13 Step 119 ave_loss 0.0467\n",
            "Epoch 13 Step 179 ave_loss 0.0668\n",
            "Test model\n",
            "----------\n",
            "\n",
            "Evaluation completed in 0m 14s\n",
            "----------\n",
            "Test report: \n",
            "               precision    recall  f1-score   support\n",
            "\n",
            "          2C       0.89      0.10      0.18       409\n",
            "          3C       0.50      0.56      0.53       367\n",
            "          4C       0.64      0.89      0.75       831\n",
            "\n",
            "    accuracy                           0.62      1607\n",
            "   macro avg       0.68      0.52      0.49      1607\n",
            "weighted avg       0.67      0.62      0.55      1607\n",
            "\n",
            "---------------------------------------------------------------\n",
            "\n",
            "Epoch 14 report: \n",
            "Train model\n",
            "----------\n"
          ]
        },
        {
          "output_type": "stream",
          "name": "stderr",
          "text": [
            "/usr/local/lib/python3.7/dist-packages/torch/utils/data/dataloader.py:481: UserWarning: This DataLoader will create 4 worker processes in total. Our suggested max number of worker in current system is 2, which is smaller than what this DataLoader is going to create. Please be aware that excessive worker creation might get DataLoader running slow or even freeze, lower the worker number to avoid potential slowness/freeze if necessary.\n",
            "  cpuset_checked))\n"
          ]
        },
        {
          "output_type": "stream",
          "name": "stdout",
          "text": [
            "Epoch 14 Step 59 ave_loss 0.0178\n",
            "Epoch 14 Step 119 ave_loss 0.0164\n",
            "Epoch 14 Step 179 ave_loss 0.0127\n",
            "Test model\n",
            "----------\n",
            "\n",
            "Evaluation completed in 0m 14s\n",
            "----------\n",
            "Test report: \n",
            "               precision    recall  f1-score   support\n",
            "\n",
            "          2C       0.61      0.76      0.67       409\n",
            "          3C       0.64      0.81      0.71       367\n",
            "          4C       0.98      0.75      0.85       831\n",
            "\n",
            "    accuracy                           0.77      1607\n",
            "   macro avg       0.74      0.77      0.75      1607\n",
            "weighted avg       0.81      0.77      0.78      1607\n",
            "\n",
            "---------------------------------------------------------------\n",
            "\n",
            "Epoch 15 report: \n",
            "Train model\n",
            "----------\n"
          ]
        },
        {
          "output_type": "stream",
          "name": "stderr",
          "text": [
            "/usr/local/lib/python3.7/dist-packages/torch/utils/data/dataloader.py:481: UserWarning: This DataLoader will create 4 worker processes in total. Our suggested max number of worker in current system is 2, which is smaller than what this DataLoader is going to create. Please be aware that excessive worker creation might get DataLoader running slow or even freeze, lower the worker number to avoid potential slowness/freeze if necessary.\n",
            "  cpuset_checked))\n"
          ]
        },
        {
          "output_type": "stream",
          "name": "stdout",
          "text": [
            "Epoch 15 Step 59 ave_loss 0.0264\n",
            "Epoch 15 Step 119 ave_loss 0.0227\n",
            "Epoch 15 Step 179 ave_loss 0.0189\n",
            "Test model\n",
            "----------\n",
            "\n",
            "Evaluation completed in 0m 15s\n",
            "----------\n",
            "Test report: \n",
            "               precision    recall  f1-score   support\n",
            "\n",
            "          2C       0.61      0.79      0.69       409\n",
            "          3C       0.64      0.73      0.68       367\n",
            "          4C       0.98      0.77      0.86       831\n",
            "\n",
            "    accuracy                           0.77      1607\n",
            "   macro avg       0.74      0.76      0.74      1607\n",
            "weighted avg       0.81      0.77      0.77      1607\n",
            "\n",
            "---------------------------------------------------------------\n",
            "\n",
            "Epoch 16 report: \n",
            "Train model\n",
            "----------\n"
          ]
        },
        {
          "output_type": "stream",
          "name": "stderr",
          "text": [
            "/usr/local/lib/python3.7/dist-packages/torch/utils/data/dataloader.py:481: UserWarning: This DataLoader will create 4 worker processes in total. Our suggested max number of worker in current system is 2, which is smaller than what this DataLoader is going to create. Please be aware that excessive worker creation might get DataLoader running slow or even freeze, lower the worker number to avoid potential slowness/freeze if necessary.\n",
            "  cpuset_checked))\n"
          ]
        },
        {
          "output_type": "stream",
          "name": "stdout",
          "text": [
            "Epoch 16 Step 59 ave_loss 0.0252\n",
            "Epoch 16 Step 119 ave_loss 0.0430\n",
            "Epoch 16 Step 179 ave_loss 0.0096\n",
            "Test model\n",
            "----------\n",
            "\n",
            "Evaluation completed in 0m 14s\n",
            "----------\n",
            "Test report: \n",
            "               precision    recall  f1-score   support\n",
            "\n",
            "          2C       0.66      0.77      0.71       409\n",
            "          3C       0.62      0.77      0.69       367\n",
            "          4C       0.98      0.79      0.88       831\n",
            "\n",
            "    accuracy                           0.78      1607\n",
            "   macro avg       0.75      0.78      0.76      1607\n",
            "weighted avg       0.82      0.78      0.79      1607\n",
            "\n",
            "---------------------------------------------------------------\n",
            "\n",
            "Epoch 17 report: \n",
            "Train model\n",
            "----------\n"
          ]
        },
        {
          "output_type": "stream",
          "name": "stderr",
          "text": [
            "/usr/local/lib/python3.7/dist-packages/torch/utils/data/dataloader.py:481: UserWarning: This DataLoader will create 4 worker processes in total. Our suggested max number of worker in current system is 2, which is smaller than what this DataLoader is going to create. Please be aware that excessive worker creation might get DataLoader running slow or even freeze, lower the worker number to avoid potential slowness/freeze if necessary.\n",
            "  cpuset_checked))\n"
          ]
        },
        {
          "output_type": "stream",
          "name": "stdout",
          "text": [
            "Epoch 17 Step 59 ave_loss 0.0097\n",
            "Epoch 17 Step 119 ave_loss 0.0118\n",
            "Epoch 17 Step 179 ave_loss 0.0140\n",
            "Test model\n",
            "----------\n",
            "\n",
            "Evaluation completed in 0m 15s\n",
            "----------\n",
            "Test report: \n",
            "               precision    recall  f1-score   support\n",
            "\n",
            "          2C       0.63      0.76      0.69       409\n",
            "          3C       0.63      0.72      0.67       367\n",
            "          4C       0.96      0.80      0.87       831\n",
            "\n",
            "    accuracy                           0.77      1607\n",
            "   macro avg       0.74      0.76      0.74      1607\n",
            "weighted avg       0.80      0.77      0.78      1607\n",
            "\n",
            "---------------------------------------------------------------\n",
            "\n",
            "Epoch 18 report: \n",
            "Train model\n",
            "----------\n"
          ]
        },
        {
          "output_type": "stream",
          "name": "stderr",
          "text": [
            "/usr/local/lib/python3.7/dist-packages/torch/utils/data/dataloader.py:481: UserWarning: This DataLoader will create 4 worker processes in total. Our suggested max number of worker in current system is 2, which is smaller than what this DataLoader is going to create. Please be aware that excessive worker creation might get DataLoader running slow or even freeze, lower the worker number to avoid potential slowness/freeze if necessary.\n",
            "  cpuset_checked))\n"
          ]
        },
        {
          "output_type": "stream",
          "name": "stdout",
          "text": [
            "Epoch 18 Step 59 ave_loss 0.0259\n",
            "Epoch 18 Step 119 ave_loss 0.0176\n",
            "Epoch 18 Step 179 ave_loss 0.0218\n",
            "Test model\n",
            "----------\n",
            "\n",
            "Evaluation completed in 0m 14s\n",
            "----------\n",
            "Test report: \n",
            "               precision    recall  f1-score   support\n",
            "\n",
            "          2C       0.60      0.69      0.64       409\n",
            "          3C       0.41      0.85      0.56       367\n",
            "          4C       0.99      0.46      0.63       831\n",
            "\n",
            "    accuracy                           0.61      1607\n",
            "   macro avg       0.67      0.67      0.61      1607\n",
            "weighted avg       0.76      0.61      0.62      1607\n",
            "\n",
            "---------------------------------------------------------------\n",
            "\n",
            "Epoch 19 report: \n",
            "Train model\n",
            "----------\n"
          ]
        },
        {
          "output_type": "stream",
          "name": "stderr",
          "text": [
            "/usr/local/lib/python3.7/dist-packages/torch/utils/data/dataloader.py:481: UserWarning: This DataLoader will create 4 worker processes in total. Our suggested max number of worker in current system is 2, which is smaller than what this DataLoader is going to create. Please be aware that excessive worker creation might get DataLoader running slow or even freeze, lower the worker number to avoid potential slowness/freeze if necessary.\n",
            "  cpuset_checked))\n"
          ]
        },
        {
          "output_type": "stream",
          "name": "stdout",
          "text": [
            "Epoch 19 Step 59 ave_loss 0.0277\n",
            "Epoch 19 Step 119 ave_loss 0.0174\n",
            "Epoch 19 Step 179 ave_loss 0.0295\n",
            "Test model\n",
            "----------\n",
            "\n",
            "Evaluation completed in 0m 14s\n",
            "----------\n",
            "Test report: \n",
            "               precision    recall  f1-score   support\n",
            "\n",
            "          2C       0.60      0.92      0.73       409\n",
            "          3C       0.81      0.77      0.78       367\n",
            "          4C       0.96      0.74      0.83       831\n",
            "\n",
            "    accuracy                           0.79      1607\n",
            "   macro avg       0.79      0.81      0.78      1607\n",
            "weighted avg       0.83      0.79      0.80      1607\n",
            "\n",
            "model: resnet50 , size: 224 , augmentation: aug\n",
            "accr:  [45, 49, 46, 52, 66, 54, 58, 61, 76, 81, 73, 72, 70, 61, 76, 76, 78, 77, 60, 78]\n",
            "loss:  [0.9563, 0.8458, 0.4607, 0.3057, 0.0909, 0.0695, 0.0073, 0.1075, 0.0187, 0.0379, 0.0051, 0.0065, 0.0001, 0.0085, 0.0004, 0.001, 0.0026, 0.0074, 0.0472, 0.0017]\n",
            "Number of Image in train set: 6717\n",
            "Number of Image in test set: 1607\n",
            "Num batch in train set:  210\n",
            "Num batch in test set:  51\n"
          ]
        },
        {
          "output_type": "stream",
          "name": "stderr",
          "text": [
            "/usr/local/lib/python3.7/dist-packages/torch/utils/data/dataloader.py:481: UserWarning: This DataLoader will create 4 worker processes in total. Our suggested max number of worker in current system is 2, which is smaller than what this DataLoader is going to create. Please be aware that excessive worker creation might get DataLoader running slow or even freeze, lower the worker number to avoid potential slowness/freeze if necessary.\n",
            "  cpuset_checked))\n"
          ]
        },
        {
          "output_type": "stream",
          "name": "stdout",
          "text": [
            "['2C', '3C', '3C', '3C', '4C', '3C', '3C', '2C']\n",
            "['4C', '4C', '2C', '4C', '2C', '2C', '2C', '2C']\n",
            "['3C', '4C', '4C', '2C', '3C', '4C', '4C', '3C']\n",
            "['2C', '2C', '3C', '4C', '2C', '2C', '2C', '3C']\n"
          ]
        },
        {
          "output_type": "display_data",
          "data": {
            "image/png": "[encoded data removed]",
            "text/plain": [
              "<Figure size 432x288 with 1 Axes>"
            ]
          },
          "metadata": {
            "needs_background": "light"
          }
        },
        {
          "output_type": "stream",
          "name": "stdout",
          "text": [
            "image size:  torch.Size([3, 224, 224])\n",
            "device: cuda\n",
            "model: densenet121\n",
            "---------------------------------------------------------------\n",
            "\n",
            "Epoch 0 report: \n",
            "Train model\n",
            "----------\n",
            "Epoch 0 Step 59 ave_loss 1.0799\n",
            "Epoch 0 Step 119 ave_loss 0.7760\n",
            "Epoch 0 Step 179 ave_loss 0.6269\n",
            "Test model\n",
            "----------\n",
            "\n",
            "Evaluation completed in 0m 15s\n",
            "----------\n",
            "Test report: \n",
            "               precision    recall  f1-score   support\n",
            "\n",
            "          2C       0.67      0.71      0.69       409\n",
            "          3C       0.36      0.77      0.49       367\n",
            "          4C       0.99      0.47      0.64       831\n",
            "\n",
            "    accuracy                           0.60      1607\n",
            "   macro avg       0.67      0.65      0.61      1607\n",
            "weighted avg       0.77      0.60      0.62      1607\n",
            "\n",
            "---------------------------------------------------------------\n",
            "\n",
            "Epoch 1 report: \n",
            "Train model\n",
            "----------\n"
          ]
        },
        {
          "output_type": "stream",
          "name": "stderr",
          "text": [
            "/usr/local/lib/python3.7/dist-packages/torch/utils/data/dataloader.py:481: UserWarning: This DataLoader will create 4 worker processes in total. Our suggested max number of worker in current system is 2, which is smaller than what this DataLoader is going to create. Please be aware that excessive worker creation might get DataLoader running slow or even freeze, lower the worker number to avoid potential slowness/freeze if necessary.\n",
            "  cpuset_checked))\n"
          ]
        },
        {
          "output_type": "stream",
          "name": "stdout",
          "text": [
            "Epoch 1 Step 59 ave_loss 0.3393\n",
            "Epoch 1 Step 119 ave_loss 0.2789\n",
            "Epoch 1 Step 179 ave_loss 0.2492\n",
            "Test model\n",
            "----------\n",
            "\n",
            "Evaluation completed in 0m 15s\n",
            "----------\n",
            "Test report: \n",
            "               precision    recall  f1-score   support\n",
            "\n",
            "          2C       0.61      0.86      0.71       409\n",
            "          3C       1.00      0.22      0.35       367\n",
            "          4C       0.71      0.82      0.76       831\n",
            "\n",
            "    accuracy                           0.69      1607\n",
            "   macro avg       0.78      0.63      0.61      1607\n",
            "weighted avg       0.75      0.69      0.66      1607\n",
            "\n",
            "---------------------------------------------------------------\n",
            "\n",
            "Epoch 2 report: \n",
            "Train model\n",
            "----------\n"
          ]
        },
        {
          "output_type": "stream",
          "name": "stderr",
          "text": [
            "/usr/local/lib/python3.7/dist-packages/torch/utils/data/dataloader.py:481: UserWarning: This DataLoader will create 4 worker processes in total. Our suggested max number of worker in current system is 2, which is smaller than what this DataLoader is going to create. Please be aware that excessive worker creation might get DataLoader running slow or even freeze, lower the worker number to avoid potential slowness/freeze if necessary.\n",
            "  cpuset_checked))\n"
          ]
        },
        {
          "output_type": "stream",
          "name": "stdout",
          "text": [
            "Epoch 2 Step 59 ave_loss 0.1463\n",
            "Epoch 2 Step 119 ave_loss 0.1529\n",
            "Epoch 2 Step 179 ave_loss 0.1451\n",
            "Test model\n",
            "----------\n",
            "\n",
            "Evaluation completed in 0m 15s\n",
            "----------\n",
            "Test report: \n",
            "               precision    recall  f1-score   support\n",
            "\n",
            "          2C       0.61      0.81      0.70       409\n",
            "          3C       0.75      0.54      0.63       367\n",
            "          4C       0.78      0.75      0.77       831\n",
            "\n",
            "    accuracy                           0.72      1607\n",
            "   macro avg       0.72      0.70      0.70      1607\n",
            "weighted avg       0.73      0.72      0.72      1607\n",
            "\n",
            "---------------------------------------------------------------\n",
            "\n",
            "Epoch 3 report: \n",
            "Train model\n",
            "----------\n"
          ]
        },
        {
          "output_type": "stream",
          "name": "stderr",
          "text": [
            "/usr/local/lib/python3.7/dist-packages/torch/utils/data/dataloader.py:481: UserWarning: This DataLoader will create 4 worker processes in total. Our suggested max number of worker in current system is 2, which is smaller than what this DataLoader is going to create. Please be aware that excessive worker creation might get DataLoader running slow or even freeze, lower the worker number to avoid potential slowness/freeze if necessary.\n",
            "  cpuset_checked))\n"
          ]
        },
        {
          "output_type": "stream",
          "name": "stdout",
          "text": [
            "Epoch 3 Step 59 ave_loss 0.1149\n",
            "Epoch 3 Step 119 ave_loss 0.0827\n",
            "Epoch 3 Step 179 ave_loss 0.0631\n",
            "Test model\n",
            "----------\n",
            "\n",
            "Evaluation completed in 0m 15s\n",
            "----------\n",
            "Test report: \n",
            "               precision    recall  f1-score   support\n",
            "\n",
            "          2C       0.63      0.79      0.70       409\n",
            "          3C       0.56      0.90      0.69       367\n",
            "          4C       0.98      0.60      0.74       831\n",
            "\n",
            "    accuracy                           0.71      1607\n",
            "   macro avg       0.72      0.76      0.71      1607\n",
            "weighted avg       0.80      0.71      0.72      1607\n",
            "\n",
            "---------------------------------------------------------------\n",
            "\n",
            "Epoch 4 report: \n",
            "Train model\n",
            "----------\n"
          ]
        },
        {
          "output_type": "stream",
          "name": "stderr",
          "text": [
            "/usr/local/lib/python3.7/dist-packages/torch/utils/data/dataloader.py:481: UserWarning: This DataLoader will create 4 worker processes in total. Our suggested max number of worker in current system is 2, which is smaller than what this DataLoader is going to create. Please be aware that excessive worker creation might get DataLoader running slow or even freeze, lower the worker number to avoid potential slowness/freeze if necessary.\n",
            "  cpuset_checked))\n"
          ]
        },
        {
          "output_type": "stream",
          "name": "stdout",
          "text": [
            "Epoch 4 Step 59 ave_loss 0.0464\n",
            "Epoch 4 Step 119 ave_loss 0.0524\n",
            "Epoch 4 Step 179 ave_loss 0.0448\n",
            "Test model\n",
            "----------\n",
            "\n",
            "Evaluation completed in 0m 15s\n",
            "----------\n",
            "Test report: \n",
            "               precision    recall  f1-score   support\n",
            "\n",
            "          2C       0.55      0.77      0.64       409\n",
            "          3C       0.74      0.77      0.75       367\n",
            "          4C       0.89      0.70      0.79       831\n",
            "\n",
            "    accuracy                           0.73      1607\n",
            "   macro avg       0.73      0.74      0.73      1607\n",
            "weighted avg       0.77      0.73      0.74      1607\n",
            "\n",
            "---------------------------------------------------------------\n",
            "\n",
            "Epoch 5 report: \n",
            "Train model\n",
            "----------\n"
          ]
        },
        {
          "output_type": "stream",
          "name": "stderr",
          "text": [
            "/usr/local/lib/python3.7/dist-packages/torch/utils/data/dataloader.py:481: UserWarning: This DataLoader will create 4 worker processes in total. Our suggested max number of worker in current system is 2, which is smaller than what this DataLoader is going to create. Please be aware that excessive worker creation might get DataLoader running slow or even freeze, lower the worker number to avoid potential slowness/freeze if necessary.\n",
            "  cpuset_checked))\n"
          ]
        },
        {
          "output_type": "stream",
          "name": "stdout",
          "text": [
            "Epoch 5 Step 59 ave_loss 0.0621\n",
            "Epoch 5 Step 119 ave_loss 0.0453\n",
            "Epoch 5 Step 179 ave_loss 0.0500\n",
            "Test model\n",
            "----------\n",
            "\n",
            "Evaluation completed in 0m 14s\n",
            "----------\n",
            "Test report: \n",
            "               precision    recall  f1-score   support\n",
            "\n",
            "          2C       0.50      0.88      0.64       409\n",
            "          3C       0.78      0.77      0.77       367\n",
            "          4C       0.95      0.60      0.73       831\n",
            "\n",
            "    accuracy                           0.71      1607\n",
            "   macro avg       0.74      0.75      0.71      1607\n",
            "weighted avg       0.79      0.71      0.72      1607\n",
            "\n",
            "---------------------------------------------------------------\n",
            "\n",
            "Epoch 6 report: \n",
            "Train model\n",
            "----------\n"
          ]
        },
        {
          "output_type": "stream",
          "name": "stderr",
          "text": [
            "/usr/local/lib/python3.7/dist-packages/torch/utils/data/dataloader.py:481: UserWarning: This DataLoader will create 4 worker processes in total. Our suggested max number of worker in current system is 2, which is smaller than what this DataLoader is going to create. Please be aware that excessive worker creation might get DataLoader running slow or even freeze, lower the worker number to avoid potential slowness/freeze if necessary.\n",
            "  cpuset_checked))\n"
          ]
        },
        {
          "output_type": "stream",
          "name": "stdout",
          "text": [
            "Epoch 6 Step 59 ave_loss 0.0267\n",
            "Epoch 6 Step 119 ave_loss 0.0180\n",
            "Epoch 6 Step 179 ave_loss 0.0156\n",
            "Test model\n",
            "----------\n",
            "\n",
            "Evaluation completed in 0m 15s\n",
            "----------\n",
            "Test report: \n",
            "               precision    recall  f1-score   support\n",
            "\n",
            "          2C       0.48      0.95      0.63       409\n",
            "          3C       0.64      0.65      0.65       367\n",
            "          4C       1.00      0.51      0.67       831\n",
            "\n",
            "    accuracy                           0.65      1607\n",
            "   macro avg       0.71      0.70      0.65      1607\n",
            "weighted avg       0.79      0.65      0.66      1607\n",
            "\n",
            "---------------------------------------------------------------\n",
            "\n",
            "Epoch 7 report: \n",
            "Train model\n",
            "----------\n"
          ]
        },
        {
          "output_type": "stream",
          "name": "stderr",
          "text": [
            "/usr/local/lib/python3.7/dist-packages/torch/utils/data/dataloader.py:481: UserWarning: This DataLoader will create 4 worker processes in total. Our suggested max number of worker in current system is 2, which is smaller than what this DataLoader is going to create. Please be aware that excessive worker creation might get DataLoader running slow or even freeze, lower the worker number to avoid potential slowness/freeze if necessary.\n",
            "  cpuset_checked))\n"
          ]
        },
        {
          "output_type": "stream",
          "name": "stdout",
          "text": [
            "Epoch 7 Step 59 ave_loss 0.0181\n",
            "Epoch 7 Step 119 ave_loss 0.0237\n",
            "Epoch 7 Step 179 ave_loss 0.0351\n",
            "Test model\n",
            "----------\n",
            "\n",
            "Evaluation completed in 0m 14s\n",
            "----------\n",
            "Test report: \n",
            "               precision    recall  f1-score   support\n",
            "\n",
            "          2C       0.81      0.72      0.76       409\n",
            "          3C       0.72      0.75      0.73       367\n",
            "          4C       0.89      0.91      0.90       831\n",
            "\n",
            "    accuracy                           0.83      1607\n",
            "   macro avg       0.80      0.80      0.80      1607\n",
            "weighted avg       0.83      0.83      0.83      1607\n",
            "\n",
            "---------------------------------------------------------------\n",
            "\n",
            "Epoch 8 report: \n",
            "Train model\n",
            "----------\n"
          ]
        },
        {
          "output_type": "stream",
          "name": "stderr",
          "text": [
            "/usr/local/lib/python3.7/dist-packages/torch/utils/data/dataloader.py:481: UserWarning: This DataLoader will create 4 worker processes in total. Our suggested max number of worker in current system is 2, which is smaller than what this DataLoader is going to create. Please be aware that excessive worker creation might get DataLoader running slow or even freeze, lower the worker number to avoid potential slowness/freeze if necessary.\n",
            "  cpuset_checked))\n"
          ]
        },
        {
          "output_type": "stream",
          "name": "stdout",
          "text": [
            "Epoch 8 Step 59 ave_loss 0.0143\n",
            "Epoch 8 Step 119 ave_loss 0.0163\n",
            "Epoch 8 Step 179 ave_loss 0.0191\n",
            "Test model\n",
            "----------\n",
            "\n",
            "Evaluation completed in 0m 15s\n",
            "----------\n",
            "Test report: \n",
            "               precision    recall  f1-score   support\n",
            "\n",
            "          2C       0.95      0.75      0.84       409\n",
            "          3C       0.66      0.86      0.74       367\n",
            "          4C       0.87      0.84      0.86       831\n",
            "\n",
            "    accuracy                           0.82      1607\n",
            "   macro avg       0.83      0.82      0.81      1607\n",
            "weighted avg       0.84      0.82      0.83      1607\n",
            "\n",
            "---------------------------------------------------------------\n",
            "\n",
            "Epoch 9 report: \n",
            "Train model\n",
            "----------\n"
          ]
        },
        {
          "output_type": "stream",
          "name": "stderr",
          "text": [
            "/usr/local/lib/python3.7/dist-packages/torch/utils/data/dataloader.py:481: UserWarning: This DataLoader will create 4 worker processes in total. Our suggested max number of worker in current system is 2, which is smaller than what this DataLoader is going to create. Please be aware that excessive worker creation might get DataLoader running slow or even freeze, lower the worker number to avoid potential slowness/freeze if necessary.\n",
            "  cpuset_checked))\n"
          ]
        },
        {
          "output_type": "stream",
          "name": "stdout",
          "text": [
            "Epoch 9 Step 59 ave_loss 0.0211\n",
            "Epoch 9 Step 119 ave_loss 0.0516\n",
            "Epoch 9 Step 179 ave_loss 0.0569\n",
            "Test model\n",
            "----------\n",
            "\n",
            "Evaluation completed in 0m 15s\n",
            "----------\n",
            "Test report: \n",
            "               precision    recall  f1-score   support\n",
            "\n",
            "          2C       0.84      0.72      0.77       409\n",
            "          3C       0.64      0.94      0.76       367\n",
            "          4C       0.97      0.84      0.90       831\n",
            "\n",
            "    accuracy                           0.83      1607\n",
            "   macro avg       0.82      0.83      0.81      1607\n",
            "weighted avg       0.86      0.83      0.84      1607\n",
            "\n",
            "---------------------------------------------------------------\n",
            "\n",
            "Epoch 10 report: \n",
            "Train model\n",
            "----------\n"
          ]
        },
        {
          "output_type": "stream",
          "name": "stderr",
          "text": [
            "/usr/local/lib/python3.7/dist-packages/torch/utils/data/dataloader.py:481: UserWarning: This DataLoader will create 4 worker processes in total. Our suggested max number of worker in current system is 2, which is smaller than what this DataLoader is going to create. Please be aware that excessive worker creation might get DataLoader running slow or even freeze, lower the worker number to avoid potential slowness/freeze if necessary.\n",
            "  cpuset_checked))\n"
          ]
        },
        {
          "output_type": "stream",
          "name": "stdout",
          "text": [
            "Epoch 10 Step 59 ave_loss 0.0084\n",
            "Epoch 10 Step 119 ave_loss 0.0079\n",
            "Epoch 10 Step 179 ave_loss 0.0099\n",
            "Test model\n",
            "----------\n",
            "\n",
            "Evaluation completed in 0m 15s\n",
            "----------\n",
            "Test report: \n",
            "               precision    recall  f1-score   support\n",
            "\n",
            "          2C       0.68      0.81      0.74       409\n",
            "          3C       0.70      0.80      0.74       367\n",
            "          4C       0.95      0.80      0.87       831\n",
            "\n",
            "    accuracy                           0.80      1607\n",
            "   macro avg       0.78      0.80      0.78      1607\n",
            "weighted avg       0.82      0.80      0.81      1607\n",
            "\n",
            "---------------------------------------------------------------\n",
            "\n",
            "Epoch 11 report: \n",
            "Train model\n",
            "----------\n"
          ]
        },
        {
          "output_type": "stream",
          "name": "stderr",
          "text": [
            "/usr/local/lib/python3.7/dist-packages/torch/utils/data/dataloader.py:481: UserWarning: This DataLoader will create 4 worker processes in total. Our suggested max number of worker in current system is 2, which is smaller than what this DataLoader is going to create. Please be aware that excessive worker creation might get DataLoader running slow or even freeze, lower the worker number to avoid potential slowness/freeze if necessary.\n",
            "  cpuset_checked))\n"
          ]
        },
        {
          "output_type": "stream",
          "name": "stdout",
          "text": [
            "Epoch 11 Step 59 ave_loss 0.0416\n",
            "Epoch 11 Step 119 ave_loss 0.0129\n",
            "Epoch 11 Step 179 ave_loss 0.0039\n",
            "Test model\n",
            "----------\n",
            "\n",
            "Evaluation completed in 0m 15s\n",
            "----------\n",
            "Test report: \n",
            "               precision    recall  f1-score   support\n",
            "\n",
            "          2C       0.70      0.82      0.76       409\n",
            "          3C       0.62      0.92      0.74       367\n",
            "          4C       1.00      0.71      0.83       831\n",
            "\n",
            "    accuracy                           0.78      1607\n",
            "   macro avg       0.77      0.82      0.78      1607\n",
            "weighted avg       0.84      0.78      0.79      1607\n",
            "\n",
            "---------------------------------------------------------------\n",
            "\n",
            "Epoch 12 report: \n",
            "Train model\n",
            "----------\n"
          ]
        },
        {
          "output_type": "stream",
          "name": "stderr",
          "text": [
            "/usr/local/lib/python3.7/dist-packages/torch/utils/data/dataloader.py:481: UserWarning: This DataLoader will create 4 worker processes in total. Our suggested max number of worker in current system is 2, which is smaller than what this DataLoader is going to create. Please be aware that excessive worker creation might get DataLoader running slow or even freeze, lower the worker number to avoid potential slowness/freeze if necessary.\n",
            "  cpuset_checked))\n"
          ]
        },
        {
          "output_type": "stream",
          "name": "stdout",
          "text": [
            "Epoch 12 Step 59 ave_loss 0.0155\n",
            "Epoch 12 Step 119 ave_loss 0.0185\n",
            "Epoch 12 Step 179 ave_loss 0.0073\n",
            "Test model\n",
            "----------\n",
            "\n",
            "Evaluation completed in 0m 15s\n",
            "----------\n",
            "Test report: \n",
            "               precision    recall  f1-score   support\n",
            "\n",
            "          2C       0.59      0.83      0.69       409\n",
            "          3C       0.60      0.86      0.71       367\n",
            "          4C       0.99      0.61      0.76       831\n",
            "\n",
            "    accuracy                           0.72      1607\n",
            "   macro avg       0.73      0.77      0.72      1607\n",
            "weighted avg       0.80      0.72      0.73      1607\n",
            "\n",
            "---------------------------------------------------------------\n",
            "\n",
            "Epoch 13 report: \n",
            "Train model\n",
            "----------\n"
          ]
        },
        {
          "output_type": "stream",
          "name": "stderr",
          "text": [
            "/usr/local/lib/python3.7/dist-packages/torch/utils/data/dataloader.py:481: UserWarning: This DataLoader will create 4 worker processes in total. Our suggested max number of worker in current system is 2, which is smaller than what this DataLoader is going to create. Please be aware that excessive worker creation might get DataLoader running slow or even freeze, lower the worker number to avoid potential slowness/freeze if necessary.\n",
            "  cpuset_checked))\n"
          ]
        },
        {
          "output_type": "stream",
          "name": "stdout",
          "text": [
            "Epoch 13 Step 59 ave_loss 0.0145\n",
            "Epoch 13 Step 119 ave_loss 0.0121\n",
            "Epoch 13 Step 179 ave_loss 0.0051\n",
            "Test model\n",
            "----------\n",
            "\n",
            "Evaluation completed in 0m 15s\n",
            "----------\n",
            "Test report: \n",
            "               precision    recall  f1-score   support\n",
            "\n",
            "          2C       0.60      0.82      0.69       409\n",
            "          3C       0.57      0.85      0.69       367\n",
            "          4C       1.00      0.61      0.76       831\n",
            "\n",
            "    accuracy                           0.72      1607\n",
            "   macro avg       0.72      0.76      0.71      1607\n",
            "weighted avg       0.80      0.72      0.72      1607\n",
            "\n",
            "---------------------------------------------------------------\n",
            "\n",
            "Epoch 14 report: \n",
            "Train model\n",
            "----------\n"
          ]
        },
        {
          "output_type": "stream",
          "name": "stderr",
          "text": [
            "/usr/local/lib/python3.7/dist-packages/torch/utils/data/dataloader.py:481: UserWarning: This DataLoader will create 4 worker processes in total. Our suggested max number of worker in current system is 2, which is smaller than what this DataLoader is going to create. Please be aware that excessive worker creation might get DataLoader running slow or even freeze, lower the worker number to avoid potential slowness/freeze if necessary.\n",
            "  cpuset_checked))\n"
          ]
        },
        {
          "output_type": "stream",
          "name": "stdout",
          "text": [
            "Epoch 14 Step 59 ave_loss 0.0057\n",
            "Epoch 14 Step 119 ave_loss 0.0191\n",
            "Epoch 14 Step 179 ave_loss 0.0243\n",
            "Test model\n",
            "----------\n",
            "\n",
            "Evaluation completed in 0m 15s\n",
            "----------\n",
            "Test report: \n",
            "               precision    recall  f1-score   support\n",
            "\n",
            "          2C       0.60      0.80      0.69       409\n",
            "          3C       0.50      0.92      0.65       367\n",
            "          4C       1.00      0.47      0.64       831\n",
            "\n",
            "    accuracy                           0.66      1607\n",
            "   macro avg       0.70      0.73      0.66      1607\n",
            "weighted avg       0.78      0.66      0.65      1607\n",
            "\n",
            "---------------------------------------------------------------\n",
            "\n",
            "Epoch 15 report: \n",
            "Train model\n",
            "----------\n"
          ]
        },
        {
          "output_type": "stream",
          "name": "stderr",
          "text": [
            "/usr/local/lib/python3.7/dist-packages/torch/utils/data/dataloader.py:481: UserWarning: This DataLoader will create 4 worker processes in total. Our suggested max number of worker in current system is 2, which is smaller than what this DataLoader is going to create. Please be aware that excessive worker creation might get DataLoader running slow or even freeze, lower the worker number to avoid potential slowness/freeze if necessary.\n",
            "  cpuset_checked))\n"
          ]
        },
        {
          "output_type": "stream",
          "name": "stdout",
          "text": [
            "Epoch 15 Step 59 ave_loss 0.0113\n",
            "Epoch 15 Step 119 ave_loss 0.0102\n",
            "Epoch 15 Step 179 ave_loss 0.0033\n",
            "Test model\n",
            "----------\n",
            "\n",
            "Evaluation completed in 0m 15s\n",
            "----------\n",
            "Test report: \n",
            "               precision    recall  f1-score   support\n",
            "\n",
            "          2C       0.64      0.77      0.70       409\n",
            "          3C       0.58      0.79      0.67       367\n",
            "          4C       0.94      0.70      0.80       831\n",
            "\n",
            "    accuracy                           0.74      1607\n",
            "   macro avg       0.72      0.75      0.72      1607\n",
            "weighted avg       0.78      0.74      0.75      1607\n",
            "\n",
            "---------------------------------------------------------------\n",
            "\n",
            "Epoch 16 report: \n",
            "Train model\n",
            "----------\n"
          ]
        },
        {
          "output_type": "stream",
          "name": "stderr",
          "text": [
            "/usr/local/lib/python3.7/dist-packages/torch/utils/data/dataloader.py:481: UserWarning: This DataLoader will create 4 worker processes in total. Our suggested max number of worker in current system is 2, which is smaller than what this DataLoader is going to create. Please be aware that excessive worker creation might get DataLoader running slow or even freeze, lower the worker number to avoid potential slowness/freeze if necessary.\n",
            "  cpuset_checked))\n"
          ]
        },
        {
          "output_type": "stream",
          "name": "stdout",
          "text": [
            "Epoch 16 Step 59 ave_loss 0.0079\n",
            "Epoch 16 Step 119 ave_loss 0.0077\n",
            "Epoch 16 Step 179 ave_loss 0.0105\n",
            "Test model\n",
            "----------\n",
            "\n",
            "Evaluation completed in 0m 15s\n",
            "----------\n",
            "Test report: \n",
            "               precision    recall  f1-score   support\n",
            "\n",
            "          2C       0.58      0.80      0.68       409\n",
            "          3C       0.55      0.97      0.70       367\n",
            "          4C       0.99      0.47      0.64       831\n",
            "\n",
            "    accuracy                           0.67      1607\n",
            "   macro avg       0.71      0.75      0.67      1607\n",
            "weighted avg       0.79      0.67      0.66      1607\n",
            "\n",
            "---------------------------------------------------------------\n",
            "\n",
            "Epoch 17 report: \n",
            "Train model\n",
            "----------\n"
          ]
        },
        {
          "output_type": "stream",
          "name": "stderr",
          "text": [
            "/usr/local/lib/python3.7/dist-packages/torch/utils/data/dataloader.py:481: UserWarning: This DataLoader will create 4 worker processes in total. Our suggested max number of worker in current system is 2, which is smaller than what this DataLoader is going to create. Please be aware that excessive worker creation might get DataLoader running slow or even freeze, lower the worker number to avoid potential slowness/freeze if necessary.\n",
            "  cpuset_checked))\n"
          ]
        },
        {
          "output_type": "stream",
          "name": "stdout",
          "text": [
            "Epoch 17 Step 59 ave_loss 0.0072\n",
            "Epoch 17 Step 119 ave_loss 0.0030\n",
            "Epoch 17 Step 179 ave_loss 0.0023\n",
            "Test model\n",
            "----------\n",
            "\n",
            "Evaluation completed in 0m 15s\n",
            "----------\n",
            "Test report: \n",
            "               precision    recall  f1-score   support\n",
            "\n",
            "          2C       0.62      0.78      0.69       409\n",
            "          3C       0.68      0.95      0.79       367\n",
            "          4C       0.96      0.67      0.79       831\n",
            "\n",
            "    accuracy                           0.76      1607\n",
            "   macro avg       0.75      0.80      0.76      1607\n",
            "weighted avg       0.81      0.76      0.76      1607\n",
            "\n",
            "---------------------------------------------------------------\n",
            "\n",
            "Epoch 18 report: \n",
            "Train model\n",
            "----------\n"
          ]
        },
        {
          "output_type": "stream",
          "name": "stderr",
          "text": [
            "/usr/local/lib/python3.7/dist-packages/torch/utils/data/dataloader.py:481: UserWarning: This DataLoader will create 4 worker processes in total. Our suggested max number of worker in current system is 2, which is smaller than what this DataLoader is going to create. Please be aware that excessive worker creation might get DataLoader running slow or even freeze, lower the worker number to avoid potential slowness/freeze if necessary.\n",
            "  cpuset_checked))\n"
          ]
        },
        {
          "output_type": "stream",
          "name": "stdout",
          "text": [
            "Epoch 18 Step 59 ave_loss 0.0113\n",
            "Epoch 18 Step 119 ave_loss 0.0073\n",
            "Epoch 18 Step 179 ave_loss 0.0201\n",
            "Test model\n",
            "----------\n",
            "\n",
            "Evaluation completed in 0m 15s\n",
            "----------\n",
            "Test report: \n",
            "               precision    recall  f1-score   support\n",
            "\n",
            "          2C       0.68      0.77      0.72       409\n",
            "          3C       0.63      0.86      0.72       367\n",
            "          4C       0.97      0.76      0.85       831\n",
            "\n",
            "    accuracy                           0.78      1607\n",
            "   macro avg       0.76      0.79      0.77      1607\n",
            "weighted avg       0.82      0.78      0.79      1607\n",
            "\n",
            "---------------------------------------------------------------\n",
            "\n",
            "Epoch 19 report: \n",
            "Train model\n",
            "----------\n"
          ]
        },
        {
          "output_type": "stream",
          "name": "stderr",
          "text": [
            "/usr/local/lib/python3.7/dist-packages/torch/utils/data/dataloader.py:481: UserWarning: This DataLoader will create 4 worker processes in total. Our suggested max number of worker in current system is 2, which is smaller than what this DataLoader is going to create. Please be aware that excessive worker creation might get DataLoader running slow or even freeze, lower the worker number to avoid potential slowness/freeze if necessary.\n",
            "  cpuset_checked))\n"
          ]
        },
        {
          "output_type": "stream",
          "name": "stdout",
          "text": [
            "Epoch 19 Step 59 ave_loss 0.0067\n",
            "Epoch 19 Step 119 ave_loss 0.0050\n",
            "Epoch 19 Step 179 ave_loss 0.0079\n",
            "Test model\n",
            "----------\n",
            "\n",
            "Evaluation completed in 0m 15s\n",
            "----------\n",
            "Test report: \n",
            "               precision    recall  f1-score   support\n",
            "\n",
            "          2C       0.57      0.77      0.66       409\n",
            "          3C       0.56      0.93      0.70       367\n",
            "          4C       0.97      0.52      0.67       831\n",
            "\n",
            "    accuracy                           0.68      1607\n",
            "   macro avg       0.70      0.74      0.68      1607\n",
            "weighted avg       0.77      0.68      0.67      1607\n",
            "\n",
            "model: densenet121 , size: 224 , augmentation: aug\n",
            "accr:  [59, 69, 71, 71, 73, 70, 65, 82, 82, 83, 80, 78, 72, 71, 65, 73, 67, 76, 78, 67]\n",
            "loss:  [0.5554, 0.136, 0.1359, 0.0257, 0.0496, 0.0076, 0.0029, 0.008, 0.0019, 0.0249, 0.009, 0.0025, 0.007, 0.0119, 0.0152, 0.0025, 0.0008, 0.0026, 0.0015, 0.0022]\n"
          ]
        }
      ]
    },
    {
      "cell_type": "markdown",
      "metadata": {
        "id": "wXFcP_nm6l-Q"
      },
      "source": [
        "# Demo mô hình với video"
      ]
    },
    {
      "cell_type": "code",
      "metadata": {
        "id": "UXiLDpzR6fg2"
      },
      "source": [
        "def run_video(modelName = 'vgg16'):\n",
        "  print(modelName)\n",
        "  transform_test = transforms.Compose([\n",
        "        transforms.Resize((224,224)),\n",
        "        transforms.ToTensor()])\n",
        "  sample_data = torchvision.datasets.ImageFolder(\n",
        "      root='/content/echocardiography/DATA_CHAMBER_2021/test', \n",
        "      transform=transform_test)\n",
        "  videotest = namedtuple('videotest', ['id', \"ytrues\", 'ypreds'])\n",
        "  id_video = []\n",
        "\n",
        "  for i, image in enumerate(sample_data.imgs):\n",
        "    id_video.append(image[0].split(\"/\")[-1].split(\"_\")[0])\n",
        "  \n",
        "  video_list = []\n",
        "  for image in id_video:\n",
        "    if (image in video_list) == False:\n",
        "      video_list.append(image)\n",
        "    else:\n",
        "      pass\n",
        "\n",
        "  ytrue = []\n",
        "  ypred = []\n",
        "\n",
        "  if modelName == 'vgg16':\n",
        "    modelload = torchvision.models.vgg16(pretrained=False)\n",
        "    modelload.classifier[6] = torch.nn.modules.linear.Linear(in_features=4096, out_features=3, bias=True)\n",
        "    modelload.load_state_dict(torch.load('vgg16.pth'), strict=False)\n",
        "  elif modelName == \"resnet50\":\n",
        "    modelload = torchvision.models.resnet50(pretrained=False)\n",
        "    modelload.fc = torch.nn.modules.linear.Linear(in_features=2048, out_features=3, bias=True) \n",
        "    modelload.load_state_dict(torch.load('resnet50.pth'), strict=False)\n",
        "  elif modelName == \"resnet18\":\n",
        "    modelload = torchvision.models.resnet18(pretrained=False)\n",
        "    modelload.fc = torch.nn.modules.linear.Linear(in_features=512, out_features=3, bias=True) \n",
        "    modelload.load_state_dict(torch.load('resnet18.pth'), strict=False)\n",
        "  else:\n",
        "    modelload = torchvision.models.densenet121(pretrained=False)\n",
        "    modelload.classifier = torch.nn.modules.linear.Linear(in_features=1024, out_features=3, bias=True)\n",
        "    modelload.load_state_dict(torch.load('densenet121.pth'), strict=False)\n",
        "\n",
        "  modelload.to('cuda')\n",
        "  modelload.eval()\n",
        "  for image, label in sample_data:\n",
        "    image = image.unsqueeze(0).to('cuda')\n",
        "    output = modelload(image)\n",
        "    _, predicted = torch.max(output, dim=1)\n",
        "    ytrue.append(label)\n",
        "    ypred += list(predicted.cpu().numpy())\n",
        "\n",
        "  outputs_video = []\n",
        "  ytrue_video = []\n",
        "  ypred_video = []\n",
        "  index = 0\n",
        "  for id in video_list:\n",
        "    index += 1\n",
        "    vtrue = []\n",
        "    vpred = []\n",
        "    for i, img in enumerate(id_video):\n",
        "      if img == id:\n",
        "        vtrue.append(ytrue[i])\n",
        "        vpred.append(ypred[i])\n",
        "\n",
        "    rate_true = [0, 0, 0]\n",
        "    rate_pred = [0, 0, 0]\n",
        "    for label in range(3):\n",
        "      rate_true[label] = list(vtrue).count(label)\n",
        "      rate_pred[label] = list(vpred).count(label)\n",
        "\n",
        "    labeltrue = np.argmax(rate_true)\n",
        "    labelpred = np.argmax(rate_pred)\n",
        "\n",
        "    if index %4 != 0:\n",
        "      print(\"id: \", id, \", true:\", labeltrue, \", pred: \", labelpred, end=\"  |  \")\n",
        "    else: print(\"id: \", id, \", true:\", labeltrue, \", pred: \", labelpred)\n",
        "    ytrue_video.append(labeltrue)\n",
        "    ypred_video.append(labelpred)\n",
        "    outputs_video.append(videotest(id=id,ytrues=labeltrue,ypreds=labelpred))\n",
        "  print(classification_report(ytrue_video, ypred_video, target_names=classes))\n",
        "  return outputs_video"
      ],
      "execution_count": 12,
      "outputs": []
    },
    {
      "cell_type": "code",
      "metadata": {
        "id": "71Uqr7_HFxEc",
        "colab": {
          "base_uri": "https://localhost:8080/"
        },
        "outputId": "091a5857-705e-4f85-ba67-16879eb64ece"
      },
      "source": [
        "# result = run_video('vgg16')\n",
        "for i in modelset:\n",
        "  result = run_video(modelName=i)"
      ],
      "execution_count": 13,
      "outputs": [
        {
          "output_type": "stream",
          "name": "stdout",
          "text": [
            "vgg16\n",
            "id:  158 , true: 0 , pred:  0  |  id:  165 , true: 0 , pred:  0  |  id:  168 , true: 0 , pred:  0  |  id:  169 , true: 0 , pred:  0\n",
            "id:  171 , true: 0 , pred:  0  |  id:  176 , true: 0 , pred:  0  |  id:  177 , true: 0 , pred:  0  |  id:  178 , true: 0 , pred:  0\n",
            "id:  181 , true: 0 , pred:  0  |  id:  183 , true: 0 , pred:  0  |  id:  191 , true: 0 , pred:  0  |  id:  192 , true: 0 , pred:  0\n",
            "id:  157 , true: 1 , pred:  1  |  id:  159 , true: 1 , pred:  1  |  id:  161 , true: 1 , pred:  1  |  id:  162 , true: 1 , pred:  1\n",
            "id:  166 , true: 1 , pred:  1  |  id:  174 , true: 1 , pred:  1  |  id:  175 , true: 1 , pred:  1  |  id:  179 , true: 1 , pred:  1\n",
            "id:  185 , true: 1 , pred:  1  |  id:  186 , true: 1 , pred:  1  |  id:  189 , true: 1 , pred:  1  |  id:  190 , true: 1 , pred:  1\n",
            "id:  194 , true: 1 , pred:  1  |  id:  160 , true: 2 , pred:  2  |  id:  163 , true: 2 , pred:  2  |  id:  164 , true: 2 , pred:  2\n",
            "id:  167 , true: 2 , pred:  2  |  id:  170 , true: 2 , pred:  2  |  id:  172 , true: 2 , pred:  2  |  id:  173 , true: 2 , pred:  0\n",
            "id:  180 , true: 2 , pred:  2  |  id:  182 , true: 2 , pred:  2  |  id:  184 , true: 2 , pred:  2  |  id:  187 , true: 2 , pred:  2\n",
            "id:  188 , true: 2 , pred:  2  |  id:  193 , true: 2 , pred:  2  |  id:  195 , true: 2 , pred:  1  |                precision    recall  f1-score   support\n",
            "\n",
            "          2C       0.92      1.00      0.96        12\n",
            "          3C       0.93      1.00      0.96        13\n",
            "          4C       1.00      0.86      0.92        14\n",
            "\n",
            "    accuracy                           0.95        39\n",
            "   macro avg       0.95      0.95      0.95        39\n",
            "weighted avg       0.95      0.95      0.95        39\n",
            "\n",
            "resnet18\n",
            "id:  158 , true: 0 , pred:  0  |  id:  165 , true: 0 , pred:  0  |  id:  168 , true: 0 , pred:  0  |  id:  169 , true: 0 , pred:  0\n",
            "id:  171 , true: 0 , pred:  0  |  id:  176 , true: 0 , pred:  0  |  id:  177 , true: 0 , pred:  0  |  id:  178 , true: 0 , pred:  0\n",
            "id:  181 , true: 0 , pred:  1  |  id:  183 , true: 0 , pred:  0  |  id:  191 , true: 0 , pred:  0  |  id:  192 , true: 0 , pred:  0\n",
            "id:  157 , true: 1 , pred:  1  |  id:  159 , true: 1 , pred:  1  |  id:  161 , true: 1 , pred:  1  |  id:  162 , true: 1 , pred:  1\n",
            "id:  166 , true: 1 , pred:  1  |  id:  174 , true: 1 , pred:  1  |  id:  175 , true: 1 , pred:  1  |  id:  179 , true: 1 , pred:  1\n",
            "id:  185 , true: 1 , pred:  2  |  id:  186 , true: 1 , pred:  1  |  id:  189 , true: 1 , pred:  1  |  id:  190 , true: 1 , pred:  1\n",
            "id:  194 , true: 1 , pred:  1  |  id:  160 , true: 2 , pred:  2  |  id:  163 , true: 2 , pred:  2  |  id:  164 , true: 2 , pred:  2\n",
            "id:  167 , true: 2 , pred:  2  |  id:  170 , true: 2 , pred:  2  |  id:  172 , true: 2 , pred:  2  |  id:  173 , true: 2 , pred:  0\n",
            "id:  180 , true: 2 , pred:  2  |  id:  182 , true: 2 , pred:  2  |  id:  184 , true: 2 , pred:  2  |  id:  187 , true: 2 , pred:  1\n",
            "id:  188 , true: 2 , pred:  2  |  id:  193 , true: 2 , pred:  0  |  id:  195 , true: 2 , pred:  1  |                precision    recall  f1-score   support\n",
            "\n",
            "          2C       0.85      0.92      0.88        12\n",
            "          3C       0.80      0.92      0.86        13\n",
            "          4C       0.91      0.71      0.80        14\n",
            "\n",
            "    accuracy                           0.85        39\n",
            "   macro avg       0.85      0.85      0.85        39\n",
            "weighted avg       0.85      0.85      0.84        39\n",
            "\n",
            "resnet50\n",
            "id:  158 , true: 0 , pred:  0  |  id:  165 , true: 0 , pred:  0  |  id:  168 , true: 0 , pred:  0  |  id:  169 , true: 0 , pred:  0\n",
            "id:  171 , true: 0 , pred:  0  |  id:  176 , true: 0 , pred:  0  |  id:  177 , true: 0 , pred:  0  |  id:  178 , true: 0 , pred:  0\n",
            "id:  181 , true: 0 , pred:  0  |  id:  183 , true: 0 , pred:  0  |  id:  191 , true: 0 , pred:  0  |  id:  192 , true: 0 , pred:  0\n",
            "id:  157 , true: 1 , pred:  1  |  id:  159 , true: 1 , pred:  1  |  id:  161 , true: 1 , pred:  1  |  id:  162 , true: 1 , pred:  1\n",
            "id:  166 , true: 1 , pred:  1  |  id:  174 , true: 1 , pred:  0  |  id:  175 , true: 1 , pred:  1  |  id:  179 , true: 1 , pred:  1\n",
            "id:  185 , true: 1 , pred:  0  |  id:  186 , true: 1 , pred:  1  |  id:  189 , true: 1 , pred:  1  |  id:  190 , true: 1 , pred:  1\n",
            "id:  194 , true: 1 , pred:  0  |  id:  160 , true: 2 , pred:  2  |  id:  163 , true: 2 , pred:  2  |  id:  164 , true: 2 , pred:  2\n",
            "id:  167 , true: 2 , pred:  2  |  id:  170 , true: 2 , pred:  2  |  id:  172 , true: 2 , pred:  2  |  id:  173 , true: 2 , pred:  0\n",
            "id:  180 , true: 2 , pred:  2  |  id:  182 , true: 2 , pred:  2  |  id:  184 , true: 2 , pred:  2  |  id:  187 , true: 2 , pred:  2\n",
            "id:  188 , true: 2 , pred:  2  |  id:  193 , true: 2 , pred:  0  |  id:  195 , true: 2 , pred:  1  |                precision    recall  f1-score   support\n",
            "\n",
            "          2C       0.71      1.00      0.83        12\n",
            "          3C       0.91      0.77      0.83        13\n",
            "          4C       1.00      0.79      0.88        14\n",
            "\n",
            "    accuracy                           0.85        39\n",
            "   macro avg       0.87      0.85      0.85        39\n",
            "weighted avg       0.88      0.85      0.85        39\n",
            "\n",
            "densenet121\n",
            "id:  158 , true: 0 , pred:  0  |  id:  165 , true: 0 , pred:  0  |  id:  168 , true: 0 , pred:  0  |  id:  169 , true: 0 , pred:  0\n",
            "id:  171 , true: 0 , pred:  0  |  id:  176 , true: 0 , pred:  0  |  id:  177 , true: 0 , pred:  0  |  id:  178 , true: 0 , pred:  0\n",
            "id:  181 , true: 0 , pred:  1  |  id:  183 , true: 0 , pred:  0  |  id:  191 , true: 0 , pred:  0  |  id:  192 , true: 0 , pred:  0\n",
            "id:  157 , true: 1 , pred:  1  |  id:  159 , true: 1 , pred:  1  |  id:  161 , true: 1 , pred:  1  |  id:  162 , true: 1 , pred:  1\n",
            "id:  166 , true: 1 , pred:  1  |  id:  174 , true: 1 , pred:  0  |  id:  175 , true: 1 , pred:  1  |  id:  179 , true: 1 , pred:  1\n",
            "id:  185 , true: 1 , pred:  1  |  id:  186 , true: 1 , pred:  1  |  id:  189 , true: 1 , pred:  1  |  id:  190 , true: 1 , pred:  1\n",
            "id:  194 , true: 1 , pred:  1  |  id:  160 , true: 2 , pred:  1  |  id:  163 , true: 2 , pred:  2  |  id:  164 , true: 2 , pred:  2\n",
            "id:  167 , true: 2 , pred:  2  |  id:  170 , true: 2 , pred:  1  |  id:  172 , true: 2 , pred:  2  |  id:  173 , true: 2 , pred:  0\n",
            "id:  180 , true: 2 , pred:  2  |  id:  182 , true: 2 , pred:  2  |  id:  184 , true: 2 , pred:  2  |  id:  187 , true: 2 , pred:  2\n",
            "id:  188 , true: 2 , pred:  2  |  id:  193 , true: 2 , pred:  0  |  id:  195 , true: 2 , pred:  1  |                precision    recall  f1-score   support\n",
            "\n",
            "          2C       0.79      0.92      0.85        12\n",
            "          3C       0.75      0.92      0.83        13\n",
            "          4C       1.00      0.64      0.78        14\n",
            "\n",
            "    accuracy                           0.82        39\n",
            "   macro avg       0.85      0.83      0.82        39\n",
            "weighted avg       0.85      0.82      0.82        39\n",
            "\n"
          ]
        }
      ]
    },
    {
      "cell_type": "code",
      "metadata": {
        "id": "tagym1XdNnXs"
      },
      "source": [
        "# for i in range(len(result)):\n",
        "#   if (i+1)%3!=0:\n",
        "#     print(result[i], end=\"  |  \")\n",
        "#   else: print(result[i])"
      ],
      "execution_count": 14,
      "outputs": []
    },
    {
      "cell_type": "code",
      "metadata": {
        "id": "J4VHZ_CHUHXc"
      },
      "source": [
        "import pandas as pd\n",
        "def demo_frame(modelName='vgg16'):\n",
        "  print(modelName)\n",
        "  transform_test = transforms.Compose([\n",
        "        transforms.Resize((224,224)),\n",
        "        transforms.ToTensor()])\n",
        "  sample_data = torchvision.datasets.ImageFolder(\n",
        "      root='/content/echocardiography/DATA_CHAMBER_2021/test', \n",
        "      transform=transform_test)\n",
        "  filename = []\n",
        "  for i, image in enumerate(sample_data.imgs):\n",
        "    filename.append(image[0].split(\"/\")[-1])\n",
        "    # print(image[0].split(\"/\")[-1])\n",
        "  if modelName == 'vgg16':\n",
        "    modelload = torchvision.models.vgg16(pretrained=False)\n",
        "    modelload.classifier[6] = torch.nn.modules.linear.Linear(in_features=4096, out_features=3, bias=True)\n",
        "    modelload.load_state_dict(torch.load('vgg16.pth'), strict=False)\n",
        "  elif modelName == \"resnet50\":\n",
        "    modelload = torchvision.models.resnet50(pretrained=False)\n",
        "    modelload.fc = torch.nn.modules.linear.Linear(in_features=2048, out_features=3, bias=True) \n",
        "    modelload.load_state_dict(torch.load('resnet50.pth'), strict=False)\n",
        "  elif modelName == \"resnet18\":\n",
        "    modelload = torchvision.models.resnet18(pretrained=False)\n",
        "    modelload.fc = torch.nn.modules.linear.Linear(in_features=512, out_features=3, bias=True) \n",
        "    modelload.load_state_dict(torch.load('resnet18.pth'), strict=False)\n",
        "  else:\n",
        "    modelload = torchvision.models.densenet121(pretrained=False)\n",
        "    modelload.classifier = torch.nn.modules.linear.Linear(in_features=1024, out_features=3, bias=True)\n",
        "    modelload.load_state_dict(torch.load('densenet121.pth'), strict=False)\n",
        "\n",
        "  modelload.to('cuda')\n",
        "  modelload.eval()\n",
        "  ypred = []\n",
        "  for image, label in sample_data:\n",
        "      image = image.unsqueeze(0).to('cuda')\n",
        "      output = modelload(image)\n",
        "      _, predicted = torch.max(output, dim=1)\n",
        "      ypred += list(predicted.cpu().numpy())\n",
        "  classes0 = {'2C':0 , '3C':1, '4C':2}\n",
        "  classes0 = dict((v,k) for k,v in classes0.items())\n",
        "  predictions = [classes0[k] for k in ypred]\n",
        "  result0 = pd.DataFrame({\"Filename\":filename, \"Prediction\":predictions})\n",
        "  results_file = \"./\" + modelName + \"_results.csv\"\n",
        "  result0.to_csv(results_file,index=False)"
      ],
      "execution_count": 15,
      "outputs": []
    },
    {
      "cell_type": "code",
      "metadata": {
        "id": "Elx3_YDegfPc",
        "colab": {
          "base_uri": "https://localhost:8080/"
        },
        "outputId": "1e39143f-7360-409d-9d35-2889095739b3"
      },
      "source": [
        "for i in modelset:\n",
        "  result = demo_frame(modelName=i)"
      ],
      "execution_count": 16,
      "outputs": [
        {
          "output_type": "stream",
          "name": "stdout",
          "text": [
            "vgg16\n",
            "resnet18\n",
            "resnet50\n",
            "densenet121\n"
          ]
        }
      ]
    }
  ]
}