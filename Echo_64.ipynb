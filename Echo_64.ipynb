{
  "nbformat": 4,
  "nbformat_minor": 0,
  "metadata": {
    "colab": {
      "name": "Echo_64.ipynb",
      "provenance": [],
      "collapsed_sections": []
    },
    "kernelspec": {
      "name": "python3",
      "display_name": "Python 3"
    },
    "language_info": {
      "name": "python"
    },
    "accelerator": "GPU"
  },
  "cells": [
    {
      "cell_type": "markdown",
      "metadata": {
        "id": "S2ijQ0OB1vHT"
      },
      "source": [
        "# Import"
      ]
    },
    {
      "cell_type": "code",
      "metadata": {
        "id": "ZpQ7BUoV4_Oi"
      },
      "source": [
        "\n",
        "# Import Library\n",
        "import torch\n",
        "torch.cuda.empty_cache()\n",
        "import torch.nn as nn\n",
        "from torch.utils.data import DataLoader\n",
        "import torch.optim as optim\n",
        "\n",
        "import cv2\n",
        "import numpy as np\n",
        "import matplotlib.pyplot as plt\n",
        "\n",
        "import torchvision\n",
        "from torchvision import models,transforms\n",
        "\n",
        "from collections import namedtuple\n",
        "\n",
        "from sklearn.metrics import classification_report\n",
        "\n",
        "import time"
      ],
      "execution_count": 1,
      "outputs": []
    },
    {
      "cell_type": "markdown",
      "metadata": {
        "id": "G26oe6fk2F8s"
      },
      "source": [
        "# Get DATA"
      ]
    },
    {
      "cell_type": "code",
      "metadata": {
        "id": "JJnVjBsj6c2U",
        "colab": {
          "base_uri": "https://localhost:8080/"
        },
        "outputId": "bb9e02af-f820-42a2-fa5e-9dc33daa3773"
      },
      "source": [
        "# Using CUDA\n",
        "use_gpu = torch.cuda.is_available()\n",
        "if use_gpu:\n",
        "    print(\"Using CUDA\")\n",
        "else: print(\"Using CPU\")"
      ],
      "execution_count": 2,
      "outputs": [
        {
          "output_type": "stream",
          "name": "stdout",
          "text": [
            "Using CUDA\n"
          ]
        }
      ]
    },
    {
      "cell_type": "code",
      "metadata": {
        "id": "gDVNC4AC6lP8",
        "colab": {
          "base_uri": "https://localhost:8080/"
        },
        "outputId": "6da83c02-bd11-4bea-c4dc-4339aac95947"
      },
      "source": [
        "# Clone Data\n",
        "!git clone https://github.com/qcuong103/echocardiography\n",
        "\n",
        "# Hyper-parameters\n",
        "classes = ['2C', '3C', '4C']\n",
        "TrainTest = namedtuple('TrainTest', ['train', 'test'])"
      ],
      "execution_count": 3,
      "outputs": [
        {
          "output_type": "stream",
          "name": "stdout",
          "text": [
            "Cloning into 'echocardiography'...\n",
            "remote: Enumerating objects: 8335, done.\u001b[K\n",
            "remote: Total 8335 (delta 0), reused 0 (delta 0), pack-reused 8335\u001b[K\n",
            "Receiving objects: 100% (8335/8335), 488.10 MiB | 30.96 MiB/s, done.\n",
            "Resolving deltas: 100% (2/2), done.\n",
            "Checking out files: 100% (8327/8327), done.\n"
          ]
        }
      ]
    },
    {
      "cell_type": "markdown",
      "metadata": {
        "id": "2HViKL8A2LT8"
      },
      "source": [
        "# Prepare Data"
      ]
    },
    {
      "cell_type": "code",
      "metadata": {
        "id": "7XeE9l6g2AyE"
      },
      "source": [
        "# Transforms Data\n",
        "def prepare_data(sizeImg=224, typeImg=\"None\"):\n",
        "  if (typeImg == \"None\"):\n",
        "    if (sizeImg == 224):\n",
        "      transform_train = transforms.Compose([\n",
        "        transforms.Resize((224,224)),\n",
        "        transforms.ToTensor()])\n",
        "      transform_test = transforms.Compose([\n",
        "        transforms.Resize((224,224)),\n",
        "        transforms.ToTensor()])\n",
        "    elif (sizeImg == 64):\n",
        "      transform_train = transforms.Compose([\n",
        "        transforms.Resize((64,64)),\n",
        "        transforms.ToTensor()])\n",
        "      transform_test = transforms.Compose([\n",
        "        transforms.Resize((64,64)),\n",
        "        transforms.ToTensor()])\n",
        "    else:\n",
        "      transform_train = transforms.Compose([\n",
        "        transforms.Resize((32,32)),\n",
        "        transforms.ToTensor()])\n",
        "      transform_test = transforms.Compose([\n",
        "        transforms.Resize((32,32)),\n",
        "        transforms.ToTensor()])\n",
        "  elif (typeImg == \"aug\"):\n",
        "    transform_train = transforms.Compose([\n",
        "      transforms.Resize((224,224)),\n",
        "      transforms.RandomHorizontalFlip(p=0.3),\n",
        "      transforms.RandomVerticalFlip(p=0.3),\n",
        "      transforms.RandomRotation(degrees=10),\n",
        "      transforms.ToTensor()])\n",
        "    transform_test = transforms.Compose([\n",
        "      transforms.Resize((224,224)),\n",
        "      transforms.ToTensor()])\n",
        "  else:\n",
        "    transform_train = transforms.Compose([\n",
        "      transforms.Resize((224,224)),\n",
        "      transforms.RandomEqualize(p=1),\n",
        "      transforms.GaussianBlur(kernel_size=3),\n",
        "      transforms.ToTensor()])\n",
        "    transform_test = transforms.Compose([\n",
        "      transforms.Resize((224,224)),\n",
        "      transforms.RandomEqualize(p=1),\n",
        "      transforms.GaussianBlur(kernel_size=3),\n",
        "      transforms.ToTensor()])\n",
        "    \n",
        "  trainset = torchvision.datasets.ImageFolder(\n",
        "      root='/content/echocardiography/DATA_CHAMBER_2021/train', \n",
        "      transform=transform_train)\n",
        "  testset = torchvision.datasets.ImageFolder(\n",
        "      root='/content/echocardiography/DATA_CHAMBER_2021/test', \n",
        "      transform=transform_test)\n",
        "  \n",
        "  print(\"Number of Image in train set:\", len(trainset))\n",
        "  print(\"Number of Image in test set:\", len(testset))\n",
        "\n",
        "  return TrainTest(train=trainset,test=testset)\n",
        "\n",
        "# Load Data\n",
        "def prepare_loader(datasets):\n",
        "  batch_size = 32\n",
        "  trainloader = DataLoader(\n",
        "    dataset=datasets.train, batch_size=batch_size, \n",
        "    shuffle=True, num_workers=4\n",
        "  )\n",
        "  testloader = DataLoader(\n",
        "    dataset=datasets.test, batch_size=batch_size, \n",
        "    shuffle=True, num_workers=4\n",
        "  )\n",
        "  \n",
        "  print(\"Num batch in train set: \", len(trainloader))\n",
        "  print(\"Num batch in test set: \", len(testloader))\n",
        "  class_names = datasets.train.classes\n",
        "  inputs, classes = next(iter(trainloader))\n",
        "  # show_databatch(inputs, classes)\n",
        "  for i in range(4):\n",
        "    print([class_names[x] for x in classes[(8*i):(8*i+8)]])\n",
        "  imshow(torchvision.utils.make_grid(inputs))\n",
        "  return TrainTest(train=trainloader, test=testloader)\n",
        "\n",
        "def imshow(inp, title=None):\n",
        "    inp = inp.numpy().transpose((1, 2, 0))\n",
        "    # plt.figure(figsize=(10, 10))\n",
        "    plt.axis('off')\n",
        "    plt.imshow(inp)\n",
        "    if title is not None:\n",
        "        plt.title(title)\n",
        "    plt.pause(0.001)\n",
        "\n",
        "# dataset = prepare_data()\n",
        "# loaderset = prepare_loader(dataset)"
      ],
      "execution_count": 4,
      "outputs": []
    },
    {
      "cell_type": "code",
      "metadata": {
        "colab": {
          "base_uri": "https://localhost:8080/",
          "height": 36
        },
        "id": "jkavKRFJUYhz",
        "outputId": "d27dfff6-6aca-4a35-cc1a-d2764994f016"
      },
      "source": [
        "torch.__version__"
      ],
      "execution_count": 5,
      "outputs": [
        {
          "output_type": "execute_result",
          "data": {
            "application/vnd.google.colaboratory.intrinsic+json": {
              "type": "string"
            },
            "text/plain": [
              "'1.10.0+cu111'"
            ]
          },
          "metadata": {},
          "execution_count": 5
        }
      ]
    },
    {
      "cell_type": "markdown",
      "metadata": {
        "id": "EGa4ZYUapWax"
      },
      "source": [
        "# **Train**"
      ]
    },
    {
      "cell_type": "code",
      "metadata": {
        "id": "gpvWunBb9VSz"
      },
      "source": [
        "def train_epoch(epoch, model, loader, loss_func, optimizer, device):\n",
        "  print(\"Train model\")\n",
        "  print('-' * 10)\n",
        "  model.train()\n",
        "  running_loss = 0.0\n",
        "  images_so_close = 0.0\n",
        "  reporting_steps = 60\n",
        "\n",
        "  for i, (images, labels) in enumerate(loader):\n",
        "    images, labels = images.to(device), labels.to(device)\n",
        "    \n",
        "    optimizer.zero_grad()\n",
        "    outputs = model(images)\n",
        "    loss = loss_func(outputs, labels)\n",
        "    loss.backward()\n",
        "    optimizer.step()\n",
        "\n",
        "    images_so_close = loss.item()\n",
        "    running_loss += images_so_close\n",
        "    if i % reporting_steps == reporting_steps - 1:\n",
        "      print(f\"Epoch {epoch} Step {i} ave_loss {running_loss/reporting_steps:.4f}\")\n",
        "      running_loss = 0.0\n",
        "  return images_so_close\n"
      ],
      "execution_count": 6,
      "outputs": []
    },
    {
      "cell_type": "markdown",
      "metadata": {
        "id": "jXViyKY2pau5"
      },
      "source": [
        "# **Test**"
      ]
    },
    {
      "cell_type": "code",
      "metadata": {
        "id": "yDnb7RX-JtX_"
      },
      "source": [
        "def test_epoch(epoch, model, loader, device):\n",
        "  since = time.time()\n",
        "\n",
        "  model.eval()\n",
        "  ytrue = []\n",
        "  ypred = []\n",
        "\n",
        "  print(\"Test model\")\n",
        "  print('-' * 10)\n",
        "\n",
        "  for i, (images, labels) in enumerate(loader):\n",
        "    images, labels = images.to(device), labels.to(device)\n",
        "\n",
        "    outputs = model(images)\n",
        "    _, predicted = torch.max(outputs, dim=1)\n",
        "    ytrue += list(labels.cpu().numpy())\n",
        "    ypred += list(predicted.cpu().numpy())\n",
        "\n",
        "  elapsed_time = time.time() - since\n",
        "  print()\n",
        "  print(\"Evaluation completed in {:.0f}m {:.0f}s\".format(elapsed_time // 60, elapsed_time % 60))\n",
        "  print('-' * 10)\n",
        "\n",
        "  return ypred, ytrue"
      ],
      "execution_count": 7,
      "outputs": []
    },
    {
      "cell_type": "markdown",
      "metadata": {
        "id": "F4_OzR3OpfvT"
      },
      "source": [
        "# **Main**"
      ]
    },
    {
      "cell_type": "code",
      "metadata": {
        "id": "xYtxYUVY9ZUu"
      },
      "source": [
        "def run(modelName, imgSize, aug):\n",
        "  PATH = \"./\" + modelName + '.pth'\n",
        "  datasets = prepare_data(imgSize, aug)\n",
        "  loaders = prepare_loader(datasets)\n",
        "  use_pretrained = False\n",
        "  device = torch.device(\"cuda\" if torch.cuda.is_available() else \"cpu\")\n",
        "  print(\"image size: \", datasets.train[0][0].shape)\n",
        "  print(\"device:\", device)\n",
        "  print(\"model:\", modelName)\n",
        "  \n",
        "  if modelName == 'vgg16':\n",
        "    model = models.vgg16(pretrained=use_pretrained)\n",
        "    model.classifier[6] = nn.modules.linear.Linear(in_features=4096, out_features=3, bias=True)\n",
        "  elif modelName == 'resnet50':\n",
        "    model = models.resnet50(pretrained=use_pretrained)\n",
        "    model.fc = nn.modules.linear.Linear(in_features=2048, out_features=3, bias=True) \n",
        "  elif modelName == 'resnet18':\n",
        "    model = models.resnet18(pretrained=use_pretrained)\n",
        "    model.fc = nn.modules.linear.Linear(in_features=512, out_features=3, bias=True)\n",
        "  else:\n",
        "    model = models.densenet121(pretrained=use_pretrained)\n",
        "    model.classifier = nn.modules.linear.Linear(in_features=1024, out_features=3, bias=True)\n",
        "  model.to(device)\n",
        "\n",
        "  loss_func = nn.CrossEntropyLoss()\n",
        "  optimizer = optim.SGD(model.parameters(), lr=0.01, momentum=0.9, weight_decay=5e-4)\n",
        "\n",
        "  # class_out = len(classes)\n",
        "  n_epoch = 20\n",
        "\n",
        "  accuracies = []\n",
        "  losses = []\n",
        "  for epoch in range(n_epoch):\n",
        "    print(\"---------------------------------------------------------------\")\n",
        "    print(f\"\\nEpoch {epoch} report: \")\n",
        "    loss = train_epoch(epoch, model, loaders.train, loss_func, optimizer, device)\n",
        "    ypred, ytrue = test_epoch(epoch, model, loaders.test, device)\n",
        "\n",
        "    print(\"Test report: \\n\", classification_report(ytrue, ypred, target_names=classes))\n",
        "    \n",
        "    torch.save(model.state_dict(), PATH)\n",
        "\n",
        "    ypred = np.array(ypred)\n",
        "    ytrue = np.array(ytrue)\n",
        "    accuracy = int((ytrue==ypred).sum() / len(ytrue) * 100)\n",
        "    accuracies.append(accuracy)\n",
        "    losses.append(round(loss, 4))\n",
        "\n",
        "  print(\"model:\", modelName, \", size:\", imgSize, \", augmentation:\", aug)\n",
        "  print(\"accr: \", accuracies)\n",
        "  print(\"loss: \", losses)\n",
        "  return model"
      ],
      "execution_count": 8,
      "outputs": []
    },
    {
      "cell_type": "markdown",
      "metadata": {
        "id": "susXffaJpoeu"
      },
      "source": [
        "# **Run**"
      ]
    },
    {
      "cell_type": "code",
      "metadata": {
        "id": "3ZTxR7ny9n51",
        "colab": {
          "base_uri": "https://localhost:8080/",
          "height": 1000
        },
        "outputId": "42883e83-c383-4072-e3b3-8e2451c35ea2"
      },
      "source": [
        "modelset = ['vgg16', 'resnet18', 'resnet50', 'densenet121']\n",
        "\n",
        "for i in modelset:\n",
        "  model = run(modelName=i, imgSize=64, aug=\"None\")"
      ],
      "execution_count": 9,
      "outputs": [
        {
          "output_type": "stream",
          "name": "stdout",
          "text": [
            "Number of Image in train set: 6717\n",
            "Number of Image in test set: 1607\n",
            "Num batch in train set:  210\n",
            "Num batch in test set:  51\n"
          ]
        },
        {
          "output_type": "stream",
          "name": "stderr",
          "text": [
            "/usr/local/lib/python3.7/dist-packages/torch/utils/data/dataloader.py:481: UserWarning: This DataLoader will create 4 worker processes in total. Our suggested max number of worker in current system is 2, which is smaller than what this DataLoader is going to create. Please be aware that excessive worker creation might get DataLoader running slow or even freeze, lower the worker number to avoid potential slowness/freeze if necessary.\n",
            "  cpuset_checked))\n"
          ]
        },
        {
          "output_type": "stream",
          "name": "stdout",
          "text": [
            "['3C', '4C', '2C', '2C', '4C', '2C', '2C', '3C']\n",
            "['3C', '2C', '2C', '4C', '4C', '4C', '4C', '2C']\n",
            "['3C', '4C', '4C', '3C', '3C', '2C', '4C', '4C']\n",
            "['3C', '2C', '2C', '3C', '2C', '3C', '2C', '2C']\n"
          ]
        },
        {
          "output_type": "display_data",
          "data": {
            "image/png": "[encoded data removed]",
            "text/plain": [
              "<Figure size 432x288 with 1 Axes>"
            ]
          },
          "metadata": {
            "needs_background": "light"
          }
        },
        {
          "output_type": "stream",
          "name": "stdout",
          "text": [
            "image size:  torch.Size([3, 64, 64])\n",
            "device: cuda\n",
            "model: vgg16\n",
            "---------------------------------------------------------------\n",
            "\n",
            "Epoch 0 report: \n",
            "Train model\n",
            "----------\n",
            "Epoch 0 Step 59 ave_loss 1.0924\n",
            "Epoch 0 Step 119 ave_loss 0.9388\n",
            "Epoch 0 Step 179 ave_loss 0.5268\n",
            "Test model\n",
            "----------\n",
            "\n",
            "Evaluation completed in 0m 12s\n",
            "----------\n",
            "Test report: \n",
            "               precision    recall  f1-score   support\n",
            "\n",
            "          2C       0.17      0.01      0.01       409\n",
            "          3C       0.40      0.99      0.57       367\n",
            "          4C       0.99      0.81      0.89       831\n",
            "\n",
            "    accuracy                           0.64      1607\n",
            "   macro avg       0.52      0.60      0.49      1607\n",
            "weighted avg       0.65      0.64      0.59      1607\n",
            "\n",
            "---------------------------------------------------------------\n",
            "\n",
            "Epoch 1 report: \n",
            "Train model\n",
            "----------\n"
          ]
        },
        {
          "output_type": "stream",
          "name": "stderr",
          "text": [
            "/usr/local/lib/python3.7/dist-packages/torch/utils/data/dataloader.py:481: UserWarning: This DataLoader will create 4 worker processes in total. Our suggested max number of worker in current system is 2, which is smaller than what this DataLoader is going to create. Please be aware that excessive worker creation might get DataLoader running slow or even freeze, lower the worker number to avoid potential slowness/freeze if necessary.\n",
            "  cpuset_checked))\n"
          ]
        },
        {
          "output_type": "stream",
          "name": "stdout",
          "text": [
            "Epoch 1 Step 59 ave_loss 0.3323\n",
            "Epoch 1 Step 119 ave_loss 0.1670\n",
            "Epoch 1 Step 179 ave_loss 0.1119\n",
            "Test model\n",
            "----------\n",
            "\n",
            "Evaluation completed in 0m 11s\n",
            "----------\n",
            "Test report: \n",
            "               precision    recall  f1-score   support\n",
            "\n",
            "          2C       0.64      0.92      0.76       409\n",
            "          3C       0.87      0.93      0.90       367\n",
            "          4C       1.00      0.76      0.86       831\n",
            "\n",
            "    accuracy                           0.84      1607\n",
            "   macro avg       0.84      0.87      0.84      1607\n",
            "weighted avg       0.88      0.84      0.84      1607\n",
            "\n",
            "---------------------------------------------------------------\n",
            "\n",
            "Epoch 2 report: \n",
            "Train model\n",
            "----------\n"
          ]
        },
        {
          "output_type": "stream",
          "name": "stderr",
          "text": [
            "/usr/local/lib/python3.7/dist-packages/torch/utils/data/dataloader.py:481: UserWarning: This DataLoader will create 4 worker processes in total. Our suggested max number of worker in current system is 2, which is smaller than what this DataLoader is going to create. Please be aware that excessive worker creation might get DataLoader running slow or even freeze, lower the worker number to avoid potential slowness/freeze if necessary.\n",
            "  cpuset_checked))\n"
          ]
        },
        {
          "output_type": "stream",
          "name": "stdout",
          "text": [
            "Epoch 2 Step 59 ave_loss 0.0949\n",
            "Epoch 2 Step 119 ave_loss 0.0748\n",
            "Epoch 2 Step 179 ave_loss 0.0389\n",
            "Test model\n",
            "----------\n",
            "\n",
            "Evaluation completed in 0m 12s\n",
            "----------\n",
            "Test report: \n",
            "               precision    recall  f1-score   support\n",
            "\n",
            "          2C       0.65      0.93      0.76       409\n",
            "          3C       0.84      0.92      0.88       367\n",
            "          4C       1.00      0.75      0.86       831\n",
            "\n",
            "    accuracy                           0.83      1607\n",
            "   macro avg       0.83      0.86      0.83      1607\n",
            "weighted avg       0.87      0.83      0.84      1607\n",
            "\n",
            "---------------------------------------------------------------\n",
            "\n",
            "Epoch 3 report: \n",
            "Train model\n",
            "----------\n"
          ]
        },
        {
          "output_type": "stream",
          "name": "stderr",
          "text": [
            "/usr/local/lib/python3.7/dist-packages/torch/utils/data/dataloader.py:481: UserWarning: This DataLoader will create 4 worker processes in total. Our suggested max number of worker in current system is 2, which is smaller than what this DataLoader is going to create. Please be aware that excessive worker creation might get DataLoader running slow or even freeze, lower the worker number to avoid potential slowness/freeze if necessary.\n",
            "  cpuset_checked))\n"
          ]
        },
        {
          "output_type": "stream",
          "name": "stdout",
          "text": [
            "Epoch 3 Step 59 ave_loss 0.0104\n",
            "Epoch 3 Step 119 ave_loss 0.0169\n",
            "Epoch 3 Step 179 ave_loss 0.0086\n",
            "Test model\n",
            "----------\n",
            "\n",
            "Evaluation completed in 0m 12s\n",
            "----------\n",
            "Test report: \n",
            "               precision    recall  f1-score   support\n",
            "\n",
            "          2C       0.80      0.97      0.88       409\n",
            "          3C       0.95      0.89      0.92       367\n",
            "          4C       1.00      0.92      0.96       831\n",
            "\n",
            "    accuracy                           0.93      1607\n",
            "   macro avg       0.92      0.93      0.92      1607\n",
            "weighted avg       0.94      0.93      0.93      1607\n",
            "\n",
            "---------------------------------------------------------------\n",
            "\n",
            "Epoch 4 report: \n",
            "Train model\n",
            "----------\n"
          ]
        },
        {
          "output_type": "stream",
          "name": "stderr",
          "text": [
            "/usr/local/lib/python3.7/dist-packages/torch/utils/data/dataloader.py:481: UserWarning: This DataLoader will create 4 worker processes in total. Our suggested max number of worker in current system is 2, which is smaller than what this DataLoader is going to create. Please be aware that excessive worker creation might get DataLoader running slow or even freeze, lower the worker number to avoid potential slowness/freeze if necessary.\n",
            "  cpuset_checked))\n"
          ]
        },
        {
          "output_type": "stream",
          "name": "stdout",
          "text": [
            "Epoch 4 Step 59 ave_loss 0.0002\n",
            "Epoch 4 Step 119 ave_loss 0.0001\n",
            "Epoch 4 Step 179 ave_loss 0.0000\n",
            "Test model\n",
            "----------\n",
            "\n",
            "Evaluation completed in 0m 12s\n",
            "----------\n",
            "Test report: \n",
            "               precision    recall  f1-score   support\n",
            "\n",
            "          2C       0.80      0.94      0.87       409\n",
            "          3C       0.86      0.95      0.90       367\n",
            "          4C       1.00      0.87      0.93       831\n",
            "\n",
            "    accuracy                           0.91      1607\n",
            "   macro avg       0.89      0.92      0.90      1607\n",
            "weighted avg       0.92      0.91      0.91      1607\n",
            "\n",
            "---------------------------------------------------------------\n",
            "\n",
            "Epoch 5 report: \n",
            "Train model\n",
            "----------\n"
          ]
        },
        {
          "output_type": "stream",
          "name": "stderr",
          "text": [
            "/usr/local/lib/python3.7/dist-packages/torch/utils/data/dataloader.py:481: UserWarning: This DataLoader will create 4 worker processes in total. Our suggested max number of worker in current system is 2, which is smaller than what this DataLoader is going to create. Please be aware that excessive worker creation might get DataLoader running slow or even freeze, lower the worker number to avoid potential slowness/freeze if necessary.\n",
            "  cpuset_checked))\n"
          ]
        },
        {
          "output_type": "stream",
          "name": "stdout",
          "text": [
            "Epoch 5 Step 59 ave_loss 0.0001\n",
            "Epoch 5 Step 119 ave_loss 0.0000\n",
            "Epoch 5 Step 179 ave_loss 0.0000\n",
            "Test model\n",
            "----------\n",
            "\n",
            "Evaluation completed in 0m 12s\n",
            "----------\n",
            "Test report: \n",
            "               precision    recall  f1-score   support\n",
            "\n",
            "          2C       0.79      0.94      0.86       409\n",
            "          3C       0.86      0.94      0.90       367\n",
            "          4C       1.00      0.87      0.93       831\n",
            "\n",
            "    accuracy                           0.90      1607\n",
            "   macro avg       0.89      0.92      0.90      1607\n",
            "weighted avg       0.92      0.90      0.91      1607\n",
            "\n",
            "---------------------------------------------------------------\n",
            "\n",
            "Epoch 6 report: \n",
            "Train model\n",
            "----------\n"
          ]
        },
        {
          "output_type": "stream",
          "name": "stderr",
          "text": [
            "/usr/local/lib/python3.7/dist-packages/torch/utils/data/dataloader.py:481: UserWarning: This DataLoader will create 4 worker processes in total. Our suggested max number of worker in current system is 2, which is smaller than what this DataLoader is going to create. Please be aware that excessive worker creation might get DataLoader running slow or even freeze, lower the worker number to avoid potential slowness/freeze if necessary.\n",
            "  cpuset_checked))\n"
          ]
        },
        {
          "output_type": "stream",
          "name": "stdout",
          "text": [
            "Epoch 6 Step 59 ave_loss 0.0000\n",
            "Epoch 6 Step 119 ave_loss 0.0000\n",
            "Epoch 6 Step 179 ave_loss 0.0000\n",
            "Test model\n",
            "----------\n",
            "\n",
            "Evaluation completed in 0m 12s\n",
            "----------\n",
            "Test report: \n",
            "               precision    recall  f1-score   support\n",
            "\n",
            "          2C       0.79      0.94      0.86       409\n",
            "          3C       0.87      0.94      0.90       367\n",
            "          4C       1.00      0.87      0.93       831\n",
            "\n",
            "    accuracy                           0.90      1607\n",
            "   macro avg       0.89      0.92      0.90      1607\n",
            "weighted avg       0.92      0.90      0.91      1607\n",
            "\n",
            "---------------------------------------------------------------\n",
            "\n",
            "Epoch 7 report: \n",
            "Train model\n",
            "----------\n"
          ]
        },
        {
          "output_type": "stream",
          "name": "stderr",
          "text": [
            "/usr/local/lib/python3.7/dist-packages/torch/utils/data/dataloader.py:481: UserWarning: This DataLoader will create 4 worker processes in total. Our suggested max number of worker in current system is 2, which is smaller than what this DataLoader is going to create. Please be aware that excessive worker creation might get DataLoader running slow or even freeze, lower the worker number to avoid potential slowness/freeze if necessary.\n",
            "  cpuset_checked))\n"
          ]
        },
        {
          "output_type": "stream",
          "name": "stdout",
          "text": [
            "Epoch 7 Step 59 ave_loss 0.0000\n",
            "Epoch 7 Step 119 ave_loss 0.0000\n",
            "Epoch 7 Step 179 ave_loss 0.0000\n",
            "Test model\n",
            "----------\n",
            "\n",
            "Evaluation completed in 0m 12s\n",
            "----------\n",
            "Test report: \n",
            "               precision    recall  f1-score   support\n",
            "\n",
            "          2C       0.78      0.94      0.86       409\n",
            "          3C       0.87      0.93      0.90       367\n",
            "          4C       1.00      0.87      0.93       831\n",
            "\n",
            "    accuracy                           0.90      1607\n",
            "   macro avg       0.89      0.92      0.90      1607\n",
            "weighted avg       0.92      0.90      0.90      1607\n",
            "\n",
            "---------------------------------------------------------------\n",
            "\n",
            "Epoch 8 report: \n",
            "Train model\n",
            "----------\n"
          ]
        },
        {
          "output_type": "stream",
          "name": "stderr",
          "text": [
            "/usr/local/lib/python3.7/dist-packages/torch/utils/data/dataloader.py:481: UserWarning: This DataLoader will create 4 worker processes in total. Our suggested max number of worker in current system is 2, which is smaller than what this DataLoader is going to create. Please be aware that excessive worker creation might get DataLoader running slow or even freeze, lower the worker number to avoid potential slowness/freeze if necessary.\n",
            "  cpuset_checked))\n"
          ]
        },
        {
          "output_type": "stream",
          "name": "stdout",
          "text": [
            "Epoch 8 Step 59 ave_loss 0.0000\n",
            "Epoch 8 Step 119 ave_loss 0.0001\n",
            "Epoch 8 Step 179 ave_loss 0.0000\n",
            "Test model\n",
            "----------\n",
            "\n",
            "Evaluation completed in 0m 12s\n",
            "----------\n",
            "Test report: \n",
            "               precision    recall  f1-score   support\n",
            "\n",
            "          2C       0.78      0.94      0.85       409\n",
            "          3C       0.87      0.93      0.90       367\n",
            "          4C       1.00      0.87      0.93       831\n",
            "\n",
            "    accuracy                           0.90      1607\n",
            "   macro avg       0.88      0.91      0.89      1607\n",
            "weighted avg       0.92      0.90      0.90      1607\n",
            "\n",
            "---------------------------------------------------------------\n",
            "\n",
            "Epoch 9 report: \n",
            "Train model\n",
            "----------\n"
          ]
        },
        {
          "output_type": "stream",
          "name": "stderr",
          "text": [
            "/usr/local/lib/python3.7/dist-packages/torch/utils/data/dataloader.py:481: UserWarning: This DataLoader will create 4 worker processes in total. Our suggested max number of worker in current system is 2, which is smaller than what this DataLoader is going to create. Please be aware that excessive worker creation might get DataLoader running slow or even freeze, lower the worker number to avoid potential slowness/freeze if necessary.\n",
            "  cpuset_checked))\n"
          ]
        },
        {
          "output_type": "stream",
          "name": "stdout",
          "text": [
            "Epoch 9 Step 59 ave_loss 0.0000\n",
            "Epoch 9 Step 119 ave_loss 0.0000\n",
            "Epoch 9 Step 179 ave_loss 0.0001\n",
            "Test model\n",
            "----------\n",
            "\n",
            "Evaluation completed in 0m 11s\n",
            "----------\n",
            "Test report: \n",
            "               precision    recall  f1-score   support\n",
            "\n",
            "          2C       0.78      0.94      0.85       409\n",
            "          3C       0.88      0.93      0.90       367\n",
            "          4C       1.00      0.87      0.93       831\n",
            "\n",
            "    accuracy                           0.90      1607\n",
            "   macro avg       0.89      0.91      0.90      1607\n",
            "weighted avg       0.92      0.90      0.90      1607\n",
            "\n",
            "---------------------------------------------------------------\n",
            "\n",
            "Epoch 10 report: \n",
            "Train model\n",
            "----------\n"
          ]
        },
        {
          "output_type": "stream",
          "name": "stderr",
          "text": [
            "/usr/local/lib/python3.7/dist-packages/torch/utils/data/dataloader.py:481: UserWarning: This DataLoader will create 4 worker processes in total. Our suggested max number of worker in current system is 2, which is smaller than what this DataLoader is going to create. Please be aware that excessive worker creation might get DataLoader running slow or even freeze, lower the worker number to avoid potential slowness/freeze if necessary.\n",
            "  cpuset_checked))\n"
          ]
        },
        {
          "output_type": "stream",
          "name": "stdout",
          "text": [
            "Epoch 10 Step 59 ave_loss 0.0000\n",
            "Epoch 10 Step 119 ave_loss 0.0001\n",
            "Epoch 10 Step 179 ave_loss 0.0001\n",
            "Test model\n",
            "----------\n",
            "\n",
            "Evaluation completed in 0m 12s\n",
            "----------\n",
            "Test report: \n",
            "               precision    recall  f1-score   support\n",
            "\n",
            "          2C       0.77      0.94      0.85       409\n",
            "          3C       0.89      0.93      0.91       367\n",
            "          4C       1.00      0.87      0.93       831\n",
            "\n",
            "    accuracy                           0.90      1607\n",
            "   macro avg       0.89      0.91      0.90      1607\n",
            "weighted avg       0.92      0.90      0.91      1607\n",
            "\n",
            "---------------------------------------------------------------\n",
            "\n",
            "Epoch 11 report: \n",
            "Train model\n",
            "----------\n"
          ]
        },
        {
          "output_type": "stream",
          "name": "stderr",
          "text": [
            "/usr/local/lib/python3.7/dist-packages/torch/utils/data/dataloader.py:481: UserWarning: This DataLoader will create 4 worker processes in total. Our suggested max number of worker in current system is 2, which is smaller than what this DataLoader is going to create. Please be aware that excessive worker creation might get DataLoader running slow or even freeze, lower the worker number to avoid potential slowness/freeze if necessary.\n",
            "  cpuset_checked))\n"
          ]
        },
        {
          "output_type": "stream",
          "name": "stdout",
          "text": [
            "Epoch 11 Step 59 ave_loss 0.0001\n",
            "Epoch 11 Step 119 ave_loss 0.0001\n",
            "Epoch 11 Step 179 ave_loss 0.0001\n",
            "Test model\n",
            "----------\n",
            "\n",
            "Evaluation completed in 0m 12s\n",
            "----------\n",
            "Test report: \n",
            "               precision    recall  f1-score   support\n",
            "\n",
            "          2C       0.77      0.94      0.85       409\n",
            "          3C       0.89      0.93      0.91       367\n",
            "          4C       1.00      0.87      0.93       831\n",
            "\n",
            "    accuracy                           0.90      1607\n",
            "   macro avg       0.89      0.91      0.90      1607\n",
            "weighted avg       0.92      0.90      0.91      1607\n",
            "\n",
            "---------------------------------------------------------------\n",
            "\n",
            "Epoch 12 report: \n",
            "Train model\n",
            "----------\n"
          ]
        },
        {
          "output_type": "stream",
          "name": "stderr",
          "text": [
            "/usr/local/lib/python3.7/dist-packages/torch/utils/data/dataloader.py:481: UserWarning: This DataLoader will create 4 worker processes in total. Our suggested max number of worker in current system is 2, which is smaller than what this DataLoader is going to create. Please be aware that excessive worker creation might get DataLoader running slow or even freeze, lower the worker number to avoid potential slowness/freeze if necessary.\n",
            "  cpuset_checked))\n"
          ]
        },
        {
          "output_type": "stream",
          "name": "stdout",
          "text": [
            "Epoch 12 Step 59 ave_loss 0.0001\n",
            "Epoch 12 Step 119 ave_loss 0.0001\n",
            "Epoch 12 Step 179 ave_loss 0.0000\n",
            "Test model\n",
            "----------\n",
            "\n",
            "Evaluation completed in 0m 12s\n",
            "----------\n",
            "Test report: \n",
            "               precision    recall  f1-score   support\n",
            "\n",
            "          2C       0.77      0.94      0.85       409\n",
            "          3C       0.89      0.93      0.91       367\n",
            "          4C       1.00      0.87      0.93       831\n",
            "\n",
            "    accuracy                           0.90      1607\n",
            "   macro avg       0.89      0.92      0.90      1607\n",
            "weighted avg       0.92      0.90      0.91      1607\n",
            "\n",
            "---------------------------------------------------------------\n",
            "\n",
            "Epoch 13 report: \n",
            "Train model\n",
            "----------\n"
          ]
        },
        {
          "output_type": "stream",
          "name": "stderr",
          "text": [
            "/usr/local/lib/python3.7/dist-packages/torch/utils/data/dataloader.py:481: UserWarning: This DataLoader will create 4 worker processes in total. Our suggested max number of worker in current system is 2, which is smaller than what this DataLoader is going to create. Please be aware that excessive worker creation might get DataLoader running slow or even freeze, lower the worker number to avoid potential slowness/freeze if necessary.\n",
            "  cpuset_checked))\n"
          ]
        },
        {
          "output_type": "stream",
          "name": "stdout",
          "text": [
            "Epoch 13 Step 59 ave_loss 0.0001\n",
            "Epoch 13 Step 119 ave_loss 0.0001\n",
            "Epoch 13 Step 179 ave_loss 0.0001\n",
            "Test model\n",
            "----------\n",
            "\n",
            "Evaluation completed in 0m 12s\n",
            "----------\n",
            "Test report: \n",
            "               precision    recall  f1-score   support\n",
            "\n",
            "          2C       0.77      0.94      0.84       409\n",
            "          3C       0.89      0.93      0.91       367\n",
            "          4C       1.00      0.87      0.93       831\n",
            "\n",
            "    accuracy                           0.90      1607\n",
            "   macro avg       0.89      0.91      0.90      1607\n",
            "weighted avg       0.92      0.90      0.90      1607\n",
            "\n",
            "---------------------------------------------------------------\n",
            "\n",
            "Epoch 14 report: \n",
            "Train model\n",
            "----------\n"
          ]
        },
        {
          "output_type": "stream",
          "name": "stderr",
          "text": [
            "/usr/local/lib/python3.7/dist-packages/torch/utils/data/dataloader.py:481: UserWarning: This DataLoader will create 4 worker processes in total. Our suggested max number of worker in current system is 2, which is smaller than what this DataLoader is going to create. Please be aware that excessive worker creation might get DataLoader running slow or even freeze, lower the worker number to avoid potential slowness/freeze if necessary.\n",
            "  cpuset_checked))\n"
          ]
        },
        {
          "output_type": "stream",
          "name": "stdout",
          "text": [
            "Epoch 14 Step 59 ave_loss 0.0001\n",
            "Epoch 14 Step 119 ave_loss 0.0001\n",
            "Epoch 14 Step 179 ave_loss 0.0001\n",
            "Test model\n",
            "----------\n",
            "\n",
            "Evaluation completed in 0m 12s\n",
            "----------\n",
            "Test report: \n",
            "               precision    recall  f1-score   support\n",
            "\n",
            "          2C       0.77      0.94      0.85       409\n",
            "          3C       0.89      0.93      0.91       367\n",
            "          4C       1.00      0.87      0.93       831\n",
            "\n",
            "    accuracy                           0.90      1607\n",
            "   macro avg       0.89      0.91      0.90      1607\n",
            "weighted avg       0.92      0.90      0.91      1607\n",
            "\n",
            "---------------------------------------------------------------\n",
            "\n",
            "Epoch 15 report: \n",
            "Train model\n",
            "----------\n"
          ]
        },
        {
          "output_type": "stream",
          "name": "stderr",
          "text": [
            "/usr/local/lib/python3.7/dist-packages/torch/utils/data/dataloader.py:481: UserWarning: This DataLoader will create 4 worker processes in total. Our suggested max number of worker in current system is 2, which is smaller than what this DataLoader is going to create. Please be aware that excessive worker creation might get DataLoader running slow or even freeze, lower the worker number to avoid potential slowness/freeze if necessary.\n",
            "  cpuset_checked))\n"
          ]
        },
        {
          "output_type": "stream",
          "name": "stdout",
          "text": [
            "Epoch 15 Step 59 ave_loss 0.0001\n",
            "Epoch 15 Step 119 ave_loss 0.0001\n",
            "Epoch 15 Step 179 ave_loss 0.0001\n",
            "Test model\n",
            "----------\n",
            "\n",
            "Evaluation completed in 0m 12s\n",
            "----------\n",
            "Test report: \n",
            "               precision    recall  f1-score   support\n",
            "\n",
            "          2C       0.77      0.94      0.85       409\n",
            "          3C       0.90      0.93      0.91       367\n",
            "          4C       1.00      0.88      0.94       831\n",
            "\n",
            "    accuracy                           0.91      1607\n",
            "   macro avg       0.89      0.92      0.90      1607\n",
            "weighted avg       0.92      0.91      0.91      1607\n",
            "\n",
            "---------------------------------------------------------------\n",
            "\n",
            "Epoch 16 report: \n",
            "Train model\n",
            "----------\n"
          ]
        },
        {
          "output_type": "stream",
          "name": "stderr",
          "text": [
            "/usr/local/lib/python3.7/dist-packages/torch/utils/data/dataloader.py:481: UserWarning: This DataLoader will create 4 worker processes in total. Our suggested max number of worker in current system is 2, which is smaller than what this DataLoader is going to create. Please be aware that excessive worker creation might get DataLoader running slow or even freeze, lower the worker number to avoid potential slowness/freeze if necessary.\n",
            "  cpuset_checked))\n"
          ]
        },
        {
          "output_type": "stream",
          "name": "stdout",
          "text": [
            "Epoch 16 Step 59 ave_loss 0.0001\n",
            "Epoch 16 Step 119 ave_loss 0.0001\n",
            "Epoch 16 Step 179 ave_loss 0.0001\n",
            "Test model\n",
            "----------\n",
            "\n",
            "Evaluation completed in 0m 11s\n",
            "----------\n",
            "Test report: \n",
            "               precision    recall  f1-score   support\n",
            "\n",
            "          2C       0.77      0.94      0.85       409\n",
            "          3C       0.90      0.93      0.91       367\n",
            "          4C       1.00      0.88      0.94       831\n",
            "\n",
            "    accuracy                           0.91      1607\n",
            "   macro avg       0.89      0.92      0.90      1607\n",
            "weighted avg       0.92      0.91      0.91      1607\n",
            "\n",
            "---------------------------------------------------------------\n",
            "\n",
            "Epoch 17 report: \n",
            "Train model\n",
            "----------\n"
          ]
        },
        {
          "output_type": "stream",
          "name": "stderr",
          "text": [
            "/usr/local/lib/python3.7/dist-packages/torch/utils/data/dataloader.py:481: UserWarning: This DataLoader will create 4 worker processes in total. Our suggested max number of worker in current system is 2, which is smaller than what this DataLoader is going to create. Please be aware that excessive worker creation might get DataLoader running slow or even freeze, lower the worker number to avoid potential slowness/freeze if necessary.\n",
            "  cpuset_checked))\n"
          ]
        },
        {
          "output_type": "stream",
          "name": "stdout",
          "text": [
            "Epoch 17 Step 59 ave_loss 0.0001\n",
            "Epoch 17 Step 119 ave_loss 0.0001\n",
            "Epoch 17 Step 179 ave_loss 0.0001\n",
            "Test model\n",
            "----------\n",
            "\n",
            "Evaluation completed in 0m 12s\n",
            "----------\n",
            "Test report: \n",
            "               precision    recall  f1-score   support\n",
            "\n",
            "          2C       0.77      0.94      0.84       409\n",
            "          3C       0.89      0.93      0.91       367\n",
            "          4C       1.00      0.87      0.93       831\n",
            "\n",
            "    accuracy                           0.90      1607\n",
            "   macro avg       0.89      0.91      0.89      1607\n",
            "weighted avg       0.92      0.90      0.90      1607\n",
            "\n",
            "---------------------------------------------------------------\n",
            "\n",
            "Epoch 18 report: \n",
            "Train model\n",
            "----------\n"
          ]
        },
        {
          "output_type": "stream",
          "name": "stderr",
          "text": [
            "/usr/local/lib/python3.7/dist-packages/torch/utils/data/dataloader.py:481: UserWarning: This DataLoader will create 4 worker processes in total. Our suggested max number of worker in current system is 2, which is smaller than what this DataLoader is going to create. Please be aware that excessive worker creation might get DataLoader running slow or even freeze, lower the worker number to avoid potential slowness/freeze if necessary.\n",
            "  cpuset_checked))\n"
          ]
        },
        {
          "output_type": "stream",
          "name": "stdout",
          "text": [
            "Epoch 18 Step 59 ave_loss 0.0001\n",
            "Epoch 18 Step 119 ave_loss 0.0001\n",
            "Epoch 18 Step 179 ave_loss 0.0001\n",
            "Test model\n",
            "----------\n",
            "\n",
            "Evaluation completed in 0m 12s\n",
            "----------\n",
            "Test report: \n",
            "               precision    recall  f1-score   support\n",
            "\n",
            "          2C       0.78      0.94      0.85       409\n",
            "          3C       0.90      0.93      0.91       367\n",
            "          4C       1.00      0.88      0.94       831\n",
            "\n",
            "    accuracy                           0.91      1607\n",
            "   macro avg       0.89      0.92      0.90      1607\n",
            "weighted avg       0.92      0.91      0.91      1607\n",
            "\n",
            "---------------------------------------------------------------\n",
            "\n",
            "Epoch 19 report: \n",
            "Train model\n",
            "----------\n"
          ]
        },
        {
          "output_type": "stream",
          "name": "stderr",
          "text": [
            "/usr/local/lib/python3.7/dist-packages/torch/utils/data/dataloader.py:481: UserWarning: This DataLoader will create 4 worker processes in total. Our suggested max number of worker in current system is 2, which is smaller than what this DataLoader is going to create. Please be aware that excessive worker creation might get DataLoader running slow or even freeze, lower the worker number to avoid potential slowness/freeze if necessary.\n",
            "  cpuset_checked))\n"
          ]
        },
        {
          "output_type": "stream",
          "name": "stdout",
          "text": [
            "Epoch 19 Step 59 ave_loss 0.0001\n",
            "Epoch 19 Step 119 ave_loss 0.0001\n",
            "Epoch 19 Step 179 ave_loss 0.0001\n",
            "Test model\n",
            "----------\n",
            "\n",
            "Evaluation completed in 0m 12s\n",
            "----------\n",
            "Test report: \n",
            "               precision    recall  f1-score   support\n",
            "\n",
            "          2C       0.77      0.94      0.85       409\n",
            "          3C       0.89      0.93      0.91       367\n",
            "          4C       1.00      0.87      0.93       831\n",
            "\n",
            "    accuracy                           0.90      1607\n",
            "   macro avg       0.89      0.91      0.90      1607\n",
            "weighted avg       0.92      0.90      0.91      1607\n",
            "\n",
            "model: vgg16 , size: 64 , augmentation: None\n",
            "accr:  [64, 83, 83, 92, 90, 90, 90, 90, 90, 90, 90, 90, 90, 90, 90, 90, 90, 90, 90, 90]\n",
            "loss:  [0.6319, 0.0064, 0.0054, 0.0, 0.0, 0.0, 0.0, 0.0, 0.0001, 0.0001, 0.0, 0.0, 0.0003, 0.0001, 0.0001, 0.0, 0.0, 0.0001, 0.0, 0.0]\n",
            "Number of Image in train set: 6717\n",
            "Number of Image in test set: 1607\n",
            "Num batch in train set:  210\n",
            "Num batch in test set:  51\n"
          ]
        },
        {
          "output_type": "stream",
          "name": "stderr",
          "text": [
            "/usr/local/lib/python3.7/dist-packages/torch/utils/data/dataloader.py:481: UserWarning: This DataLoader will create 4 worker processes in total. Our suggested max number of worker in current system is 2, which is smaller than what this DataLoader is going to create. Please be aware that excessive worker creation might get DataLoader running slow or even freeze, lower the worker number to avoid potential slowness/freeze if necessary.\n",
            "  cpuset_checked))\n"
          ]
        },
        {
          "output_type": "stream",
          "name": "stdout",
          "text": [
            "['2C', '2C', '4C', '4C', '4C', '4C', '2C', '3C']\n",
            "['4C', '2C', '2C', '2C', '4C', '3C', '2C', '3C']\n",
            "['4C', '4C', '4C', '2C', '2C', '3C', '2C', '4C']\n",
            "['2C', '2C', '2C', '2C', '3C', '2C', '4C', '2C']\n"
          ]
        },
        {
          "output_type": "display_data",
          "data": {
            "image/png": "[encoded data removed]",
            "text/plain": [
              "<Figure size 432x288 with 1 Axes>"
            ]
          },
          "metadata": {
            "needs_background": "light"
          }
        },
        {
          "output_type": "stream",
          "name": "stdout",
          "text": [
            "image size:  torch.Size([3, 64, 64])\n",
            "device: cuda\n",
            "model: resnet18\n",
            "---------------------------------------------------------------\n",
            "\n",
            "Epoch 0 report: \n",
            "Train model\n",
            "----------\n",
            "Epoch 0 Step 59 ave_loss 0.4084\n",
            "Epoch 0 Step 119 ave_loss 0.0730\n",
            "Epoch 0 Step 179 ave_loss 0.0336\n",
            "Test model\n",
            "----------\n",
            "\n",
            "Evaluation completed in 0m 11s\n",
            "----------\n",
            "Test report: \n",
            "               precision    recall  f1-score   support\n",
            "\n",
            "          2C       0.78      0.97      0.86       409\n",
            "          3C       0.99      0.83      0.90       367\n",
            "          4C       0.98      0.93      0.96       831\n",
            "\n",
            "    accuracy                           0.92      1607\n",
            "   macro avg       0.92      0.91      0.91      1607\n",
            "weighted avg       0.93      0.92      0.92      1607\n",
            "\n",
            "---------------------------------------------------------------\n",
            "\n",
            "Epoch 1 report: \n",
            "Train model\n",
            "----------\n"
          ]
        },
        {
          "output_type": "stream",
          "name": "stderr",
          "text": [
            "/usr/local/lib/python3.7/dist-packages/torch/utils/data/dataloader.py:481: UserWarning: This DataLoader will create 4 worker processes in total. Our suggested max number of worker in current system is 2, which is smaller than what this DataLoader is going to create. Please be aware that excessive worker creation might get DataLoader running slow or even freeze, lower the worker number to avoid potential slowness/freeze if necessary.\n",
            "  cpuset_checked))\n"
          ]
        },
        {
          "output_type": "stream",
          "name": "stdout",
          "text": [
            "Epoch 1 Step 59 ave_loss 0.0072\n",
            "Epoch 1 Step 119 ave_loss 0.0009\n",
            "Epoch 1 Step 179 ave_loss 0.0049\n",
            "Test model\n",
            "----------\n",
            "\n",
            "Evaluation completed in 0m 11s\n",
            "----------\n",
            "Test report: \n",
            "               precision    recall  f1-score   support\n",
            "\n",
            "          2C       0.91      0.78      0.84       409\n",
            "          3C       0.85      0.93      0.89       367\n",
            "          4C       0.95      0.98      0.97       831\n",
            "\n",
            "    accuracy                           0.92      1607\n",
            "   macro avg       0.91      0.90      0.90      1607\n",
            "weighted avg       0.92      0.92      0.92      1607\n",
            "\n",
            "---------------------------------------------------------------\n",
            "\n",
            "Epoch 2 report: \n",
            "Train model\n",
            "----------\n"
          ]
        },
        {
          "output_type": "stream",
          "name": "stderr",
          "text": [
            "/usr/local/lib/python3.7/dist-packages/torch/utils/data/dataloader.py:481: UserWarning: This DataLoader will create 4 worker processes in total. Our suggested max number of worker in current system is 2, which is smaller than what this DataLoader is going to create. Please be aware that excessive worker creation might get DataLoader running slow or even freeze, lower the worker number to avoid potential slowness/freeze if necessary.\n",
            "  cpuset_checked))\n"
          ]
        },
        {
          "output_type": "stream",
          "name": "stdout",
          "text": [
            "Epoch 2 Step 59 ave_loss 0.0009\n",
            "Epoch 2 Step 119 ave_loss 0.0014\n",
            "Epoch 2 Step 179 ave_loss 0.0060\n",
            "Test model\n",
            "----------\n",
            "\n",
            "Evaluation completed in 0m 11s\n",
            "----------\n",
            "Test report: \n",
            "               precision    recall  f1-score   support\n",
            "\n",
            "          2C       0.87      0.98      0.92       409\n",
            "          3C       0.94      0.89      0.91       367\n",
            "          4C       1.00      0.96      0.98       831\n",
            "\n",
            "    accuracy                           0.95      1607\n",
            "   macro avg       0.94      0.94      0.94      1607\n",
            "weighted avg       0.95      0.95      0.95      1607\n",
            "\n",
            "---------------------------------------------------------------\n",
            "\n",
            "Epoch 3 report: \n",
            "Train model\n",
            "----------\n"
          ]
        },
        {
          "output_type": "stream",
          "name": "stderr",
          "text": [
            "/usr/local/lib/python3.7/dist-packages/torch/utils/data/dataloader.py:481: UserWarning: This DataLoader will create 4 worker processes in total. Our suggested max number of worker in current system is 2, which is smaller than what this DataLoader is going to create. Please be aware that excessive worker creation might get DataLoader running slow or even freeze, lower the worker number to avoid potential slowness/freeze if necessary.\n",
            "  cpuset_checked))\n"
          ]
        },
        {
          "output_type": "stream",
          "name": "stdout",
          "text": [
            "Epoch 3 Step 59 ave_loss 0.0209\n",
            "Epoch 3 Step 119 ave_loss 0.0170\n",
            "Epoch 3 Step 179 ave_loss 0.0008\n",
            "Test model\n",
            "----------\n",
            "\n",
            "Evaluation completed in 0m 11s\n",
            "----------\n",
            "Test report: \n",
            "               precision    recall  f1-score   support\n",
            "\n",
            "          2C       0.84      0.97      0.90       409\n",
            "          3C       0.87      0.93      0.90       367\n",
            "          4C       1.00      0.89      0.94       831\n",
            "\n",
            "    accuracy                           0.92      1607\n",
            "   macro avg       0.90      0.93      0.91      1607\n",
            "weighted avg       0.93      0.92      0.92      1607\n",
            "\n",
            "---------------------------------------------------------------\n",
            "\n",
            "Epoch 4 report: \n",
            "Train model\n",
            "----------\n"
          ]
        },
        {
          "output_type": "stream",
          "name": "stderr",
          "text": [
            "/usr/local/lib/python3.7/dist-packages/torch/utils/data/dataloader.py:481: UserWarning: This DataLoader will create 4 worker processes in total. Our suggested max number of worker in current system is 2, which is smaller than what this DataLoader is going to create. Please be aware that excessive worker creation might get DataLoader running slow or even freeze, lower the worker number to avoid potential slowness/freeze if necessary.\n",
            "  cpuset_checked))\n"
          ]
        },
        {
          "output_type": "stream",
          "name": "stdout",
          "text": [
            "Epoch 4 Step 59 ave_loss 0.0015\n",
            "Epoch 4 Step 119 ave_loss 0.0004\n",
            "Epoch 4 Step 179 ave_loss 0.0002\n",
            "Test model\n",
            "----------\n",
            "\n",
            "Evaluation completed in 0m 11s\n",
            "----------\n",
            "Test report: \n",
            "               precision    recall  f1-score   support\n",
            "\n",
            "          2C       0.78      0.97      0.86       409\n",
            "          3C       0.87      0.90      0.88       367\n",
            "          4C       1.00      0.87      0.93       831\n",
            "\n",
            "    accuracy                           0.90      1607\n",
            "   macro avg       0.88      0.91      0.89      1607\n",
            "weighted avg       0.91      0.90      0.90      1607\n",
            "\n",
            "---------------------------------------------------------------\n",
            "\n",
            "Epoch 5 report: \n",
            "Train model\n",
            "----------\n"
          ]
        },
        {
          "output_type": "stream",
          "name": "stderr",
          "text": [
            "/usr/local/lib/python3.7/dist-packages/torch/utils/data/dataloader.py:481: UserWarning: This DataLoader will create 4 worker processes in total. Our suggested max number of worker in current system is 2, which is smaller than what this DataLoader is going to create. Please be aware that excessive worker creation might get DataLoader running slow or even freeze, lower the worker number to avoid potential slowness/freeze if necessary.\n",
            "  cpuset_checked))\n"
          ]
        },
        {
          "output_type": "stream",
          "name": "stdout",
          "text": [
            "Epoch 5 Step 59 ave_loss 0.0001\n",
            "Epoch 5 Step 119 ave_loss 0.0002\n",
            "Epoch 5 Step 179 ave_loss 0.0009\n",
            "Test model\n",
            "----------\n",
            "\n",
            "Evaluation completed in 0m 11s\n",
            "----------\n",
            "Test report: \n",
            "               precision    recall  f1-score   support\n",
            "\n",
            "          2C       0.92      0.95      0.94       409\n",
            "          3C       0.87      0.92      0.89       367\n",
            "          4C       1.00      0.96      0.98       831\n",
            "\n",
            "    accuracy                           0.95      1607\n",
            "   macro avg       0.93      0.94      0.94      1607\n",
            "weighted avg       0.95      0.95      0.95      1607\n",
            "\n",
            "---------------------------------------------------------------\n",
            "\n",
            "Epoch 6 report: \n",
            "Train model\n",
            "----------\n"
          ]
        },
        {
          "output_type": "stream",
          "name": "stderr",
          "text": [
            "/usr/local/lib/python3.7/dist-packages/torch/utils/data/dataloader.py:481: UserWarning: This DataLoader will create 4 worker processes in total. Our suggested max number of worker in current system is 2, which is smaller than what this DataLoader is going to create. Please be aware that excessive worker creation might get DataLoader running slow or even freeze, lower the worker number to avoid potential slowness/freeze if necessary.\n",
            "  cpuset_checked))\n"
          ]
        },
        {
          "output_type": "stream",
          "name": "stdout",
          "text": [
            "Epoch 6 Step 59 ave_loss 0.0002\n",
            "Epoch 6 Step 119 ave_loss 0.0001\n",
            "Epoch 6 Step 179 ave_loss 0.0001\n",
            "Test model\n",
            "----------\n",
            "\n",
            "Evaluation completed in 0m 11s\n",
            "----------\n",
            "Test report: \n",
            "               precision    recall  f1-score   support\n",
            "\n",
            "          2C       0.90      0.96      0.93       409\n",
            "          3C       0.88      0.90      0.89       367\n",
            "          4C       1.00      0.95      0.98       831\n",
            "\n",
            "    accuracy                           0.95      1607\n",
            "   macro avg       0.93      0.94      0.93      1607\n",
            "weighted avg       0.95      0.95      0.95      1607\n",
            "\n",
            "---------------------------------------------------------------\n",
            "\n",
            "Epoch 7 report: \n",
            "Train model\n",
            "----------\n"
          ]
        },
        {
          "output_type": "stream",
          "name": "stderr",
          "text": [
            "/usr/local/lib/python3.7/dist-packages/torch/utils/data/dataloader.py:481: UserWarning: This DataLoader will create 4 worker processes in total. Our suggested max number of worker in current system is 2, which is smaller than what this DataLoader is going to create. Please be aware that excessive worker creation might get DataLoader running slow or even freeze, lower the worker number to avoid potential slowness/freeze if necessary.\n",
            "  cpuset_checked))\n"
          ]
        },
        {
          "output_type": "stream",
          "name": "stdout",
          "text": [
            "Epoch 7 Step 59 ave_loss 0.0001\n",
            "Epoch 7 Step 119 ave_loss 0.0001\n",
            "Epoch 7 Step 179 ave_loss 0.0001\n",
            "Test model\n",
            "----------\n",
            "\n",
            "Evaluation completed in 0m 11s\n",
            "----------\n",
            "Test report: \n",
            "               precision    recall  f1-score   support\n",
            "\n",
            "          2C       0.89      0.96      0.93       409\n",
            "          3C       0.91      0.90      0.90       367\n",
            "          4C       1.00      0.96      0.98       831\n",
            "\n",
            "    accuracy                           0.95      1607\n",
            "   macro avg       0.93      0.94      0.94      1607\n",
            "weighted avg       0.95      0.95      0.95      1607\n",
            "\n",
            "---------------------------------------------------------------\n",
            "\n",
            "Epoch 8 report: \n",
            "Train model\n",
            "----------\n"
          ]
        },
        {
          "output_type": "stream",
          "name": "stderr",
          "text": [
            "/usr/local/lib/python3.7/dist-packages/torch/utils/data/dataloader.py:481: UserWarning: This DataLoader will create 4 worker processes in total. Our suggested max number of worker in current system is 2, which is smaller than what this DataLoader is going to create. Please be aware that excessive worker creation might get DataLoader running slow or even freeze, lower the worker number to avoid potential slowness/freeze if necessary.\n",
            "  cpuset_checked))\n"
          ]
        },
        {
          "output_type": "stream",
          "name": "stdout",
          "text": [
            "Epoch 8 Step 59 ave_loss 0.0000\n",
            "Epoch 8 Step 119 ave_loss 0.0001\n",
            "Epoch 8 Step 179 ave_loss 0.0000\n",
            "Test model\n",
            "----------\n",
            "\n",
            "Evaluation completed in 0m 11s\n",
            "----------\n",
            "Test report: \n",
            "               precision    recall  f1-score   support\n",
            "\n",
            "          2C       0.89      0.95      0.92       409\n",
            "          3C       0.87      0.91      0.89       367\n",
            "          4C       1.00      0.95      0.97       831\n",
            "\n",
            "    accuracy                           0.94      1607\n",
            "   macro avg       0.92      0.94      0.93      1607\n",
            "weighted avg       0.94      0.94      0.94      1607\n",
            "\n",
            "---------------------------------------------------------------\n",
            "\n",
            "Epoch 9 report: \n",
            "Train model\n",
            "----------\n"
          ]
        },
        {
          "output_type": "stream",
          "name": "stderr",
          "text": [
            "/usr/local/lib/python3.7/dist-packages/torch/utils/data/dataloader.py:481: UserWarning: This DataLoader will create 4 worker processes in total. Our suggested max number of worker in current system is 2, which is smaller than what this DataLoader is going to create. Please be aware that excessive worker creation might get DataLoader running slow or even freeze, lower the worker number to avoid potential slowness/freeze if necessary.\n",
            "  cpuset_checked))\n"
          ]
        },
        {
          "output_type": "stream",
          "name": "stdout",
          "text": [
            "Epoch 9 Step 59 ave_loss 0.0001\n",
            "Epoch 9 Step 119 ave_loss 0.0000\n",
            "Epoch 9 Step 179 ave_loss 0.0000\n",
            "Test model\n",
            "----------\n",
            "\n",
            "Evaluation completed in 0m 11s\n",
            "----------\n",
            "Test report: \n",
            "               precision    recall  f1-score   support\n",
            "\n",
            "          2C       0.89      0.96      0.92       409\n",
            "          3C       0.87      0.91      0.89       367\n",
            "          4C       1.00      0.94      0.97       831\n",
            "\n",
            "    accuracy                           0.94      1607\n",
            "   macro avg       0.92      0.94      0.93      1607\n",
            "weighted avg       0.94      0.94      0.94      1607\n",
            "\n",
            "---------------------------------------------------------------\n",
            "\n",
            "Epoch 10 report: \n",
            "Train model\n",
            "----------\n"
          ]
        },
        {
          "output_type": "stream",
          "name": "stderr",
          "text": [
            "/usr/local/lib/python3.7/dist-packages/torch/utils/data/dataloader.py:481: UserWarning: This DataLoader will create 4 worker processes in total. Our suggested max number of worker in current system is 2, which is smaller than what this DataLoader is going to create. Please be aware that excessive worker creation might get DataLoader running slow or even freeze, lower the worker number to avoid potential slowness/freeze if necessary.\n",
            "  cpuset_checked))\n"
          ]
        },
        {
          "output_type": "stream",
          "name": "stdout",
          "text": [
            "Epoch 10 Step 59 ave_loss 0.0001\n",
            "Epoch 10 Step 119 ave_loss 0.0002\n",
            "Epoch 10 Step 179 ave_loss 0.0000\n",
            "Test model\n",
            "----------\n",
            "\n",
            "Evaluation completed in 0m 11s\n",
            "----------\n",
            "Test report: \n",
            "               precision    recall  f1-score   support\n",
            "\n",
            "          2C       0.92      0.94      0.93       409\n",
            "          3C       0.87      0.93      0.90       367\n",
            "          4C       1.00      0.96      0.98       831\n",
            "\n",
            "    accuracy                           0.95      1607\n",
            "   macro avg       0.93      0.94      0.94      1607\n",
            "weighted avg       0.95      0.95      0.95      1607\n",
            "\n",
            "---------------------------------------------------------------\n",
            "\n",
            "Epoch 11 report: \n",
            "Train model\n",
            "----------\n"
          ]
        },
        {
          "output_type": "stream",
          "name": "stderr",
          "text": [
            "/usr/local/lib/python3.7/dist-packages/torch/utils/data/dataloader.py:481: UserWarning: This DataLoader will create 4 worker processes in total. Our suggested max number of worker in current system is 2, which is smaller than what this DataLoader is going to create. Please be aware that excessive worker creation might get DataLoader running slow or even freeze, lower the worker number to avoid potential slowness/freeze if necessary.\n",
            "  cpuset_checked))\n"
          ]
        },
        {
          "output_type": "stream",
          "name": "stdout",
          "text": [
            "Epoch 11 Step 59 ave_loss 0.0000\n",
            "Epoch 11 Step 119 ave_loss 0.0001\n",
            "Epoch 11 Step 179 ave_loss 0.0000\n",
            "Test model\n",
            "----------\n",
            "\n",
            "Evaluation completed in 0m 11s\n",
            "----------\n",
            "Test report: \n",
            "               precision    recall  f1-score   support\n",
            "\n",
            "          2C       0.93      0.95      0.94       409\n",
            "          3C       0.90      0.93      0.92       367\n",
            "          4C       1.00      0.97      0.99       831\n",
            "\n",
            "    accuracy                           0.96      1607\n",
            "   macro avg       0.94      0.95      0.95      1607\n",
            "weighted avg       0.96      0.96      0.96      1607\n",
            "\n",
            "---------------------------------------------------------------\n",
            "\n",
            "Epoch 12 report: \n",
            "Train model\n",
            "----------\n"
          ]
        },
        {
          "output_type": "stream",
          "name": "stderr",
          "text": [
            "/usr/local/lib/python3.7/dist-packages/torch/utils/data/dataloader.py:481: UserWarning: This DataLoader will create 4 worker processes in total. Our suggested max number of worker in current system is 2, which is smaller than what this DataLoader is going to create. Please be aware that excessive worker creation might get DataLoader running slow or even freeze, lower the worker number to avoid potential slowness/freeze if necessary.\n",
            "  cpuset_checked))\n"
          ]
        },
        {
          "output_type": "stream",
          "name": "stdout",
          "text": [
            "Epoch 12 Step 59 ave_loss 0.0000\n",
            "Epoch 12 Step 119 ave_loss 0.0000\n",
            "Epoch 12 Step 179 ave_loss 0.0000\n",
            "Test model\n",
            "----------\n",
            "\n",
            "Evaluation completed in 0m 11s\n",
            "----------\n",
            "Test report: \n",
            "               precision    recall  f1-score   support\n",
            "\n",
            "          2C       0.90      0.95      0.93       409\n",
            "          3C       0.88      0.93      0.90       367\n",
            "          4C       1.00      0.94      0.97       831\n",
            "\n",
            "    accuracy                           0.94      1607\n",
            "   macro avg       0.93      0.94      0.93      1607\n",
            "weighted avg       0.95      0.94      0.94      1607\n",
            "\n",
            "---------------------------------------------------------------\n",
            "\n",
            "Epoch 13 report: \n",
            "Train model\n",
            "----------\n"
          ]
        },
        {
          "output_type": "stream",
          "name": "stderr",
          "text": [
            "/usr/local/lib/python3.7/dist-packages/torch/utils/data/dataloader.py:481: UserWarning: This DataLoader will create 4 worker processes in total. Our suggested max number of worker in current system is 2, which is smaller than what this DataLoader is going to create. Please be aware that excessive worker creation might get DataLoader running slow or even freeze, lower the worker number to avoid potential slowness/freeze if necessary.\n",
            "  cpuset_checked))\n"
          ]
        },
        {
          "output_type": "stream",
          "name": "stdout",
          "text": [
            "Epoch 13 Step 59 ave_loss 0.0000\n",
            "Epoch 13 Step 119 ave_loss 0.0000\n",
            "Epoch 13 Step 179 ave_loss 0.0000\n",
            "Test model\n",
            "----------\n",
            "\n",
            "Evaluation completed in 0m 11s\n",
            "----------\n",
            "Test report: \n",
            "               precision    recall  f1-score   support\n",
            "\n",
            "          2C       0.92      0.95      0.94       409\n",
            "          3C       0.91      0.93      0.92       367\n",
            "          4C       1.00      0.97      0.99       831\n",
            "\n",
            "    accuracy                           0.96      1607\n",
            "   macro avg       0.94      0.95      0.95      1607\n",
            "weighted avg       0.96      0.96      0.96      1607\n",
            "\n",
            "---------------------------------------------------------------\n",
            "\n",
            "Epoch 14 report: \n",
            "Train model\n",
            "----------\n"
          ]
        },
        {
          "output_type": "stream",
          "name": "stderr",
          "text": [
            "/usr/local/lib/python3.7/dist-packages/torch/utils/data/dataloader.py:481: UserWarning: This DataLoader will create 4 worker processes in total. Our suggested max number of worker in current system is 2, which is smaller than what this DataLoader is going to create. Please be aware that excessive worker creation might get DataLoader running slow or even freeze, lower the worker number to avoid potential slowness/freeze if necessary.\n",
            "  cpuset_checked))\n"
          ]
        },
        {
          "output_type": "stream",
          "name": "stdout",
          "text": [
            "Epoch 14 Step 59 ave_loss 0.0001\n",
            "Epoch 14 Step 119 ave_loss 0.0001\n",
            "Epoch 14 Step 179 ave_loss 0.0001\n",
            "Test model\n",
            "----------\n",
            "\n",
            "Evaluation completed in 0m 11s\n",
            "----------\n",
            "Test report: \n",
            "               precision    recall  f1-score   support\n",
            "\n",
            "          2C       0.92      0.95      0.94       409\n",
            "          3C       0.88      0.94      0.91       367\n",
            "          4C       1.00      0.95      0.98       831\n",
            "\n",
            "    accuracy                           0.95      1607\n",
            "   macro avg       0.93      0.95      0.94      1607\n",
            "weighted avg       0.95      0.95      0.95      1607\n",
            "\n",
            "---------------------------------------------------------------\n",
            "\n",
            "Epoch 15 report: \n",
            "Train model\n",
            "----------\n"
          ]
        },
        {
          "output_type": "stream",
          "name": "stderr",
          "text": [
            "/usr/local/lib/python3.7/dist-packages/torch/utils/data/dataloader.py:481: UserWarning: This DataLoader will create 4 worker processes in total. Our suggested max number of worker in current system is 2, which is smaller than what this DataLoader is going to create. Please be aware that excessive worker creation might get DataLoader running slow or even freeze, lower the worker number to avoid potential slowness/freeze if necessary.\n",
            "  cpuset_checked))\n"
          ]
        },
        {
          "output_type": "stream",
          "name": "stdout",
          "text": [
            "Epoch 15 Step 59 ave_loss 0.0000\n",
            "Epoch 15 Step 119 ave_loss 0.0001\n",
            "Epoch 15 Step 179 ave_loss 0.0001\n",
            "Test model\n",
            "----------\n",
            "\n",
            "Evaluation completed in 0m 11s\n",
            "----------\n",
            "Test report: \n",
            "               precision    recall  f1-score   support\n",
            "\n",
            "          2C       0.93      0.96      0.94       409\n",
            "          3C       0.92      0.93      0.93       367\n",
            "          4C       1.00      0.98      0.99       831\n",
            "\n",
            "    accuracy                           0.96      1607\n",
            "   macro avg       0.95      0.96      0.95      1607\n",
            "weighted avg       0.96      0.96      0.96      1607\n",
            "\n",
            "---------------------------------------------------------------\n",
            "\n",
            "Epoch 16 report: \n",
            "Train model\n",
            "----------\n"
          ]
        },
        {
          "output_type": "stream",
          "name": "stderr",
          "text": [
            "/usr/local/lib/python3.7/dist-packages/torch/utils/data/dataloader.py:481: UserWarning: This DataLoader will create 4 worker processes in total. Our suggested max number of worker in current system is 2, which is smaller than what this DataLoader is going to create. Please be aware that excessive worker creation might get DataLoader running slow or even freeze, lower the worker number to avoid potential slowness/freeze if necessary.\n",
            "  cpuset_checked))\n"
          ]
        },
        {
          "output_type": "stream",
          "name": "stdout",
          "text": [
            "Epoch 16 Step 59 ave_loss 0.0001\n",
            "Epoch 16 Step 119 ave_loss 0.0001\n",
            "Epoch 16 Step 179 ave_loss 0.0001\n",
            "Test model\n",
            "----------\n",
            "\n",
            "Evaluation completed in 0m 11s\n",
            "----------\n",
            "Test report: \n",
            "               precision    recall  f1-score   support\n",
            "\n",
            "          2C       0.94      0.96      0.95       409\n",
            "          3C       0.91      0.94      0.92       367\n",
            "          4C       1.00      0.97      0.99       831\n",
            "\n",
            "    accuracy                           0.96      1607\n",
            "   macro avg       0.95      0.96      0.95      1607\n",
            "weighted avg       0.96      0.96      0.96      1607\n",
            "\n",
            "---------------------------------------------------------------\n",
            "\n",
            "Epoch 17 report: \n",
            "Train model\n",
            "----------\n"
          ]
        },
        {
          "output_type": "stream",
          "name": "stderr",
          "text": [
            "/usr/local/lib/python3.7/dist-packages/torch/utils/data/dataloader.py:481: UserWarning: This DataLoader will create 4 worker processes in total. Our suggested max number of worker in current system is 2, which is smaller than what this DataLoader is going to create. Please be aware that excessive worker creation might get DataLoader running slow or even freeze, lower the worker number to avoid potential slowness/freeze if necessary.\n",
            "  cpuset_checked))\n"
          ]
        },
        {
          "output_type": "stream",
          "name": "stdout",
          "text": [
            "Epoch 17 Step 59 ave_loss 0.0001\n",
            "Epoch 17 Step 119 ave_loss 0.0000\n",
            "Epoch 17 Step 179 ave_loss 0.0001\n",
            "Test model\n",
            "----------\n",
            "\n",
            "Evaluation completed in 0m 11s\n",
            "----------\n",
            "Test report: \n",
            "               precision    recall  f1-score   support\n",
            "\n",
            "          2C       0.90      0.96      0.93       409\n",
            "          3C       0.92      0.92      0.92       367\n",
            "          4C       1.00      0.96      0.98       831\n",
            "\n",
            "    accuracy                           0.95      1607\n",
            "   macro avg       0.94      0.95      0.94      1607\n",
            "weighted avg       0.96      0.95      0.95      1607\n",
            "\n",
            "---------------------------------------------------------------\n",
            "\n",
            "Epoch 18 report: \n",
            "Train model\n",
            "----------\n"
          ]
        },
        {
          "output_type": "stream",
          "name": "stderr",
          "text": [
            "/usr/local/lib/python3.7/dist-packages/torch/utils/data/dataloader.py:481: UserWarning: This DataLoader will create 4 worker processes in total. Our suggested max number of worker in current system is 2, which is smaller than what this DataLoader is going to create. Please be aware that excessive worker creation might get DataLoader running slow or even freeze, lower the worker number to avoid potential slowness/freeze if necessary.\n",
            "  cpuset_checked))\n"
          ]
        },
        {
          "output_type": "stream",
          "name": "stdout",
          "text": [
            "Epoch 18 Step 59 ave_loss 0.0001\n",
            "Epoch 18 Step 119 ave_loss 0.0000\n",
            "Epoch 18 Step 179 ave_loss 0.0001\n",
            "Test model\n",
            "----------\n",
            "\n",
            "Evaluation completed in 0m 11s\n",
            "----------\n",
            "Test report: \n",
            "               precision    recall  f1-score   support\n",
            "\n",
            "          2C       0.94      0.96      0.95       409\n",
            "          3C       0.91      0.94      0.92       367\n",
            "          4C       1.00      0.98      0.99       831\n",
            "\n",
            "    accuracy                           0.96      1607\n",
            "   macro avg       0.95      0.96      0.95      1607\n",
            "weighted avg       0.96      0.96      0.96      1607\n",
            "\n",
            "---------------------------------------------------------------\n",
            "\n",
            "Epoch 19 report: \n",
            "Train model\n",
            "----------\n"
          ]
        },
        {
          "output_type": "stream",
          "name": "stderr",
          "text": [
            "/usr/local/lib/python3.7/dist-packages/torch/utils/data/dataloader.py:481: UserWarning: This DataLoader will create 4 worker processes in total. Our suggested max number of worker in current system is 2, which is smaller than what this DataLoader is going to create. Please be aware that excessive worker creation might get DataLoader running slow or even freeze, lower the worker number to avoid potential slowness/freeze if necessary.\n",
            "  cpuset_checked))\n"
          ]
        },
        {
          "output_type": "stream",
          "name": "stdout",
          "text": [
            "Epoch 19 Step 59 ave_loss 0.0001\n",
            "Epoch 19 Step 119 ave_loss 0.0001\n",
            "Epoch 19 Step 179 ave_loss 0.0001\n",
            "Test model\n",
            "----------\n",
            "\n",
            "Evaluation completed in 0m 11s\n",
            "----------\n",
            "Test report: \n",
            "               precision    recall  f1-score   support\n",
            "\n",
            "          2C       0.89      0.96      0.93       409\n",
            "          3C       0.90      0.93      0.92       367\n",
            "          4C       1.00      0.95      0.97       831\n",
            "\n",
            "    accuracy                           0.95      1607\n",
            "   macro avg       0.93      0.95      0.94      1607\n",
            "weighted avg       0.95      0.95      0.95      1607\n",
            "\n",
            "model: resnet18 , size: 64 , augmentation: None\n",
            "accr:  [91, 91, 95, 91, 89, 94, 94, 94, 93, 94, 94, 95, 94, 95, 94, 96, 96, 95, 96, 94]\n",
            "loss:  [0.001, 0.0019, 0.0, 0.0, 0.0001, 0.0005, 0.0, 0.0, 0.0002, 0.0, 0.0001, 0.0, 0.0, 0.0, 0.0, 0.0, 0.0, 0.0, 0.0001, 0.0001]\n",
            "Number of Image in train set: 6717\n",
            "Number of Image in test set: 1607\n",
            "Num batch in train set:  210\n",
            "Num batch in test set:  51\n"
          ]
        },
        {
          "output_type": "stream",
          "name": "stderr",
          "text": [
            "/usr/local/lib/python3.7/dist-packages/torch/utils/data/dataloader.py:481: UserWarning: This DataLoader will create 4 worker processes in total. Our suggested max number of worker in current system is 2, which is smaller than what this DataLoader is going to create. Please be aware that excessive worker creation might get DataLoader running slow or even freeze, lower the worker number to avoid potential slowness/freeze if necessary.\n",
            "  cpuset_checked))\n"
          ]
        },
        {
          "output_type": "stream",
          "name": "stdout",
          "text": [
            "['4C', '3C', '2C', '3C', '3C', '3C', '2C', '3C']\n",
            "['2C', '2C', '3C', '3C', '3C', '3C', '4C', '4C']\n",
            "['3C', '2C', '3C', '3C', '2C', '3C', '4C', '3C']\n",
            "['4C', '4C', '4C', '2C', '4C', '3C', '4C', '4C']\n"
          ]
        },
        {
          "output_type": "display_data",
          "data": {
            "image/png": "[encoded data removed]",
            "text/plain": [
              "<Figure size 432x288 with 1 Axes>"
            ]
          },
          "metadata": {
            "needs_background": "light"
          }
        },
        {
          "output_type": "stream",
          "name": "stdout",
          "text": [
            "image size:  torch.Size([3, 64, 64])\n",
            "device: cuda\n",
            "model: resnet50\n",
            "---------------------------------------------------------------\n",
            "\n",
            "Epoch 0 report: \n",
            "Train model\n",
            "----------\n",
            "Epoch 0 Step 59 ave_loss 4.0800\n",
            "Epoch 0 Step 119 ave_loss 2.5886\n",
            "Epoch 0 Step 179 ave_loss 1.3824\n",
            "Test model\n",
            "----------\n",
            "\n",
            "Evaluation completed in 0m 12s\n",
            "----------\n",
            "Test report: \n",
            "               precision    recall  f1-score   support\n",
            "\n",
            "          2C       0.36      0.73      0.48       409\n",
            "          3C       0.47      0.37      0.41       367\n",
            "          4C       0.87      0.51      0.64       831\n",
            "\n",
            "    accuracy                           0.53      1607\n",
            "   macro avg       0.57      0.53      0.51      1607\n",
            "weighted avg       0.65      0.53      0.55      1607\n",
            "\n",
            "---------------------------------------------------------------\n",
            "\n",
            "Epoch 1 report: \n",
            "Train model\n",
            "----------\n"
          ]
        },
        {
          "output_type": "stream",
          "name": "stderr",
          "text": [
            "/usr/local/lib/python3.7/dist-packages/torch/utils/data/dataloader.py:481: UserWarning: This DataLoader will create 4 worker processes in total. Our suggested max number of worker in current system is 2, which is smaller than what this DataLoader is going to create. Please be aware that excessive worker creation might get DataLoader running slow or even freeze, lower the worker number to avoid potential slowness/freeze if necessary.\n",
            "  cpuset_checked))\n"
          ]
        },
        {
          "output_type": "stream",
          "name": "stdout",
          "text": [
            "Epoch 1 Step 59 ave_loss 0.7414\n",
            "Epoch 1 Step 119 ave_loss 0.5124\n",
            "Epoch 1 Step 179 ave_loss 0.7551\n",
            "Test model\n",
            "----------\n",
            "\n",
            "Evaluation completed in 0m 12s\n",
            "----------\n",
            "Test report: \n",
            "               precision    recall  f1-score   support\n",
            "\n",
            "          2C       0.48      0.88      0.62       409\n",
            "          3C       0.79      0.58      0.67       367\n",
            "          4C       0.99      0.70      0.82       831\n",
            "\n",
            "    accuracy                           0.72      1607\n",
            "   macro avg       0.75      0.72      0.70      1607\n",
            "weighted avg       0.81      0.72      0.74      1607\n",
            "\n",
            "---------------------------------------------------------------\n",
            "\n",
            "Epoch 2 report: \n",
            "Train model\n",
            "----------\n"
          ]
        },
        {
          "output_type": "stream",
          "name": "stderr",
          "text": [
            "/usr/local/lib/python3.7/dist-packages/torch/utils/data/dataloader.py:481: UserWarning: This DataLoader will create 4 worker processes in total. Our suggested max number of worker in current system is 2, which is smaller than what this DataLoader is going to create. Please be aware that excessive worker creation might get DataLoader running slow or even freeze, lower the worker number to avoid potential slowness/freeze if necessary.\n",
            "  cpuset_checked))\n"
          ]
        },
        {
          "output_type": "stream",
          "name": "stdout",
          "text": [
            "Epoch 2 Step 59 ave_loss 0.2345\n",
            "Epoch 2 Step 119 ave_loss 0.2458\n",
            "Epoch 2 Step 179 ave_loss 0.2175\n",
            "Test model\n",
            "----------\n",
            "\n",
            "Evaluation completed in 0m 11s\n",
            "----------\n",
            "Test report: \n",
            "               precision    recall  f1-score   support\n",
            "\n",
            "          2C       0.73      0.48      0.58       409\n",
            "          3C       0.51      0.87      0.64       367\n",
            "          4C       0.97      0.83      0.89       831\n",
            "\n",
            "    accuracy                           0.75      1607\n",
            "   macro avg       0.74      0.73      0.70      1607\n",
            "weighted avg       0.80      0.75      0.76      1607\n",
            "\n",
            "---------------------------------------------------------------\n",
            "\n",
            "Epoch 3 report: \n",
            "Train model\n",
            "----------\n"
          ]
        },
        {
          "output_type": "stream",
          "name": "stderr",
          "text": [
            "/usr/local/lib/python3.7/dist-packages/torch/utils/data/dataloader.py:481: UserWarning: This DataLoader will create 4 worker processes in total. Our suggested max number of worker in current system is 2, which is smaller than what this DataLoader is going to create. Please be aware that excessive worker creation might get DataLoader running slow or even freeze, lower the worker number to avoid potential slowness/freeze if necessary.\n",
            "  cpuset_checked))\n"
          ]
        },
        {
          "output_type": "stream",
          "name": "stdout",
          "text": [
            "Epoch 3 Step 59 ave_loss 0.1755\n",
            "Epoch 3 Step 119 ave_loss 0.1179\n",
            "Epoch 3 Step 179 ave_loss 0.1033\n",
            "Test model\n",
            "----------\n",
            "\n",
            "Evaluation completed in 0m 12s\n",
            "----------\n",
            "Test report: \n",
            "               precision    recall  f1-score   support\n",
            "\n",
            "          2C       0.58      0.86      0.69       409\n",
            "          3C       0.72      0.74      0.73       367\n",
            "          4C       0.98      0.74      0.84       831\n",
            "\n",
            "    accuracy                           0.77      1607\n",
            "   macro avg       0.76      0.78      0.75      1607\n",
            "weighted avg       0.82      0.77      0.78      1607\n",
            "\n",
            "---------------------------------------------------------------\n",
            "\n",
            "Epoch 4 report: \n",
            "Train model\n",
            "----------\n"
          ]
        },
        {
          "output_type": "stream",
          "name": "stderr",
          "text": [
            "/usr/local/lib/python3.7/dist-packages/torch/utils/data/dataloader.py:481: UserWarning: This DataLoader will create 4 worker processes in total. Our suggested max number of worker in current system is 2, which is smaller than what this DataLoader is going to create. Please be aware that excessive worker creation might get DataLoader running slow or even freeze, lower the worker number to avoid potential slowness/freeze if necessary.\n",
            "  cpuset_checked))\n"
          ]
        },
        {
          "output_type": "stream",
          "name": "stdout",
          "text": [
            "Epoch 4 Step 59 ave_loss 0.0482\n",
            "Epoch 4 Step 119 ave_loss 0.0248\n",
            "Epoch 4 Step 179 ave_loss 0.0545\n",
            "Test model\n",
            "----------\n",
            "\n",
            "Evaluation completed in 0m 11s\n",
            "----------\n",
            "Test report: \n",
            "               precision    recall  f1-score   support\n",
            "\n",
            "          2C       0.70      0.82      0.75       409\n",
            "          3C       0.79      0.83      0.81       367\n",
            "          4C       0.99      0.89      0.94       831\n",
            "\n",
            "    accuracy                           0.86      1607\n",
            "   macro avg       0.83      0.84      0.83      1607\n",
            "weighted avg       0.87      0.86      0.86      1607\n",
            "\n",
            "---------------------------------------------------------------\n",
            "\n",
            "Epoch 5 report: \n",
            "Train model\n",
            "----------\n"
          ]
        },
        {
          "output_type": "stream",
          "name": "stderr",
          "text": [
            "/usr/local/lib/python3.7/dist-packages/torch/utils/data/dataloader.py:481: UserWarning: This DataLoader will create 4 worker processes in total. Our suggested max number of worker in current system is 2, which is smaller than what this DataLoader is going to create. Please be aware that excessive worker creation might get DataLoader running slow or even freeze, lower the worker number to avoid potential slowness/freeze if necessary.\n",
            "  cpuset_checked))\n"
          ]
        },
        {
          "output_type": "stream",
          "name": "stdout",
          "text": [
            "Epoch 5 Step 59 ave_loss 0.0129\n",
            "Epoch 5 Step 119 ave_loss 0.0278\n",
            "Epoch 5 Step 179 ave_loss 0.0732\n",
            "Test model\n",
            "----------\n",
            "\n",
            "Evaluation completed in 0m 11s\n",
            "----------\n",
            "Test report: \n",
            "               precision    recall  f1-score   support\n",
            "\n",
            "          2C       0.70      0.81      0.75       409\n",
            "          3C       0.68      0.80      0.73       367\n",
            "          4C       1.00      0.84      0.91       831\n",
            "\n",
            "    accuracy                           0.82      1607\n",
            "   macro avg       0.79      0.82      0.80      1607\n",
            "weighted avg       0.85      0.82      0.83      1607\n",
            "\n",
            "---------------------------------------------------------------\n",
            "\n",
            "Epoch 6 report: \n",
            "Train model\n",
            "----------\n"
          ]
        },
        {
          "output_type": "stream",
          "name": "stderr",
          "text": [
            "/usr/local/lib/python3.7/dist-packages/torch/utils/data/dataloader.py:481: UserWarning: This DataLoader will create 4 worker processes in total. Our suggested max number of worker in current system is 2, which is smaller than what this DataLoader is going to create. Please be aware that excessive worker creation might get DataLoader running slow or even freeze, lower the worker number to avoid potential slowness/freeze if necessary.\n",
            "  cpuset_checked))\n"
          ]
        },
        {
          "output_type": "stream",
          "name": "stdout",
          "text": [
            "Epoch 6 Step 59 ave_loss 0.0317\n",
            "Epoch 6 Step 119 ave_loss 0.0294\n",
            "Epoch 6 Step 179 ave_loss 0.0215\n",
            "Test model\n",
            "----------\n",
            "\n",
            "Evaluation completed in 0m 11s\n",
            "----------\n",
            "Test report: \n",
            "               precision    recall  f1-score   support\n",
            "\n",
            "          2C       0.75      0.81      0.78       409\n",
            "          3C       0.73      0.85      0.79       367\n",
            "          4C       1.00      0.89      0.94       831\n",
            "\n",
            "    accuracy                           0.86      1607\n",
            "   macro avg       0.83      0.85      0.84      1607\n",
            "weighted avg       0.88      0.86      0.86      1607\n",
            "\n",
            "---------------------------------------------------------------\n",
            "\n",
            "Epoch 7 report: \n",
            "Train model\n",
            "----------\n"
          ]
        },
        {
          "output_type": "stream",
          "name": "stderr",
          "text": [
            "/usr/local/lib/python3.7/dist-packages/torch/utils/data/dataloader.py:481: UserWarning: This DataLoader will create 4 worker processes in total. Our suggested max number of worker in current system is 2, which is smaller than what this DataLoader is going to create. Please be aware that excessive worker creation might get DataLoader running slow or even freeze, lower the worker number to avoid potential slowness/freeze if necessary.\n",
            "  cpuset_checked))\n"
          ]
        },
        {
          "output_type": "stream",
          "name": "stdout",
          "text": [
            "Epoch 7 Step 59 ave_loss 0.0121\n",
            "Epoch 7 Step 119 ave_loss 0.0122\n",
            "Epoch 7 Step 179 ave_loss 0.0021\n",
            "Test model\n",
            "----------\n",
            "\n",
            "Evaluation completed in 0m 11s\n",
            "----------\n",
            "Test report: \n",
            "               precision    recall  f1-score   support\n",
            "\n",
            "          2C       0.56      0.84      0.67       409\n",
            "          3C       0.68      0.69      0.69       367\n",
            "          4C       0.98      0.74      0.84       831\n",
            "\n",
            "    accuracy                           0.75      1607\n",
            "   macro avg       0.74      0.76      0.73      1607\n",
            "weighted avg       0.81      0.75      0.76      1607\n",
            "\n",
            "---------------------------------------------------------------\n",
            "\n",
            "Epoch 8 report: \n",
            "Train model\n",
            "----------\n"
          ]
        },
        {
          "output_type": "stream",
          "name": "stderr",
          "text": [
            "/usr/local/lib/python3.7/dist-packages/torch/utils/data/dataloader.py:481: UserWarning: This DataLoader will create 4 worker processes in total. Our suggested max number of worker in current system is 2, which is smaller than what this DataLoader is going to create. Please be aware that excessive worker creation might get DataLoader running slow or even freeze, lower the worker number to avoid potential slowness/freeze if necessary.\n",
            "  cpuset_checked))\n"
          ]
        },
        {
          "output_type": "stream",
          "name": "stdout",
          "text": [
            "Epoch 8 Step 59 ave_loss 0.0018\n",
            "Epoch 8 Step 119 ave_loss 0.0297\n",
            "Epoch 8 Step 179 ave_loss 0.0057\n",
            "Test model\n",
            "----------\n",
            "\n",
            "Evaluation completed in 0m 11s\n",
            "----------\n",
            "Test report: \n",
            "               precision    recall  f1-score   support\n",
            "\n",
            "          2C       0.48      0.77      0.59       409\n",
            "          3C       0.65      0.83      0.73       367\n",
            "          4C       1.00      0.58      0.73       831\n",
            "\n",
            "    accuracy                           0.68      1607\n",
            "   macro avg       0.71      0.73      0.68      1607\n",
            "weighted avg       0.79      0.68      0.69      1607\n",
            "\n",
            "---------------------------------------------------------------\n",
            "\n",
            "Epoch 9 report: \n",
            "Train model\n",
            "----------\n"
          ]
        },
        {
          "output_type": "stream",
          "name": "stderr",
          "text": [
            "/usr/local/lib/python3.7/dist-packages/torch/utils/data/dataloader.py:481: UserWarning: This DataLoader will create 4 worker processes in total. Our suggested max number of worker in current system is 2, which is smaller than what this DataLoader is going to create. Please be aware that excessive worker creation might get DataLoader running slow or even freeze, lower the worker number to avoid potential slowness/freeze if necessary.\n",
            "  cpuset_checked))\n"
          ]
        },
        {
          "output_type": "stream",
          "name": "stdout",
          "text": [
            "Epoch 9 Step 59 ave_loss 0.0062\n",
            "Epoch 9 Step 119 ave_loss 0.0013\n",
            "Epoch 9 Step 179 ave_loss 0.0019\n",
            "Test model\n",
            "----------\n",
            "\n",
            "Evaluation completed in 0m 11s\n",
            "----------\n",
            "Test report: \n",
            "               precision    recall  f1-score   support\n",
            "\n",
            "          2C       0.73      0.92      0.82       409\n",
            "          3C       0.83      0.78      0.81       367\n",
            "          4C       0.99      0.89      0.94       831\n",
            "\n",
            "    accuracy                           0.87      1607\n",
            "   macro avg       0.85      0.87      0.85      1607\n",
            "weighted avg       0.89      0.87      0.88      1607\n",
            "\n",
            "---------------------------------------------------------------\n",
            "\n",
            "Epoch 10 report: \n",
            "Train model\n",
            "----------\n"
          ]
        },
        {
          "output_type": "stream",
          "name": "stderr",
          "text": [
            "/usr/local/lib/python3.7/dist-packages/torch/utils/data/dataloader.py:481: UserWarning: This DataLoader will create 4 worker processes in total. Our suggested max number of worker in current system is 2, which is smaller than what this DataLoader is going to create. Please be aware that excessive worker creation might get DataLoader running slow or even freeze, lower the worker number to avoid potential slowness/freeze if necessary.\n",
            "  cpuset_checked))\n"
          ]
        },
        {
          "output_type": "stream",
          "name": "stdout",
          "text": [
            "Epoch 10 Step 59 ave_loss 0.0022\n",
            "Epoch 10 Step 119 ave_loss 0.0016\n",
            "Epoch 10 Step 179 ave_loss 0.0003\n",
            "Test model\n",
            "----------\n",
            "\n",
            "Evaluation completed in 0m 11s\n",
            "----------\n",
            "Test report: \n",
            "               precision    recall  f1-score   support\n",
            "\n",
            "          2C       0.70      0.85      0.77       409\n",
            "          3C       0.71      0.84      0.77       367\n",
            "          4C       1.00      0.81      0.90       831\n",
            "\n",
            "    accuracy                           0.83      1607\n",
            "   macro avg       0.80      0.84      0.81      1607\n",
            "weighted avg       0.86      0.83      0.84      1607\n",
            "\n",
            "---------------------------------------------------------------\n",
            "\n",
            "Epoch 11 report: \n",
            "Train model\n",
            "----------\n"
          ]
        },
        {
          "output_type": "stream",
          "name": "stderr",
          "text": [
            "/usr/local/lib/python3.7/dist-packages/torch/utils/data/dataloader.py:481: UserWarning: This DataLoader will create 4 worker processes in total. Our suggested max number of worker in current system is 2, which is smaller than what this DataLoader is going to create. Please be aware that excessive worker creation might get DataLoader running slow or even freeze, lower the worker number to avoid potential slowness/freeze if necessary.\n",
            "  cpuset_checked))\n"
          ]
        },
        {
          "output_type": "stream",
          "name": "stdout",
          "text": [
            "Epoch 11 Step 59 ave_loss 0.0006\n",
            "Epoch 11 Step 119 ave_loss 0.0069\n",
            "Epoch 11 Step 179 ave_loss 0.0065\n",
            "Test model\n",
            "----------\n",
            "\n",
            "Evaluation completed in 0m 12s\n",
            "----------\n",
            "Test report: \n",
            "               precision    recall  f1-score   support\n",
            "\n",
            "          2C       0.63      0.93      0.75       409\n",
            "          3C       0.84      0.74      0.79       367\n",
            "          4C       0.99      0.82      0.90       831\n",
            "\n",
            "    accuracy                           0.83      1607\n",
            "   macro avg       0.82      0.83      0.81      1607\n",
            "weighted avg       0.87      0.83      0.83      1607\n",
            "\n",
            "---------------------------------------------------------------\n",
            "\n",
            "Epoch 12 report: \n",
            "Train model\n",
            "----------\n"
          ]
        },
        {
          "output_type": "stream",
          "name": "stderr",
          "text": [
            "/usr/local/lib/python3.7/dist-packages/torch/utils/data/dataloader.py:481: UserWarning: This DataLoader will create 4 worker processes in total. Our suggested max number of worker in current system is 2, which is smaller than what this DataLoader is going to create. Please be aware that excessive worker creation might get DataLoader running slow or even freeze, lower the worker number to avoid potential slowness/freeze if necessary.\n",
            "  cpuset_checked))\n"
          ]
        },
        {
          "output_type": "stream",
          "name": "stdout",
          "text": [
            "Epoch 12 Step 59 ave_loss 0.0067\n",
            "Epoch 12 Step 119 ave_loss 0.0006\n",
            "Epoch 12 Step 179 ave_loss 0.0037\n",
            "Test model\n",
            "----------\n",
            "\n",
            "Evaluation completed in 0m 12s\n",
            "----------\n",
            "Test report: \n",
            "               precision    recall  f1-score   support\n",
            "\n",
            "          2C       0.62      0.82      0.71       409\n",
            "          3C       0.75      0.70      0.72       367\n",
            "          4C       0.99      0.86      0.92       831\n",
            "\n",
            "    accuracy                           0.81      1607\n",
            "   macro avg       0.79      0.79      0.78      1607\n",
            "weighted avg       0.84      0.81      0.82      1607\n",
            "\n",
            "---------------------------------------------------------------\n",
            "\n",
            "Epoch 13 report: \n",
            "Train model\n",
            "----------\n"
          ]
        },
        {
          "output_type": "stream",
          "name": "stderr",
          "text": [
            "/usr/local/lib/python3.7/dist-packages/torch/utils/data/dataloader.py:481: UserWarning: This DataLoader will create 4 worker processes in total. Our suggested max number of worker in current system is 2, which is smaller than what this DataLoader is going to create. Please be aware that excessive worker creation might get DataLoader running slow or even freeze, lower the worker number to avoid potential slowness/freeze if necessary.\n",
            "  cpuset_checked))\n"
          ]
        },
        {
          "output_type": "stream",
          "name": "stdout",
          "text": [
            "Epoch 13 Step 59 ave_loss 0.0023\n",
            "Epoch 13 Step 119 ave_loss 0.0010\n",
            "Epoch 13 Step 179 ave_loss 0.0002\n",
            "Test model\n",
            "----------\n",
            "\n",
            "Evaluation completed in 0m 12s\n",
            "----------\n",
            "Test report: \n",
            "               precision    recall  f1-score   support\n",
            "\n",
            "          2C       0.64      0.82      0.72       409\n",
            "          3C       0.75      0.73      0.74       367\n",
            "          4C       1.00      0.87      0.93       831\n",
            "\n",
            "    accuracy                           0.83      1607\n",
            "   macro avg       0.80      0.81      0.80      1607\n",
            "weighted avg       0.85      0.83      0.83      1607\n",
            "\n",
            "---------------------------------------------------------------\n",
            "\n",
            "Epoch 14 report: \n",
            "Train model\n",
            "----------\n"
          ]
        },
        {
          "output_type": "stream",
          "name": "stderr",
          "text": [
            "/usr/local/lib/python3.7/dist-packages/torch/utils/data/dataloader.py:481: UserWarning: This DataLoader will create 4 worker processes in total. Our suggested max number of worker in current system is 2, which is smaller than what this DataLoader is going to create. Please be aware that excessive worker creation might get DataLoader running slow or even freeze, lower the worker number to avoid potential slowness/freeze if necessary.\n",
            "  cpuset_checked))\n"
          ]
        },
        {
          "output_type": "stream",
          "name": "stdout",
          "text": [
            "Epoch 14 Step 59 ave_loss 0.0007\n",
            "Epoch 14 Step 119 ave_loss 0.0002\n",
            "Epoch 14 Step 179 ave_loss 0.0009\n",
            "Test model\n",
            "----------\n",
            "\n",
            "Evaluation completed in 0m 12s\n",
            "----------\n",
            "Test report: \n",
            "               precision    recall  f1-score   support\n",
            "\n",
            "          2C       0.66      0.81      0.73       409\n",
            "          3C       0.75      0.77      0.76       367\n",
            "          4C       1.00      0.87      0.93       831\n",
            "\n",
            "    accuracy                           0.83      1607\n",
            "   macro avg       0.80      0.82      0.81      1607\n",
            "weighted avg       0.85      0.83      0.84      1607\n",
            "\n",
            "---------------------------------------------------------------\n",
            "\n",
            "Epoch 15 report: \n",
            "Train model\n",
            "----------\n"
          ]
        },
        {
          "output_type": "stream",
          "name": "stderr",
          "text": [
            "/usr/local/lib/python3.7/dist-packages/torch/utils/data/dataloader.py:481: UserWarning: This DataLoader will create 4 worker processes in total. Our suggested max number of worker in current system is 2, which is smaller than what this DataLoader is going to create. Please be aware that excessive worker creation might get DataLoader running slow or even freeze, lower the worker number to avoid potential slowness/freeze if necessary.\n",
            "  cpuset_checked))\n"
          ]
        },
        {
          "output_type": "stream",
          "name": "stdout",
          "text": [
            "Epoch 15 Step 59 ave_loss 0.0012\n",
            "Epoch 15 Step 119 ave_loss 0.0044\n",
            "Epoch 15 Step 179 ave_loss 0.0004\n",
            "Test model\n",
            "----------\n",
            "\n",
            "Evaluation completed in 0m 12s\n",
            "----------\n",
            "Test report: \n",
            "               precision    recall  f1-score   support\n",
            "\n",
            "          2C       0.62      0.83      0.71       409\n",
            "          3C       0.77      0.76      0.77       367\n",
            "          4C       1.00      0.84      0.91       831\n",
            "\n",
            "    accuracy                           0.82      1607\n",
            "   macro avg       0.80      0.81      0.80      1607\n",
            "weighted avg       0.85      0.82      0.83      1607\n",
            "\n",
            "---------------------------------------------------------------\n",
            "\n",
            "Epoch 16 report: \n",
            "Train model\n",
            "----------\n"
          ]
        },
        {
          "output_type": "stream",
          "name": "stderr",
          "text": [
            "/usr/local/lib/python3.7/dist-packages/torch/utils/data/dataloader.py:481: UserWarning: This DataLoader will create 4 worker processes in total. Our suggested max number of worker in current system is 2, which is smaller than what this DataLoader is going to create. Please be aware that excessive worker creation might get DataLoader running slow or even freeze, lower the worker number to avoid potential slowness/freeze if necessary.\n",
            "  cpuset_checked))\n"
          ]
        },
        {
          "output_type": "stream",
          "name": "stdout",
          "text": [
            "Epoch 16 Step 59 ave_loss 0.0006\n",
            "Epoch 16 Step 119 ave_loss 0.0001\n",
            "Epoch 16 Step 179 ave_loss 0.0001\n",
            "Test model\n",
            "----------\n",
            "\n",
            "Evaluation completed in 0m 12s\n",
            "----------\n",
            "Test report: \n",
            "               precision    recall  f1-score   support\n",
            "\n",
            "          2C       0.70      0.82      0.75       409\n",
            "          3C       0.76      0.84      0.80       367\n",
            "          4C       1.00      0.86      0.93       831\n",
            "\n",
            "    accuracy                           0.85      1607\n",
            "   macro avg       0.82      0.84      0.83      1607\n",
            "weighted avg       0.87      0.85      0.85      1607\n",
            "\n",
            "---------------------------------------------------------------\n",
            "\n",
            "Epoch 17 report: \n",
            "Train model\n",
            "----------\n"
          ]
        },
        {
          "output_type": "stream",
          "name": "stderr",
          "text": [
            "/usr/local/lib/python3.7/dist-packages/torch/utils/data/dataloader.py:481: UserWarning: This DataLoader will create 4 worker processes in total. Our suggested max number of worker in current system is 2, which is smaller than what this DataLoader is going to create. Please be aware that excessive worker creation might get DataLoader running slow or even freeze, lower the worker number to avoid potential slowness/freeze if necessary.\n",
            "  cpuset_checked))\n"
          ]
        },
        {
          "output_type": "stream",
          "name": "stdout",
          "text": [
            "Epoch 17 Step 59 ave_loss 0.0001\n",
            "Epoch 17 Step 119 ave_loss 0.0001\n",
            "Epoch 17 Step 179 ave_loss 0.0000\n",
            "Test model\n",
            "----------\n",
            "\n",
            "Evaluation completed in 0m 12s\n",
            "----------\n",
            "Test report: \n",
            "               precision    recall  f1-score   support\n",
            "\n",
            "          2C       0.70      0.81      0.75       409\n",
            "          3C       0.75      0.84      0.79       367\n",
            "          4C       1.00      0.87      0.93       831\n",
            "\n",
            "    accuracy                           0.85      1607\n",
            "   macro avg       0.82      0.84      0.82      1607\n",
            "weighted avg       0.87      0.85      0.85      1607\n",
            "\n",
            "---------------------------------------------------------------\n",
            "\n",
            "Epoch 18 report: \n",
            "Train model\n",
            "----------\n"
          ]
        },
        {
          "output_type": "stream",
          "name": "stderr",
          "text": [
            "/usr/local/lib/python3.7/dist-packages/torch/utils/data/dataloader.py:481: UserWarning: This DataLoader will create 4 worker processes in total. Our suggested max number of worker in current system is 2, which is smaller than what this DataLoader is going to create. Please be aware that excessive worker creation might get DataLoader running slow or even freeze, lower the worker number to avoid potential slowness/freeze if necessary.\n",
            "  cpuset_checked))\n"
          ]
        },
        {
          "output_type": "stream",
          "name": "stdout",
          "text": [
            "Epoch 18 Step 59 ave_loss 0.0000\n",
            "Epoch 18 Step 119 ave_loss 0.0009\n",
            "Epoch 18 Step 179 ave_loss 0.0001\n",
            "Test model\n",
            "----------\n",
            "\n",
            "Evaluation completed in 0m 12s\n",
            "----------\n",
            "Test report: \n",
            "               precision    recall  f1-score   support\n",
            "\n",
            "          2C       0.67      0.81      0.74       409\n",
            "          3C       0.75      0.83      0.79       367\n",
            "          4C       1.00      0.85      0.92       831\n",
            "\n",
            "    accuracy                           0.84      1607\n",
            "   macro avg       0.81      0.83      0.81      1607\n",
            "weighted avg       0.86      0.84      0.84      1607\n",
            "\n",
            "---------------------------------------------------------------\n",
            "\n",
            "Epoch 19 report: \n",
            "Train model\n",
            "----------\n"
          ]
        },
        {
          "output_type": "stream",
          "name": "stderr",
          "text": [
            "/usr/local/lib/python3.7/dist-packages/torch/utils/data/dataloader.py:481: UserWarning: This DataLoader will create 4 worker processes in total. Our suggested max number of worker in current system is 2, which is smaller than what this DataLoader is going to create. Please be aware that excessive worker creation might get DataLoader running slow or even freeze, lower the worker number to avoid potential slowness/freeze if necessary.\n",
            "  cpuset_checked))\n"
          ]
        },
        {
          "output_type": "stream",
          "name": "stdout",
          "text": [
            "Epoch 19 Step 59 ave_loss 0.0001\n",
            "Epoch 19 Step 119 ave_loss 0.0115\n",
            "Epoch 19 Step 179 ave_loss 0.0012\n",
            "Test model\n",
            "----------\n",
            "\n",
            "Evaluation completed in 0m 13s\n",
            "----------\n",
            "Test report: \n",
            "               precision    recall  f1-score   support\n",
            "\n",
            "          2C       0.76      0.78      0.77       409\n",
            "          3C       0.72      0.80      0.76       367\n",
            "          4C       0.99      0.93      0.96       831\n",
            "\n",
            "    accuracy                           0.86      1607\n",
            "   macro avg       0.83      0.84      0.83      1607\n",
            "weighted avg       0.87      0.86      0.87      1607\n",
            "\n",
            "model: resnet50 , size: 64 , augmentation: None\n",
            "accr:  [53, 71, 74, 76, 85, 82, 85, 75, 68, 87, 82, 82, 81, 82, 83, 81, 84, 84, 83, 86]\n",
            "loss:  [0.6727, 0.3752, 0.148, 0.3335, 0.0922, 0.0024, 0.0004, 0.0007, 0.0097, 0.0153, 0.0, 0.0001, 0.0, 0.0215, 0.0001, 0.0, 0.0, 0.0, 0.0, 0.0]\n",
            "Number of Image in train set: 6717\n",
            "Number of Image in test set: 1607\n",
            "Num batch in train set:  210\n",
            "Num batch in test set:  51\n"
          ]
        },
        {
          "output_type": "stream",
          "name": "stderr",
          "text": [
            "/usr/local/lib/python3.7/dist-packages/torch/utils/data/dataloader.py:481: UserWarning: This DataLoader will create 4 worker processes in total. Our suggested max number of worker in current system is 2, which is smaller than what this DataLoader is going to create. Please be aware that excessive worker creation might get DataLoader running slow or even freeze, lower the worker number to avoid potential slowness/freeze if necessary.\n",
            "  cpuset_checked))\n"
          ]
        },
        {
          "output_type": "stream",
          "name": "stdout",
          "text": [
            "['3C', '3C', '4C', '4C', '3C', '3C', '4C', '3C']\n",
            "['4C', '4C', '2C', '2C', '2C', '2C', '3C', '4C']\n",
            "['3C', '2C', '4C', '3C', '2C', '4C', '2C', '2C']\n",
            "['4C', '2C', '3C', '3C', '3C', '3C', '3C', '2C']\n"
          ]
        },
        {
          "output_type": "display_data",
          "data": {
            "image/png": "[encoded data removed]",
            "text/plain": [
              "<Figure size 432x288 with 1 Axes>"
            ]
          },
          "metadata": {
            "needs_background": "light"
          }
        },
        {
          "output_type": "stream",
          "name": "stdout",
          "text": [
            "image size:  torch.Size([3, 64, 64])\n",
            "device: cuda\n",
            "model: densenet121\n",
            "---------------------------------------------------------------\n",
            "\n",
            "Epoch 0 report: \n",
            "Train model\n",
            "----------\n",
            "Epoch 0 Step 59 ave_loss 0.5646\n",
            "Epoch 0 Step 119 ave_loss 0.1462\n",
            "Epoch 0 Step 179 ave_loss 0.0315\n",
            "Test model\n",
            "----------\n",
            "\n",
            "Evaluation completed in 0m 11s\n",
            "----------\n",
            "Test report: \n",
            "               precision    recall  f1-score   support\n",
            "\n",
            "          2C       0.58      0.75      0.65       409\n",
            "          3C       0.57      0.90      0.70       367\n",
            "          4C       1.00      0.60      0.75       831\n",
            "\n",
            "    accuracy                           0.71      1607\n",
            "   macro avg       0.72      0.75      0.70      1607\n",
            "weighted avg       0.79      0.71      0.71      1607\n",
            "\n",
            "---------------------------------------------------------------\n",
            "\n",
            "Epoch 1 report: \n",
            "Train model\n",
            "----------\n"
          ]
        },
        {
          "output_type": "stream",
          "name": "stderr",
          "text": [
            "/usr/local/lib/python3.7/dist-packages/torch/utils/data/dataloader.py:481: UserWarning: This DataLoader will create 4 worker processes in total. Our suggested max number of worker in current system is 2, which is smaller than what this DataLoader is going to create. Please be aware that excessive worker creation might get DataLoader running slow or even freeze, lower the worker number to avoid potential slowness/freeze if necessary.\n",
            "  cpuset_checked))\n"
          ]
        },
        {
          "output_type": "stream",
          "name": "stdout",
          "text": [
            "Epoch 1 Step 59 ave_loss 0.0202\n",
            "Epoch 1 Step 119 ave_loss 0.0162\n",
            "Epoch 1 Step 179 ave_loss 0.0033\n",
            "Test model\n",
            "----------\n",
            "\n",
            "Evaluation completed in 0m 11s\n",
            "----------\n",
            "Test report: \n",
            "               precision    recall  f1-score   support\n",
            "\n",
            "          2C       0.83      0.94      0.88       409\n",
            "          3C       0.87      0.85      0.86       367\n",
            "          4C       1.00      0.94      0.97       831\n",
            "\n",
            "    accuracy                           0.92      1607\n",
            "   macro avg       0.90      0.91      0.90      1607\n",
            "weighted avg       0.93      0.92      0.92      1607\n",
            "\n",
            "---------------------------------------------------------------\n",
            "\n",
            "Epoch 2 report: \n",
            "Train model\n",
            "----------\n"
          ]
        },
        {
          "output_type": "stream",
          "name": "stderr",
          "text": [
            "/usr/local/lib/python3.7/dist-packages/torch/utils/data/dataloader.py:481: UserWarning: This DataLoader will create 4 worker processes in total. Our suggested max number of worker in current system is 2, which is smaller than what this DataLoader is going to create. Please be aware that excessive worker creation might get DataLoader running slow or even freeze, lower the worker number to avoid potential slowness/freeze if necessary.\n",
            "  cpuset_checked))\n"
          ]
        },
        {
          "output_type": "stream",
          "name": "stdout",
          "text": [
            "Epoch 2 Step 59 ave_loss 0.0088\n",
            "Epoch 2 Step 119 ave_loss 0.0018\n",
            "Epoch 2 Step 179 ave_loss 0.0051\n",
            "Test model\n",
            "----------\n",
            "\n",
            "Evaluation completed in 0m 11s\n",
            "----------\n",
            "Test report: \n",
            "               precision    recall  f1-score   support\n",
            "\n",
            "          2C       0.79      0.76      0.77       409\n",
            "          3C       0.60      0.94      0.73       367\n",
            "          4C       1.00      0.77      0.87       831\n",
            "\n",
            "    accuracy                           0.80      1607\n",
            "   macro avg       0.80      0.82      0.79      1607\n",
            "weighted avg       0.85      0.80      0.81      1607\n",
            "\n",
            "---------------------------------------------------------------\n",
            "\n",
            "Epoch 3 report: \n",
            "Train model\n",
            "----------\n"
          ]
        },
        {
          "output_type": "stream",
          "name": "stderr",
          "text": [
            "/usr/local/lib/python3.7/dist-packages/torch/utils/data/dataloader.py:481: UserWarning: This DataLoader will create 4 worker processes in total. Our suggested max number of worker in current system is 2, which is smaller than what this DataLoader is going to create. Please be aware that excessive worker creation might get DataLoader running slow or even freeze, lower the worker number to avoid potential slowness/freeze if necessary.\n",
            "  cpuset_checked))\n"
          ]
        },
        {
          "output_type": "stream",
          "name": "stdout",
          "text": [
            "Epoch 3 Step 59 ave_loss 0.0023\n",
            "Epoch 3 Step 119 ave_loss 0.0004\n",
            "Epoch 3 Step 179 ave_loss 0.0007\n",
            "Test model\n",
            "----------\n",
            "\n",
            "Evaluation completed in 0m 11s\n",
            "----------\n",
            "Test report: \n",
            "               precision    recall  f1-score   support\n",
            "\n",
            "          2C       0.81      0.78      0.80       409\n",
            "          3C       0.63      0.89      0.74       367\n",
            "          4C       1.00      0.83      0.91       831\n",
            "\n",
            "    accuracy                           0.83      1607\n",
            "   macro avg       0.81      0.83      0.81      1607\n",
            "weighted avg       0.87      0.83      0.84      1607\n",
            "\n",
            "---------------------------------------------------------------\n",
            "\n",
            "Epoch 4 report: \n",
            "Train model\n",
            "----------\n"
          ]
        },
        {
          "output_type": "stream",
          "name": "stderr",
          "text": [
            "/usr/local/lib/python3.7/dist-packages/torch/utils/data/dataloader.py:481: UserWarning: This DataLoader will create 4 worker processes in total. Our suggested max number of worker in current system is 2, which is smaller than what this DataLoader is going to create. Please be aware that excessive worker creation might get DataLoader running slow or even freeze, lower the worker number to avoid potential slowness/freeze if necessary.\n",
            "  cpuset_checked))\n"
          ]
        },
        {
          "output_type": "stream",
          "name": "stdout",
          "text": [
            "Epoch 4 Step 59 ave_loss 0.0019\n",
            "Epoch 4 Step 119 ave_loss 0.0005\n",
            "Epoch 4 Step 179 ave_loss 0.0007\n",
            "Test model\n",
            "----------\n",
            "\n",
            "Evaluation completed in 0m 11s\n",
            "----------\n",
            "Test report: \n",
            "               precision    recall  f1-score   support\n",
            "\n",
            "          2C       0.89      0.73      0.80       409\n",
            "          3C       0.65      0.94      0.77       367\n",
            "          4C       1.00      0.89      0.94       831\n",
            "\n",
            "    accuracy                           0.86      1607\n",
            "   macro avg       0.85      0.85      0.84      1607\n",
            "weighted avg       0.89      0.86      0.87      1607\n",
            "\n",
            "---------------------------------------------------------------\n",
            "\n",
            "Epoch 5 report: \n",
            "Train model\n",
            "----------\n"
          ]
        },
        {
          "output_type": "stream",
          "name": "stderr",
          "text": [
            "/usr/local/lib/python3.7/dist-packages/torch/utils/data/dataloader.py:481: UserWarning: This DataLoader will create 4 worker processes in total. Our suggested max number of worker in current system is 2, which is smaller than what this DataLoader is going to create. Please be aware that excessive worker creation might get DataLoader running slow or even freeze, lower the worker number to avoid potential slowness/freeze if necessary.\n",
            "  cpuset_checked))\n"
          ]
        },
        {
          "output_type": "stream",
          "name": "stdout",
          "text": [
            "Epoch 5 Step 59 ave_loss 0.0004\n",
            "Epoch 5 Step 119 ave_loss 0.0003\n",
            "Epoch 5 Step 179 ave_loss 0.0002\n",
            "Test model\n",
            "----------\n",
            "\n",
            "Evaluation completed in 0m 11s\n",
            "----------\n",
            "Test report: \n",
            "               precision    recall  f1-score   support\n",
            "\n",
            "          2C       0.82      0.83      0.82       409\n",
            "          3C       0.70      0.92      0.80       367\n",
            "          4C       1.00      0.85      0.92       831\n",
            "\n",
            "    accuracy                           0.86      1607\n",
            "   macro avg       0.84      0.87      0.85      1607\n",
            "weighted avg       0.89      0.86      0.87      1607\n",
            "\n",
            "---------------------------------------------------------------\n",
            "\n",
            "Epoch 6 report: \n",
            "Train model\n",
            "----------\n"
          ]
        },
        {
          "output_type": "stream",
          "name": "stderr",
          "text": [
            "/usr/local/lib/python3.7/dist-packages/torch/utils/data/dataloader.py:481: UserWarning: This DataLoader will create 4 worker processes in total. Our suggested max number of worker in current system is 2, which is smaller than what this DataLoader is going to create. Please be aware that excessive worker creation might get DataLoader running slow or even freeze, lower the worker number to avoid potential slowness/freeze if necessary.\n",
            "  cpuset_checked))\n"
          ]
        },
        {
          "output_type": "stream",
          "name": "stdout",
          "text": [
            "Epoch 6 Step 59 ave_loss 0.0002\n",
            "Epoch 6 Step 119 ave_loss 0.0003\n",
            "Epoch 6 Step 179 ave_loss 0.0002\n",
            "Test model\n",
            "----------\n",
            "\n",
            "Evaluation completed in 0m 10s\n",
            "----------\n",
            "Test report: \n",
            "               precision    recall  f1-score   support\n",
            "\n",
            "          2C       0.79      0.84      0.81       409\n",
            "          3C       0.71      0.91      0.80       367\n",
            "          4C       1.00      0.84      0.92       831\n",
            "\n",
            "    accuracy                           0.86      1607\n",
            "   macro avg       0.83      0.87      0.84      1607\n",
            "weighted avg       0.88      0.86      0.86      1607\n",
            "\n",
            "---------------------------------------------------------------\n",
            "\n",
            "Epoch 7 report: \n",
            "Train model\n",
            "----------\n"
          ]
        },
        {
          "output_type": "stream",
          "name": "stderr",
          "text": [
            "/usr/local/lib/python3.7/dist-packages/torch/utils/data/dataloader.py:481: UserWarning: This DataLoader will create 4 worker processes in total. Our suggested max number of worker in current system is 2, which is smaller than what this DataLoader is going to create. Please be aware that excessive worker creation might get DataLoader running slow or even freeze, lower the worker number to avoid potential slowness/freeze if necessary.\n",
            "  cpuset_checked))\n"
          ]
        },
        {
          "output_type": "stream",
          "name": "stdout",
          "text": [
            "Epoch 7 Step 59 ave_loss 0.0012\n",
            "Epoch 7 Step 119 ave_loss 0.0052\n",
            "Epoch 7 Step 179 ave_loss 0.0062\n",
            "Test model\n",
            "----------\n",
            "\n",
            "Evaluation completed in 0m 11s\n",
            "----------\n",
            "Test report: \n",
            "               precision    recall  f1-score   support\n",
            "\n",
            "          2C       0.84      0.82      0.83       409\n",
            "          3C       0.73      0.81      0.76       367\n",
            "          4C       0.98      0.94      0.96       831\n",
            "\n",
            "    accuracy                           0.88      1607\n",
            "   macro avg       0.85      0.86      0.85      1607\n",
            "weighted avg       0.89      0.88      0.88      1607\n",
            "\n",
            "---------------------------------------------------------------\n",
            "\n",
            "Epoch 8 report: \n",
            "Train model\n",
            "----------\n"
          ]
        },
        {
          "output_type": "stream",
          "name": "stderr",
          "text": [
            "/usr/local/lib/python3.7/dist-packages/torch/utils/data/dataloader.py:481: UserWarning: This DataLoader will create 4 worker processes in total. Our suggested max number of worker in current system is 2, which is smaller than what this DataLoader is going to create. Please be aware that excessive worker creation might get DataLoader running slow or even freeze, lower the worker number to avoid potential slowness/freeze if necessary.\n",
            "  cpuset_checked))\n"
          ]
        },
        {
          "output_type": "stream",
          "name": "stdout",
          "text": [
            "Epoch 8 Step 59 ave_loss 0.0029\n",
            "Epoch 8 Step 119 ave_loss 0.0016\n",
            "Epoch 8 Step 179 ave_loss 0.0166\n",
            "Test model\n",
            "----------\n",
            "\n",
            "Evaluation completed in 0m 11s\n",
            "----------\n",
            "Test report: \n",
            "               precision    recall  f1-score   support\n",
            "\n",
            "          2C       0.83      0.75      0.79       409\n",
            "          3C       0.57      0.81      0.67       367\n",
            "          4C       0.98      0.85      0.91       831\n",
            "\n",
            "    accuracy                           0.82      1607\n",
            "   macro avg       0.80      0.80      0.79      1607\n",
            "weighted avg       0.85      0.82      0.83      1607\n",
            "\n",
            "---------------------------------------------------------------\n",
            "\n",
            "Epoch 9 report: \n",
            "Train model\n",
            "----------\n"
          ]
        },
        {
          "output_type": "stream",
          "name": "stderr",
          "text": [
            "/usr/local/lib/python3.7/dist-packages/torch/utils/data/dataloader.py:481: UserWarning: This DataLoader will create 4 worker processes in total. Our suggested max number of worker in current system is 2, which is smaller than what this DataLoader is going to create. Please be aware that excessive worker creation might get DataLoader running slow or even freeze, lower the worker number to avoid potential slowness/freeze if necessary.\n",
            "  cpuset_checked))\n"
          ]
        },
        {
          "output_type": "stream",
          "name": "stdout",
          "text": [
            "Epoch 9 Step 59 ave_loss 0.0008\n",
            "Epoch 9 Step 119 ave_loss 0.0003\n",
            "Epoch 9 Step 179 ave_loss 0.0005\n",
            "Test model\n",
            "----------\n",
            "\n",
            "Evaluation completed in 0m 11s\n",
            "----------\n",
            "Test report: \n",
            "               precision    recall  f1-score   support\n",
            "\n",
            "          2C       0.67      0.74      0.70       409\n",
            "          3C       0.61      0.89      0.73       367\n",
            "          4C       1.00      0.75      0.86       831\n",
            "\n",
            "    accuracy                           0.78      1607\n",
            "   macro avg       0.76      0.79      0.76      1607\n",
            "weighted avg       0.83      0.78      0.79      1607\n",
            "\n",
            "---------------------------------------------------------------\n",
            "\n",
            "Epoch 10 report: \n",
            "Train model\n",
            "----------\n"
          ]
        },
        {
          "output_type": "stream",
          "name": "stderr",
          "text": [
            "/usr/local/lib/python3.7/dist-packages/torch/utils/data/dataloader.py:481: UserWarning: This DataLoader will create 4 worker processes in total. Our suggested max number of worker in current system is 2, which is smaller than what this DataLoader is going to create. Please be aware that excessive worker creation might get DataLoader running slow or even freeze, lower the worker number to avoid potential slowness/freeze if necessary.\n",
            "  cpuset_checked))\n"
          ]
        },
        {
          "output_type": "stream",
          "name": "stdout",
          "text": [
            "Epoch 10 Step 59 ave_loss 0.0012\n",
            "Epoch 10 Step 119 ave_loss 0.0014\n",
            "Epoch 10 Step 179 ave_loss 0.0004\n",
            "Test model\n",
            "----------\n",
            "\n",
            "Evaluation completed in 0m 11s\n",
            "----------\n",
            "Test report: \n",
            "               precision    recall  f1-score   support\n",
            "\n",
            "          2C       0.87      0.92      0.89       409\n",
            "          3C       0.67      0.87      0.76       367\n",
            "          4C       1.00      0.84      0.91       831\n",
            "\n",
            "    accuracy                           0.87      1607\n",
            "   macro avg       0.85      0.88      0.85      1607\n",
            "weighted avg       0.89      0.87      0.87      1607\n",
            "\n",
            "---------------------------------------------------------------\n",
            "\n",
            "Epoch 11 report: \n",
            "Train model\n",
            "----------\n"
          ]
        },
        {
          "output_type": "stream",
          "name": "stderr",
          "text": [
            "/usr/local/lib/python3.7/dist-packages/torch/utils/data/dataloader.py:481: UserWarning: This DataLoader will create 4 worker processes in total. Our suggested max number of worker in current system is 2, which is smaller than what this DataLoader is going to create. Please be aware that excessive worker creation might get DataLoader running slow or even freeze, lower the worker number to avoid potential slowness/freeze if necessary.\n",
            "  cpuset_checked))\n"
          ]
        },
        {
          "output_type": "stream",
          "name": "stdout",
          "text": [
            "Epoch 11 Step 59 ave_loss 0.0002\n",
            "Epoch 11 Step 119 ave_loss 0.0002\n",
            "Epoch 11 Step 179 ave_loss 0.0002\n",
            "Test model\n",
            "----------\n",
            "\n",
            "Evaluation completed in 0m 11s\n",
            "----------\n",
            "Test report: \n",
            "               precision    recall  f1-score   support\n",
            "\n",
            "          2C       0.85      0.85      0.85       409\n",
            "          3C       0.63      0.90      0.74       367\n",
            "          4C       1.00      0.80      0.89       831\n",
            "\n",
            "    accuracy                           0.84      1607\n",
            "   macro avg       0.83      0.85      0.83      1607\n",
            "weighted avg       0.88      0.84      0.85      1607\n",
            "\n",
            "---------------------------------------------------------------\n",
            "\n",
            "Epoch 12 report: \n",
            "Train model\n",
            "----------\n"
          ]
        },
        {
          "output_type": "stream",
          "name": "stderr",
          "text": [
            "/usr/local/lib/python3.7/dist-packages/torch/utils/data/dataloader.py:481: UserWarning: This DataLoader will create 4 worker processes in total. Our suggested max number of worker in current system is 2, which is smaller than what this DataLoader is going to create. Please be aware that excessive worker creation might get DataLoader running slow or even freeze, lower the worker number to avoid potential slowness/freeze if necessary.\n",
            "  cpuset_checked))\n"
          ]
        },
        {
          "output_type": "stream",
          "name": "stdout",
          "text": [
            "Epoch 12 Step 59 ave_loss 0.0007\n",
            "Epoch 12 Step 119 ave_loss 0.0004\n",
            "Epoch 12 Step 179 ave_loss 0.0003\n",
            "Test model\n",
            "----------\n",
            "\n",
            "Evaluation completed in 0m 11s\n",
            "----------\n",
            "Test report: \n",
            "               precision    recall  f1-score   support\n",
            "\n",
            "          2C       0.89      0.91      0.90       409\n",
            "          3C       0.72      0.95      0.82       367\n",
            "          4C       1.00      0.84      0.92       831\n",
            "\n",
            "    accuracy                           0.89      1607\n",
            "   macro avg       0.87      0.90      0.88      1607\n",
            "weighted avg       0.91      0.89      0.89      1607\n",
            "\n",
            "---------------------------------------------------------------\n",
            "\n",
            "Epoch 13 report: \n",
            "Train model\n",
            "----------\n"
          ]
        },
        {
          "output_type": "stream",
          "name": "stderr",
          "text": [
            "/usr/local/lib/python3.7/dist-packages/torch/utils/data/dataloader.py:481: UserWarning: This DataLoader will create 4 worker processes in total. Our suggested max number of worker in current system is 2, which is smaller than what this DataLoader is going to create. Please be aware that excessive worker creation might get DataLoader running slow or even freeze, lower the worker number to avoid potential slowness/freeze if necessary.\n",
            "  cpuset_checked))\n"
          ]
        },
        {
          "output_type": "stream",
          "name": "stdout",
          "text": [
            "Epoch 13 Step 59 ave_loss 0.0002\n",
            "Epoch 13 Step 119 ave_loss 0.0002\n",
            "Epoch 13 Step 179 ave_loss 0.0001\n",
            "Test model\n",
            "----------\n",
            "\n",
            "Evaluation completed in 0m 11s\n",
            "----------\n",
            "Test report: \n",
            "               precision    recall  f1-score   support\n",
            "\n",
            "          2C       0.89      0.89      0.89       409\n",
            "          3C       0.68      0.94      0.79       367\n",
            "          4C       1.00      0.83      0.91       831\n",
            "\n",
            "    accuracy                           0.87      1607\n",
            "   macro avg       0.86      0.89      0.86      1607\n",
            "weighted avg       0.90      0.87      0.88      1607\n",
            "\n",
            "---------------------------------------------------------------\n",
            "\n",
            "Epoch 14 report: \n",
            "Train model\n",
            "----------\n"
          ]
        },
        {
          "output_type": "stream",
          "name": "stderr",
          "text": [
            "/usr/local/lib/python3.7/dist-packages/torch/utils/data/dataloader.py:481: UserWarning: This DataLoader will create 4 worker processes in total. Our suggested max number of worker in current system is 2, which is smaller than what this DataLoader is going to create. Please be aware that excessive worker creation might get DataLoader running slow or even freeze, lower the worker number to avoid potential slowness/freeze if necessary.\n",
            "  cpuset_checked))\n"
          ]
        },
        {
          "output_type": "stream",
          "name": "stdout",
          "text": [
            "Epoch 14 Step 59 ave_loss 0.0002\n",
            "Epoch 14 Step 119 ave_loss 0.0002\n",
            "Epoch 14 Step 179 ave_loss 0.0002\n",
            "Test model\n",
            "----------\n",
            "\n",
            "Evaluation completed in 0m 11s\n",
            "----------\n",
            "Test report: \n",
            "               precision    recall  f1-score   support\n",
            "\n",
            "          2C       0.84      0.91      0.88       409\n",
            "          3C       0.66      0.90      0.76       367\n",
            "          4C       1.00      0.80      0.89       831\n",
            "\n",
            "    accuracy                           0.85      1607\n",
            "   macro avg       0.84      0.87      0.84      1607\n",
            "weighted avg       0.88      0.85      0.86      1607\n",
            "\n",
            "---------------------------------------------------------------\n",
            "\n",
            "Epoch 15 report: \n",
            "Train model\n",
            "----------\n"
          ]
        },
        {
          "output_type": "stream",
          "name": "stderr",
          "text": [
            "/usr/local/lib/python3.7/dist-packages/torch/utils/data/dataloader.py:481: UserWarning: This DataLoader will create 4 worker processes in total. Our suggested max number of worker in current system is 2, which is smaller than what this DataLoader is going to create. Please be aware that excessive worker creation might get DataLoader running slow or even freeze, lower the worker number to avoid potential slowness/freeze if necessary.\n",
            "  cpuset_checked))\n"
          ]
        },
        {
          "output_type": "stream",
          "name": "stdout",
          "text": [
            "Epoch 15 Step 59 ave_loss 0.0002\n",
            "Epoch 15 Step 119 ave_loss 0.0001\n",
            "Epoch 15 Step 179 ave_loss 0.0002\n",
            "Test model\n",
            "----------\n",
            "\n",
            "Evaluation completed in 0m 11s\n",
            "----------\n",
            "Test report: \n",
            "               precision    recall  f1-score   support\n",
            "\n",
            "          2C       0.95      0.83      0.89       409\n",
            "          3C       0.66      0.99      0.79       367\n",
            "          4C       1.00      0.84      0.91       831\n",
            "\n",
            "    accuracy                           0.87      1607\n",
            "   macro avg       0.87      0.89      0.86      1607\n",
            "weighted avg       0.91      0.87      0.88      1607\n",
            "\n",
            "---------------------------------------------------------------\n",
            "\n",
            "Epoch 16 report: \n",
            "Train model\n",
            "----------\n"
          ]
        },
        {
          "output_type": "stream",
          "name": "stderr",
          "text": [
            "/usr/local/lib/python3.7/dist-packages/torch/utils/data/dataloader.py:481: UserWarning: This DataLoader will create 4 worker processes in total. Our suggested max number of worker in current system is 2, which is smaller than what this DataLoader is going to create. Please be aware that excessive worker creation might get DataLoader running slow or even freeze, lower the worker number to avoid potential slowness/freeze if necessary.\n",
            "  cpuset_checked))\n"
          ]
        },
        {
          "output_type": "stream",
          "name": "stdout",
          "text": [
            "Epoch 16 Step 59 ave_loss 0.0002\n",
            "Epoch 16 Step 119 ave_loss 0.0001\n",
            "Epoch 16 Step 179 ave_loss 0.0002\n",
            "Test model\n",
            "----------\n",
            "\n",
            "Evaluation completed in 0m 11s\n",
            "----------\n",
            "Test report: \n",
            "               precision    recall  f1-score   support\n",
            "\n",
            "          2C       0.89      0.90      0.89       409\n",
            "          3C       0.68      0.95      0.79       367\n",
            "          4C       1.00      0.82      0.90       831\n",
            "\n",
            "    accuracy                           0.87      1607\n",
            "   macro avg       0.86      0.89      0.86      1607\n",
            "weighted avg       0.90      0.87      0.87      1607\n",
            "\n",
            "---------------------------------------------------------------\n",
            "\n",
            "Epoch 17 report: \n",
            "Train model\n",
            "----------\n"
          ]
        },
        {
          "output_type": "stream",
          "name": "stderr",
          "text": [
            "/usr/local/lib/python3.7/dist-packages/torch/utils/data/dataloader.py:481: UserWarning: This DataLoader will create 4 worker processes in total. Our suggested max number of worker in current system is 2, which is smaller than what this DataLoader is going to create. Please be aware that excessive worker creation might get DataLoader running slow or even freeze, lower the worker number to avoid potential slowness/freeze if necessary.\n",
            "  cpuset_checked))\n"
          ]
        },
        {
          "output_type": "stream",
          "name": "stdout",
          "text": [
            "Epoch 17 Step 59 ave_loss 0.0001\n",
            "Epoch 17 Step 119 ave_loss 0.0001\n",
            "Epoch 17 Step 179 ave_loss 0.0002\n",
            "Test model\n",
            "----------\n",
            "\n",
            "Evaluation completed in 0m 11s\n",
            "----------\n",
            "Test report: \n",
            "               precision    recall  f1-score   support\n",
            "\n",
            "          2C       0.83      0.89      0.86       409\n",
            "          3C       0.66      0.92      0.77       367\n",
            "          4C       1.00      0.79      0.88       831\n",
            "\n",
            "    accuracy                           0.84      1607\n",
            "   macro avg       0.83      0.87      0.84      1607\n",
            "weighted avg       0.88      0.84      0.85      1607\n",
            "\n",
            "---------------------------------------------------------------\n",
            "\n",
            "Epoch 18 report: \n",
            "Train model\n",
            "----------\n"
          ]
        },
        {
          "output_type": "stream",
          "name": "stderr",
          "text": [
            "/usr/local/lib/python3.7/dist-packages/torch/utils/data/dataloader.py:481: UserWarning: This DataLoader will create 4 worker processes in total. Our suggested max number of worker in current system is 2, which is smaller than what this DataLoader is going to create. Please be aware that excessive worker creation might get DataLoader running slow or even freeze, lower the worker number to avoid potential slowness/freeze if necessary.\n",
            "  cpuset_checked))\n"
          ]
        },
        {
          "output_type": "stream",
          "name": "stdout",
          "text": [
            "Epoch 18 Step 59 ave_loss 0.0001\n",
            "Epoch 18 Step 119 ave_loss 0.0003\n",
            "Epoch 18 Step 179 ave_loss 0.0002\n",
            "Test model\n",
            "----------\n",
            "\n",
            "Evaluation completed in 0m 11s\n",
            "----------\n",
            "Test report: \n",
            "               precision    recall  f1-score   support\n",
            "\n",
            "          2C       0.82      0.86      0.84       409\n",
            "          3C       0.64      0.91      0.75       367\n",
            "          4C       1.00      0.78      0.88       831\n",
            "\n",
            "    accuracy                           0.83      1607\n",
            "   macro avg       0.82      0.85      0.82      1607\n",
            "weighted avg       0.87      0.83      0.84      1607\n",
            "\n",
            "---------------------------------------------------------------\n",
            "\n",
            "Epoch 19 report: \n",
            "Train model\n",
            "----------\n"
          ]
        },
        {
          "output_type": "stream",
          "name": "stderr",
          "text": [
            "/usr/local/lib/python3.7/dist-packages/torch/utils/data/dataloader.py:481: UserWarning: This DataLoader will create 4 worker processes in total. Our suggested max number of worker in current system is 2, which is smaller than what this DataLoader is going to create. Please be aware that excessive worker creation might get DataLoader running slow or even freeze, lower the worker number to avoid potential slowness/freeze if necessary.\n",
            "  cpuset_checked))\n"
          ]
        },
        {
          "output_type": "stream",
          "name": "stdout",
          "text": [
            "Epoch 19 Step 59 ave_loss 0.0002\n",
            "Epoch 19 Step 119 ave_loss 0.0005\n",
            "Epoch 19 Step 179 ave_loss 0.0014\n",
            "Test model\n",
            "----------\n",
            "\n",
            "Evaluation completed in 0m 11s\n",
            "----------\n",
            "Test report: \n",
            "               precision    recall  f1-score   support\n",
            "\n",
            "          2C       0.81      0.85      0.83       409\n",
            "          3C       0.66      0.95      0.78       367\n",
            "          4C       1.00      0.78      0.88       831\n",
            "\n",
            "    accuracy                           0.84      1607\n",
            "   macro avg       0.82      0.86      0.83      1607\n",
            "weighted avg       0.87      0.84      0.84      1607\n",
            "\n",
            "model: densenet121 , size: 64 , augmentation: None\n",
            "accr:  [70, 92, 80, 83, 85, 86, 85, 87, 81, 77, 86, 83, 88, 87, 85, 87, 86, 84, 83, 83]\n",
            "loss:  [0.0896, 0.0369, 0.0012, 0.0005, 0.0004, 0.0001, 0.0001, 0.0883, 0.0114, 0.0001, 0.003, 0.0001, 0.0001, 0.0001, 0.0004, 0.0001, 0.0, 0.0001, 0.0001, 0.0001]\n"
          ]
        }
      ]
    },
    {
      "cell_type": "markdown",
      "metadata": {
        "id": "wXFcP_nm6l-Q"
      },
      "source": [
        "# Demo mô hình với video"
      ]
    },
    {
      "cell_type": "code",
      "metadata": {
        "id": "UXiLDpzR6fg2"
      },
      "source": [
        "def run_video(modelName = 'vgg16'):\n",
        "  print(modelName)\n",
        "  transform_test = transforms.Compose([\n",
        "        transforms.Resize((64,64)),\n",
        "        transforms.ToTensor()])\n",
        "  sample_data = torchvision.datasets.ImageFolder(\n",
        "      root='/content/echocardiography/DATA_CHAMBER_2021/test', \n",
        "      transform=transform_test)\n",
        "  videotest = namedtuple('videotest', ['id', \"ytrues\", 'ypreds'])\n",
        "  id_video = []\n",
        "\n",
        "  for i, image in enumerate(sample_data.imgs):\n",
        "    id_video.append(image[0].split(\"/\")[-1].split(\"_\")[0])\n",
        "  \n",
        "  video_list = []\n",
        "  for image in id_video:\n",
        "    if (image in video_list) == False:\n",
        "      video_list.append(image)\n",
        "    else:\n",
        "      pass\n",
        "\n",
        "  ytrue = []\n",
        "  ypred = []\n",
        "\n",
        "  if modelName == 'vgg16':\n",
        "    modelload = torchvision.models.vgg16(pretrained=False)\n",
        "    modelload.classifier[6] = torch.nn.modules.linear.Linear(in_features=4096, out_features=3, bias=True)\n",
        "    modelload.load_state_dict(torch.load('vgg16.pth'), strict=False)\n",
        "  elif modelName == \"resnet50\":\n",
        "    modelload = torchvision.models.resnet50(pretrained=False)\n",
        "    modelload.fc = torch.nn.modules.linear.Linear(in_features=2048, out_features=3, bias=True) \n",
        "    modelload.load_state_dict(torch.load('resnet50.pth'), strict=False)\n",
        "  elif modelName == \"resnet18\":\n",
        "    modelload = torchvision.models.resnet18(pretrained=False)\n",
        "    modelload.fc = torch.nn.modules.linear.Linear(in_features=512, out_features=3, bias=True) \n",
        "    modelload.load_state_dict(torch.load('resnet18.pth'), strict=False)\n",
        "  else:\n",
        "    modelload = torchvision.models.densenet121(pretrained=False)\n",
        "    modelload.classifier = torch.nn.modules.linear.Linear(in_features=1024, out_features=3, bias=True)\n",
        "    modelload.load_state_dict(torch.load('densenet121.pth'), strict=False)\n",
        "\n",
        "  modelload.to('cuda')\n",
        "  modelload.eval()\n",
        "  for image, label in sample_data:\n",
        "    image = image.unsqueeze(0).to('cuda')\n",
        "    output = modelload(image)\n",
        "    _, predicted = torch.max(output, dim=1)\n",
        "    ytrue.append(label)\n",
        "    ypred += list(predicted.cpu().numpy())\n",
        "\n",
        "  outputs_video = []\n",
        "  ytrue_video = []\n",
        "  ypred_video = []\n",
        "  index = 0\n",
        "  for id in video_list:\n",
        "    index += 1\n",
        "    vtrue = []\n",
        "    vpred = []\n",
        "    for i, img in enumerate(id_video):\n",
        "      if img == id:\n",
        "        vtrue.append(ytrue[i])\n",
        "        vpred.append(ypred[i])\n",
        "\n",
        "    rate_true = [0, 0, 0]\n",
        "    rate_pred = [0, 0, 0]\n",
        "    for label in range(3):\n",
        "      rate_true[label] = list(vtrue).count(label)\n",
        "      rate_pred[label] = list(vpred).count(label)\n",
        "\n",
        "    labeltrue = np.argmax(rate_true)\n",
        "    labelpred = np.argmax(rate_pred)\n",
        "\n",
        "    if index %4 != 0:\n",
        "      print(\"id: \", id, \", true:\", labeltrue, \", pred: \", labelpred, end=\"  |  \")\n",
        "    else: print(\"id: \", id, \", true:\", labeltrue, \", pred: \", labelpred)\n",
        "    ytrue_video.append(labeltrue)\n",
        "    ypred_video.append(labelpred)\n",
        "    outputs_video.append(videotest(id=id,ytrues=labeltrue,ypreds=labelpred))\n",
        "  print(classification_report(ytrue_video, ypred_video, target_names=classes))\n",
        "  return outputs_video"
      ],
      "execution_count": 16,
      "outputs": []
    },
    {
      "cell_type": "code",
      "metadata": {
        "id": "71Uqr7_HFxEc",
        "colab": {
          "base_uri": "https://localhost:8080/"
        },
        "outputId": "5079d061-9f96-4267-af6c-9371475c66f8"
      },
      "source": [
        "# result = run_video('vgg16')\n",
        "for i in modelset:\n",
        "  result = run_video(modelName=i)"
      ],
      "execution_count": 17,
      "outputs": [
        {
          "output_type": "stream",
          "name": "stdout",
          "text": [
            "vgg16\n",
            "id:  158 , true: 0 , pred:  0  |  id:  165 , true: 0 , pred:  0  |  id:  168 , true: 0 , pred:  0  |  id:  169 , true: 0 , pred:  1\n",
            "id:  171 , true: 0 , pred:  0  |  id:  176 , true: 0 , pred:  0  |  id:  177 , true: 0 , pred:  0  |  id:  178 , true: 0 , pred:  0\n",
            "id:  181 , true: 0 , pred:  0  |  id:  183 , true: 0 , pred:  0  |  id:  191 , true: 0 , pred:  0  |  id:  192 , true: 0 , pred:  0\n",
            "id:  157 , true: 1 , pred:  1  |  id:  159 , true: 1 , pred:  1  |  id:  161 , true: 1 , pred:  1  |  id:  162 , true: 1 , pred:  1\n",
            "id:  166 , true: 1 , pred:  1  |  id:  174 , true: 1 , pred:  1  |  id:  175 , true: 1 , pred:  1  |  id:  179 , true: 1 , pred:  0\n",
            "id:  185 , true: 1 , pred:  1  |  id:  186 , true: 1 , pred:  1  |  id:  189 , true: 1 , pred:  1  |  id:  190 , true: 1 , pred:  1\n",
            "id:  194 , true: 1 , pred:  1  |  id:  160 , true: 2 , pred:  0  |  id:  163 , true: 2 , pred:  2  |  id:  164 , true: 2 , pred:  2\n",
            "id:  167 , true: 2 , pred:  2  |  id:  170 , true: 2 , pred:  2  |  id:  172 , true: 2 , pred:  2  |  id:  173 , true: 2 , pred:  2\n",
            "id:  180 , true: 2 , pred:  2  |  id:  182 , true: 2 , pred:  2  |  id:  184 , true: 2 , pred:  2  |  id:  187 , true: 2 , pred:  2\n",
            "id:  188 , true: 2 , pred:  2  |  id:  193 , true: 2 , pred:  2  |  id:  195 , true: 2 , pred:  2  |                precision    recall  f1-score   support\n",
            "\n",
            "          2C       0.85      0.92      0.88        12\n",
            "          3C       0.92      0.92      0.92        13\n",
            "          4C       1.00      0.93      0.96        14\n",
            "\n",
            "    accuracy                           0.92        39\n",
            "   macro avg       0.92      0.92      0.92        39\n",
            "weighted avg       0.93      0.92      0.92        39\n",
            "\n",
            "resnet18\n",
            "id:  158 , true: 0 , pred:  0  |  id:  165 , true: 0 , pred:  0  |  id:  168 , true: 0 , pred:  0  |  id:  169 , true: 0 , pred:  0\n",
            "id:  171 , true: 0 , pred:  1  |  id:  176 , true: 0 , pred:  0  |  id:  177 , true: 0 , pred:  0  |  id:  178 , true: 0 , pred:  0\n",
            "id:  181 , true: 0 , pred:  0  |  id:  183 , true: 0 , pred:  0  |  id:  191 , true: 0 , pred:  0  |  id:  192 , true: 0 , pred:  0\n",
            "id:  157 , true: 1 , pred:  1  |  id:  159 , true: 1 , pred:  1  |  id:  161 , true: 1 , pred:  1  |  id:  162 , true: 1 , pred:  1\n",
            "id:  166 , true: 1 , pred:  1  |  id:  174 , true: 1 , pred:  1  |  id:  175 , true: 1 , pred:  1  |  id:  179 , true: 1 , pred:  0\n",
            "id:  185 , true: 1 , pred:  1  |  id:  186 , true: 1 , pred:  1  |  id:  189 , true: 1 , pred:  1  |  id:  190 , true: 1 , pred:  1\n",
            "id:  194 , true: 1 , pred:  1  |  id:  160 , true: 2 , pred:  2  |  id:  163 , true: 2 , pred:  2  |  id:  164 , true: 2 , pred:  2\n",
            "id:  167 , true: 2 , pred:  2  |  id:  170 , true: 2 , pred:  2  |  id:  172 , true: 2 , pred:  2  |  id:  173 , true: 2 , pred:  2\n",
            "id:  180 , true: 2 , pred:  2  |  id:  182 , true: 2 , pred:  2  |  id:  184 , true: 2 , pred:  2  |  id:  187 , true: 2 , pred:  2\n",
            "id:  188 , true: 2 , pred:  2  |  id:  193 , true: 2 , pred:  2  |  id:  195 , true: 2 , pred:  2  |                precision    recall  f1-score   support\n",
            "\n",
            "          2C       0.92      0.92      0.92        12\n",
            "          3C       0.92      0.92      0.92        13\n",
            "          4C       1.00      1.00      1.00        14\n",
            "\n",
            "    accuracy                           0.95        39\n",
            "   macro avg       0.95      0.95      0.95        39\n",
            "weighted avg       0.95      0.95      0.95        39\n",
            "\n",
            "resnet50\n",
            "id:  158 , true: 0 , pred:  0  |  id:  165 , true: 0 , pred:  0  |  id:  168 , true: 0 , pred:  0  |  id:  169 , true: 0 , pred:  1\n",
            "id:  171 , true: 0 , pred:  0  |  id:  176 , true: 0 , pred:  0  |  id:  177 , true: 0 , pred:  1  |  id:  178 , true: 0 , pred:  0\n",
            "id:  181 , true: 0 , pred:  0  |  id:  183 , true: 0 , pred:  1  |  id:  191 , true: 0 , pred:  0  |  id:  192 , true: 0 , pred:  0\n",
            "id:  157 , true: 1 , pred:  1  |  id:  159 , true: 1 , pred:  1  |  id:  161 , true: 1 , pred:  1  |  id:  162 , true: 1 , pred:  1\n",
            "id:  166 , true: 1 , pred:  1  |  id:  174 , true: 1 , pred:  1  |  id:  175 , true: 1 , pred:  1  |  id:  179 , true: 1 , pred:  0\n",
            "id:  185 , true: 1 , pred:  0  |  id:  186 , true: 1 , pred:  1  |  id:  189 , true: 1 , pred:  0  |  id:  190 , true: 1 , pred:  1\n",
            "id:  194 , true: 1 , pred:  1  |  id:  160 , true: 2 , pred:  2  |  id:  163 , true: 2 , pred:  2  |  id:  164 , true: 2 , pred:  2\n",
            "id:  167 , true: 2 , pred:  2  |  id:  170 , true: 2 , pred:  2  |  id:  172 , true: 2 , pred:  2  |  id:  173 , true: 2 , pred:  2\n",
            "id:  180 , true: 2 , pred:  2  |  id:  182 , true: 2 , pred:  2  |  id:  184 , true: 2 , pred:  2  |  id:  187 , true: 2 , pred:  2\n",
            "id:  188 , true: 2 , pred:  2  |  id:  193 , true: 2 , pred:  2  |  id:  195 , true: 2 , pred:  2  |                precision    recall  f1-score   support\n",
            "\n",
            "          2C       0.75      0.75      0.75        12\n",
            "          3C       0.77      0.77      0.77        13\n",
            "          4C       1.00      1.00      1.00        14\n",
            "\n",
            "    accuracy                           0.85        39\n",
            "   macro avg       0.84      0.84      0.84        39\n",
            "weighted avg       0.85      0.85      0.85        39\n",
            "\n",
            "densenet121\n",
            "id:  158 , true: 0 , pred:  0  |  id:  165 , true: 0 , pred:  0  |  id:  168 , true: 0 , pred:  0  |  id:  169 , true: 0 , pred:  0\n",
            "id:  171 , true: 0 , pred:  1  |  id:  176 , true: 0 , pred:  0  |  id:  177 , true: 0 , pred:  0  |  id:  178 , true: 0 , pred:  0\n",
            "id:  181 , true: 0 , pred:  0  |  id:  183 , true: 0 , pred:  0  |  id:  191 , true: 0 , pred:  0  |  id:  192 , true: 0 , pred:  0\n",
            "id:  157 , true: 1 , pred:  1  |  id:  159 , true: 1 , pred:  1  |  id:  161 , true: 1 , pred:  1  |  id:  162 , true: 1 , pred:  1\n",
            "id:  166 , true: 1 , pred:  1  |  id:  174 , true: 1 , pred:  1  |  id:  175 , true: 1 , pred:  1  |  id:  179 , true: 1 , pred:  1\n",
            "id:  185 , true: 1 , pred:  1  |  id:  186 , true: 1 , pred:  1  |  id:  189 , true: 1 , pred:  1  |  id:  190 , true: 1 , pred:  1\n",
            "id:  194 , true: 1 , pred:  1  |  id:  160 , true: 2 , pred:  1  |  id:  163 , true: 2 , pred:  2  |  id:  164 , true: 2 , pred:  2\n",
            "id:  167 , true: 2 , pred:  2  |  id:  170 , true: 2 , pred:  0  |  id:  172 , true: 2 , pred:  2  |  id:  173 , true: 2 , pred:  2\n",
            "id:  180 , true: 2 , pred:  2  |  id:  182 , true: 2 , pred:  2  |  id:  184 , true: 2 , pred:  2  |  id:  187 , true: 2 , pred:  2\n",
            "id:  188 , true: 2 , pred:  2  |  id:  193 , true: 2 , pred:  2  |  id:  195 , true: 2 , pred:  2  |                precision    recall  f1-score   support\n",
            "\n",
            "          2C       0.92      0.92      0.92        12\n",
            "          3C       0.87      1.00      0.93        13\n",
            "          4C       1.00      0.86      0.92        14\n",
            "\n",
            "    accuracy                           0.92        39\n",
            "   macro avg       0.93      0.92      0.92        39\n",
            "weighted avg       0.93      0.92      0.92        39\n",
            "\n"
          ]
        }
      ]
    },
    {
      "cell_type": "code",
      "metadata": {
        "id": "tagym1XdNnXs"
      },
      "source": [
        "# for i in range(len(result)):\n",
        "#   if (i+1)%3!=0:\n",
        "#     print(result[i], end=\"  |  \")\n",
        "#   else: print(result[i])"
      ],
      "execution_count": null,
      "outputs": []
    },
    {
      "cell_type": "code",
      "metadata": {
        "id": "J4VHZ_CHUHXc"
      },
      "source": [
        "import pandas as pd\n",
        "def demo_frame(modelName='vgg16'):\n",
        "  print(modelName)\n",
        "  transform_test = transforms.Compose([\n",
        "        transforms.Resize((64,64)),\n",
        "        transforms.ToTensor()])\n",
        "  sample_data = torchvision.datasets.ImageFolder(\n",
        "      root='/content/echocardiography/DATA_CHAMBER_2021/test', \n",
        "      transform=transform_test)\n",
        "  filename = []\n",
        "  for i, image in enumerate(sample_data.imgs):\n",
        "    filename.append(image[0].split(\"/\")[-1])\n",
        "    # print(image[0].split(\"/\")[-1])\n",
        "  if modelName == 'vgg16':\n",
        "    modelload = torchvision.models.vgg16(pretrained=False)\n",
        "    modelload.classifier[6] = torch.nn.modules.linear.Linear(in_features=4096, out_features=3, bias=True)\n",
        "    modelload.load_state_dict(torch.load('vgg16.pth'), strict=False)\n",
        "  elif modelName == \"resnet50\":\n",
        "    modelload = torchvision.models.resnet50(pretrained=False)\n",
        "    modelload.fc = torch.nn.modules.linear.Linear(in_features=2048, out_features=3, bias=True) \n",
        "    modelload.load_state_dict(torch.load('resnet50.pth'), strict=False)\n",
        "  elif modelName == \"resnet18\":\n",
        "    modelload = torchvision.models.resnet18(pretrained=False)\n",
        "    modelload.fc = torch.nn.modules.linear.Linear(in_features=512, out_features=3, bias=True) \n",
        "    modelload.load_state_dict(torch.load('resnet18.pth'), strict=False)\n",
        "  else:\n",
        "    modelload = torchvision.models.densenet121(pretrained=False)\n",
        "    modelload.classifier = torch.nn.modules.linear.Linear(in_features=1024, out_features=3, bias=True)\n",
        "    modelload.load_state_dict(torch.load('densenet121.pth'), strict=False)\n",
        "\n",
        "  modelload.to('cuda')\n",
        "  modelload.eval()\n",
        "  ypred = []\n",
        "  for image, label in sample_data:\n",
        "      image = image.unsqueeze(0).to('cuda')\n",
        "      output = modelload(image)\n",
        "      _, predicted = torch.max(output, dim=1)\n",
        "      ypred += list(predicted.cpu().numpy())\n",
        "  classes0 = {'2C':0 , '3C':1, '4C':2}\n",
        "  classes0 = dict((v,k) for k,v in classes0.items())\n",
        "  predictions = [classes0[k] for k in ypred]\n",
        "  result0 = pd.DataFrame({\"Filename\":filename, \"Prediction\":predictions})\n",
        "  results_file = \"./\" + modelName + \"_results.csv\"\n",
        "  result0.to_csv(results_file,index=False)"
      ],
      "execution_count": 20,
      "outputs": []
    },
    {
      "cell_type": "code",
      "metadata": {
        "id": "Elx3_YDegfPc",
        "colab": {
          "base_uri": "https://localhost:8080/"
        },
        "outputId": "d5400024-21cb-43e2-8b6b-0987917d5b6e"
      },
      "source": [
        "for i in modelset:\n",
        "  result = demo_frame(modelName=i)"
      ],
      "execution_count": 21,
      "outputs": [
        {
          "output_type": "stream",
          "name": "stdout",
          "text": [
            "vgg16\n",
            "resnet18\n",
            "resnet50\n",
            "densenet121\n"
          ]
        }
      ]
    }
  ]
}