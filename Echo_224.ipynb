{
  "nbformat": 4,
  "nbformat_minor": 0,
  "metadata": {
    "colab": {
      "name": "Echo_224.ipynb",
      "provenance": [],
      "collapsed_sections": []
    },
    "kernelspec": {
      "name": "python3",
      "display_name": "Python 3"
    },
    "language_info": {
      "name": "python"
    },
    "accelerator": "GPU"
  },
  "cells": [
    {
      "cell_type": "markdown",
      "metadata": {
        "id": "S2ijQ0OB1vHT"
      },
      "source": [
        "# Import"
      ]
    },
    {
      "cell_type": "code",
      "metadata": {
        "id": "ZpQ7BUoV4_Oi"
      },
      "source": [
        "\n",
        "# Import Library\n",
        "import torch\n",
        "torch.cuda.empty_cache()\n",
        "import torch.nn as nn\n",
        "from torch.utils.data import DataLoader\n",
        "import torch.optim as optim\n",
        "\n",
        "import cv2\n",
        "import numpy as np\n",
        "import matplotlib.pyplot as plt\n",
        "\n",
        "import torchvision\n",
        "from torchvision import models,transforms\n",
        "\n",
        "from collections import namedtuple\n",
        "\n",
        "from sklearn.metrics import classification_report\n",
        "\n",
        "import time"
      ],
      "execution_count": null,
      "outputs": []
    },
    {
      "cell_type": "markdown",
      "metadata": {
        "id": "G26oe6fk2F8s"
      },
      "source": [
        "# Get DATA"
      ]
    },
    {
      "cell_type": "code",
      "metadata": {
        "id": "JJnVjBsj6c2U",
        "colab": {
          "base_uri": "https://localhost:8080/"
        },
        "outputId": "5e5c5802-48e4-44c3-9da7-c16cdf33ea76"
      },
      "source": [
        "# Using CUDA\n",
        "use_gpu = torch.cuda.is_available()\n",
        "if use_gpu:\n",
        "    print(\"Using CUDA\")\n",
        "else: print(\"Using CPU\")"
      ],
      "execution_count": null,
      "outputs": [
        {
          "output_type": "stream",
          "name": "stdout",
          "text": [
            "Using CUDA\n"
          ]
        }
      ]
    },
    {
      "cell_type": "code",
      "metadata": {
        "id": "gDVNC4AC6lP8",
        "colab": {
          "base_uri": "https://localhost:8080/"
        },
        "outputId": "e584ff92-7102-4d04-995d-f2e304970fa8"
      },
      "source": [
        "# Clone Data\n",
        "!git clone https://github.com/qcuong103/echocardiography\n",
        "\n",
        "# Hyper-parameters\n",
        "classes = ['2C', '3C', '4C']\n",
        "TrainTest = namedtuple('TrainTest', ['train', 'test'])"
      ],
      "execution_count": null,
      "outputs": [
        {
          "output_type": "stream",
          "name": "stdout",
          "text": [
            "fatal: destination path 'echocardiography' already exists and is not an empty directory.\n"
          ]
        }
      ]
    },
    {
      "cell_type": "markdown",
      "metadata": {
        "id": "2HViKL8A2LT8"
      },
      "source": [
        "# Prepare Data"
      ]
    },
    {
      "cell_type": "code",
      "metadata": {
        "id": "7XeE9l6g2AyE"
      },
      "source": [
        "# Transforms Data\n",
        "def prepare_data(sizeImg=224, typeImg=\"None\"):\n",
        "  if (typeImg == \"None\"):\n",
        "    if (sizeImg == 224):\n",
        "      transform_train = transforms.Compose([\n",
        "        transforms.Resize((224,224)),\n",
        "        transforms.ToTensor()])\n",
        "      transform_test = transforms.Compose([\n",
        "        transforms.Resize((224,224)),\n",
        "        transforms.ToTensor()])\n",
        "    elif (sizeImg == 64):\n",
        "      transform_train = transforms.Compose([\n",
        "        transforms.Resize((64,64)),\n",
        "        transforms.ToTensor()])\n",
        "      transform_test = transforms.Compose([\n",
        "        transforms.Resize((64,64)),\n",
        "        transforms.ToTensor()])\n",
        "    else:\n",
        "      transform_train = transforms.Compose([\n",
        "        transforms.Resize((32,32)),\n",
        "        transforms.ToTensor()])\n",
        "      transform_test = transforms.Compose([\n",
        "        transforms.Resize((32,32)),\n",
        "        transforms.ToTensor()])\n",
        "  elif (typeImg == \"aug\"):\n",
        "    transform_train = transforms.Compose([\n",
        "      transforms.Resize((224,224)),\n",
        "      transforms.RandomHorizontalFlip(p=0.3),\n",
        "      transforms.RandomVerticalFlip(p=0.3),\n",
        "      transforms.RandomRotation(degrees=10),\n",
        "      transforms.ToTensor()])\n",
        "    transform_test = transforms.Compose([\n",
        "      transforms.Resize((224,224)),\n",
        "      transforms.ToTensor()])\n",
        "  else:\n",
        "    transform_train = transforms.Compose([\n",
        "      transforms.Resize((224,224)),\n",
        "      transforms.RandomEqualize(p=1),\n",
        "      transforms.GaussianBlur(kernel_size=3),\n",
        "      transforms.ToTensor()])\n",
        "    transform_test = transforms.Compose([\n",
        "      transforms.Resize((224,224)),\n",
        "      transforms.RandomEqualize(p=1),\n",
        "      transforms.GaussianBlur(kernel_size=3),\n",
        "      transforms.ToTensor()])\n",
        "    \n",
        "  trainset = torchvision.datasets.ImageFolder(\n",
        "      root='/content/echocardiography/DATA_CHAMBER_2021/train', \n",
        "      transform=transform_train)\n",
        "  testset = torchvision.datasets.ImageFolder(\n",
        "      root='/content/echocardiography/DATA_CHAMBER_2021/test', \n",
        "      transform=transform_test)\n",
        "  \n",
        "  print(\"Number of Image in train set:\", len(trainset))\n",
        "  print(\"Number of Image in test set:\", len(testset))\n",
        "\n",
        "  return TrainTest(train=trainset,test=testset)\n",
        "\n",
        "# Load Data\n",
        "def prepare_loader(datasets):\n",
        "  batch_size = 32\n",
        "  trainloader = DataLoader(\n",
        "    dataset=datasets.train, batch_size=batch_size, \n",
        "    shuffle=True, num_workers=4\n",
        "  )\n",
        "  testloader = DataLoader(\n",
        "    dataset=datasets.test, batch_size=batch_size, \n",
        "    shuffle=True, num_workers=4\n",
        "  )\n",
        "  \n",
        "  print(\"Num batch in train set: \", len(trainloader))\n",
        "  print(\"Num batch in test set: \", len(testloader))\n",
        "  class_names = datasets.train.classes\n",
        "  inputs, classes = next(iter(trainloader))\n",
        "  # show_databatch(inputs, classes)\n",
        "  for i in range(4):\n",
        "    print([class_names[x] for x in classes[(8*i):(8*i+8)]])\n",
        "  imshow(torchvision.utils.make_grid(inputs))\n",
        "  return TrainTest(train=trainloader, test=testloader)\n",
        "\n",
        "def imshow(inp, title=None):\n",
        "    inp = inp.numpy().transpose((1, 2, 0))\n",
        "    # plt.figure(figsize=(10, 10))\n",
        "    plt.axis('off')\n",
        "    plt.imshow(inp)\n",
        "    if title is not None:\n",
        "        plt.title(title)\n",
        "    plt.pause(0.001)\n",
        "\n",
        "# dataset = prepare_data()\n",
        "# loaderset = prepare_loader(dataset)"
      ],
      "execution_count": null,
      "outputs": []
    },
    {
      "cell_type": "code",
      "metadata": {
        "colab": {
          "base_uri": "https://localhost:8080/",
          "height": 36
        },
        "id": "jkavKRFJUYhz",
        "outputId": "1549b576-b584-464e-c2c3-4569a95f5433"
      },
      "source": [
        "torch.__version__"
      ],
      "execution_count": null,
      "outputs": [
        {
          "output_type": "execute_result",
          "data": {
            "application/vnd.google.colaboratory.intrinsic+json": {
              "type": "string"
            },
            "text/plain": [
              "'1.10.0+cu111'"
            ]
          },
          "metadata": {},
          "execution_count": 5
        }
      ]
    },
    {
      "cell_type": "markdown",
      "metadata": {
        "id": "EGa4ZYUapWax"
      },
      "source": [
        "# **Train**"
      ]
    },
    {
      "cell_type": "code",
      "metadata": {
        "id": "gpvWunBb9VSz"
      },
      "source": [
        "def train_epoch(epoch, model, loader, loss_func, optimizer, device):\n",
        "  print(\"Train model\")\n",
        "  print('-' * 10)\n",
        "  model.train()\n",
        "  running_loss = 0.0\n",
        "  images_so_close = 0.0\n",
        "  reporting_steps = 60\n",
        "\n",
        "  for i, (images, labels) in enumerate(loader):\n",
        "    images, labels = images.to(device), labels.to(device)\n",
        "    \n",
        "    optimizer.zero_grad()\n",
        "    outputs = model(images)\n",
        "    loss = loss_func(outputs, labels)\n",
        "    loss.backward()\n",
        "    optimizer.step()\n",
        "\n",
        "    images_so_close = loss.item()\n",
        "    running_loss += images_so_close\n",
        "    if i % reporting_steps == reporting_steps - 1:\n",
        "      print(f\"Epoch {epoch} Step {i} ave_loss {running_loss/reporting_steps:.4f}\")\n",
        "      running_loss = 0.0\n",
        "  return images_so_close\n"
      ],
      "execution_count": null,
      "outputs": []
    },
    {
      "cell_type": "markdown",
      "metadata": {
        "id": "jXViyKY2pau5"
      },
      "source": [
        "# **Test**"
      ]
    },
    {
      "cell_type": "code",
      "metadata": {
        "id": "yDnb7RX-JtX_"
      },
      "source": [
        "def test_epoch(epoch, model, loader, device):\n",
        "  since = time.time()\n",
        "\n",
        "  model.eval()\n",
        "  ytrue = []\n",
        "  ypred = []\n",
        "\n",
        "  print(\"Test model\")\n",
        "  print('-' * 10)\n",
        "\n",
        "  for i, (images, labels) in enumerate(loader):\n",
        "    images, labels = images.to(device), labels.to(device)\n",
        "\n",
        "    outputs = model(images)\n",
        "    _, predicted = torch.max(outputs, dim=1)\n",
        "    ytrue += list(labels.cpu().numpy())\n",
        "    ypred += list(predicted.cpu().numpy())\n",
        "\n",
        "  elapsed_time = time.time() - since\n",
        "  print()\n",
        "  print(\"Evaluation completed in {:.0f}m {:.0f}s\".format(elapsed_time // 60, elapsed_time % 60))\n",
        "  print('-' * 10)\n",
        "\n",
        "  return ypred, ytrue"
      ],
      "execution_count": null,
      "outputs": []
    },
    {
      "cell_type": "markdown",
      "metadata": {
        "id": "F4_OzR3OpfvT"
      },
      "source": [
        "# **Main**"
      ]
    },
    {
      "cell_type": "code",
      "metadata": {
        "id": "xYtxYUVY9ZUu"
      },
      "source": [
        "def run(modelName, imgSize, aug):\n",
        "  PATH = \"./\" + modelName + '.pth'\n",
        "  datasets = prepare_data(imgSize, aug)\n",
        "  loaders = prepare_loader(datasets)\n",
        "  use_pretrained = False\n",
        "  device = torch.device(\"cuda\" if torch.cuda.is_available() else \"cpu\")\n",
        "  print(\"image size: \", datasets.train[0][0].shape)\n",
        "  print(\"device:\", device)\n",
        "  print(\"model:\", modelName)\n",
        "  \n",
        "  if modelName == 'vgg16':\n",
        "    model = models.vgg16(pretrained=use_pretrained)\n",
        "    model.classifier[6] = nn.modules.linear.Linear(in_features=4096, out_features=3, bias=True)\n",
        "  elif modelName == 'resnet50':\n",
        "    model = models.resnet50(pretrained=use_pretrained)\n",
        "    model.fc = nn.modules.linear.Linear(in_features=2048, out_features=3, bias=True) \n",
        "  elif modelName == 'resnet18':\n",
        "    model = models.resnet18(pretrained=use_pretrained)\n",
        "    model.fc = nn.modules.linear.Linear(in_features=512, out_features=3, bias=True)\n",
        "  else:\n",
        "    model = models.densenet121(pretrained=use_pretrained)\n",
        "    model.classifier = nn.modules.linear.Linear(in_features=1024, out_features=3, bias=True)\n",
        "  model.to(device)\n",
        "\n",
        "  loss_func = nn.CrossEntropyLoss()\n",
        "  optimizer = optim.SGD(model.parameters(), lr=0.01, momentum=0.9, weight_decay=5e-4)\n",
        "\n",
        "  # class_out = len(classes)\n",
        "  n_epoch = 20\n",
        "\n",
        "  accuracies = []\n",
        "  losses = []\n",
        "  for epoch in range(n_epoch):\n",
        "    print(\"---------------------------------------------------------------\")\n",
        "    print(f\"\\nEpoch {epoch} report: \")\n",
        "    loss = train_epoch(epoch, model, loaders.train, loss_func, optimizer, device)\n",
        "    ypred, ytrue = test_epoch(epoch, model, loaders.test, device)\n",
        "\n",
        "    print(\"Test report: \\n\", classification_report(ytrue, ypred, target_names=classes))\n",
        "    \n",
        "    torch.save(model.state_dict(), PATH)\n",
        "\n",
        "    ypred = np.array(ypred)\n",
        "    ytrue = np.array(ytrue)\n",
        "    accuracy = int((ytrue==ypred).sum() / len(ytrue) * 100)\n",
        "    accuracies.append(accuracy)\n",
        "    losses.append(round(loss, 4))\n",
        "\n",
        "  print(\"model:\", modelName, \", size:\", imgSize, \", augmentation:\", aug)\n",
        "  print(\"accr: \", accuracies)\n",
        "  print(\"loss: \", losses)\n",
        "  return model"
      ],
      "execution_count": null,
      "outputs": []
    },
    {
      "cell_type": "markdown",
      "metadata": {
        "id": "susXffaJpoeu"
      },
      "source": [
        "# **Run**"
      ]
    },
    {
      "cell_type": "code",
      "metadata": {
        "id": "3ZTxR7ny9n51",
        "colab": {
          "base_uri": "https://localhost:8080/",
          "height": 607
        },
        "outputId": "b0a9a67d-f4d2-45ad-bec8-a2872b537ef0"
      },
      "source": [
        "modelset = ['vgg16', 'resnet18', 'resnet50', 'densenet121']\n",
        "\n",
        "for i in modelset:\n",
        "  model = run(modelName=i, imgSize=224, aug=\"None\")"
      ],
      "execution_count": null,
      "outputs": [
        {
          "output_type": "stream",
          "name": "stdout",
          "text": [
            "Number of Image in train set: 6717\n",
            "Number of Image in test set: 1607\n",
            "Num batch in train set:  210\n",
            "Num batch in test set:  51\n"
          ]
        },
        {
          "output_type": "stream",
          "name": "stderr",
          "text": [
            "/usr/local/lib/python3.7/dist-packages/torch/utils/data/dataloader.py:481: UserWarning: This DataLoader will create 4 worker processes in total. Our suggested max number of worker in current system is 2, which is smaller than what this DataLoader is going to create. Please be aware that excessive worker creation might get DataLoader running slow or even freeze, lower the worker number to avoid potential slowness/freeze if necessary.\n",
            "  cpuset_checked))\n"
          ]
        },
        {
          "output_type": "stream",
          "name": "stdout",
          "text": [
            "['3C', '3C', '2C', '3C', '3C', '4C', '3C', '3C']\n",
            "['3C', '3C', '2C', '4C', '3C', '3C', '3C', '3C']\n",
            "['4C', '4C', '2C', '4C', '2C', '4C', '4C', '4C']\n",
            "['4C', '4C', '4C', '4C', '3C', '2C', '3C', '4C']\n"
          ]
        },
        {
          "output_type": "display_data",
          "data": {
            "image/png": "[encoded data removed]",
            "text/plain": [
              "<Figure size 432x288 with 1 Axes>"
            ]
          },
          "metadata": {
            "needs_background": "light"
          }
        },
        {
          "output_type": "stream",
          "name": "stdout",
          "text": [
            "image size:  torch.Size([3, 32, 32])\n",
            "device: cuda\n",
            "model: vgg16\n",
            "---------------------------------------------------------------\n",
            "\n",
            "Epoch 0 report: \n",
            "Train model\n",
            "----------\n",
            "Epoch 0 Step 59 ave_loss 1.0968\n",
            "Epoch 0 Step 119 ave_loss 1.0476\n",
            "Epoch 0 Step 179 ave_loss 0.7016\n"
          ]
        }
      ]
    },
    {
      "cell_type": "markdown",
      "metadata": {
        "id": "wXFcP_nm6l-Q"
      },
      "source": [
        "# Demo mô hình với video"
      ]
    },
    {
      "cell_type": "code",
      "metadata": {
        "id": "UXiLDpzR6fg2"
      },
      "source": [
        "def run_video(modelName = 'vgg16'):\n",
        "  transform_test = transforms.Compose([\n",
        "        transforms.Resize((224,224)),\n",
        "        transforms.ToTensor()])\n",
        "  sample_data = torchvision.datasets.ImageFolder(\n",
        "      root='/content/echocardiography/DATA_CHAMBER_2021/test', \n",
        "      transform=transform_test)\n",
        "  videotest = namedtuple('videotest', ['id', \"ytrues\", 'ypreds'])\n",
        "  id_video = []\n",
        "\n",
        "  for i, image in enumerate(sample_data.imgs):\n",
        "    id_video.append(image[0].split(\"/\")[-1].split(\"_\")[0])\n",
        "  \n",
        "  video_list = []\n",
        "  for image in id_video:\n",
        "    if (image in video_list) == False:\n",
        "      video_list.append(image)\n",
        "    else:\n",
        "      pass\n",
        "\n",
        "  ytrue = []\n",
        "  ypred = []\n",
        "\n",
        "  if modelName == 'vgg16':\n",
        "    modelload = torchvision.models.vgg16(pretrained=False)\n",
        "    modelload.classifier[6] = torch.nn.modules.linear.Linear(in_features=4096, out_features=3, bias=True)\n",
        "    modelload.load_state_dict(torch.load('vgg16.pth'), strict=False)\n",
        "  elif modelName == \"resnet50\":\n",
        "    modelload = torchvision.models.resnet50(pretrained=False)\n",
        "    modelload.fc = torch.nn.modules.linear.Linear(in_features=2048, out_features=class_out, bias=True) \n",
        "    modelload.load_state_dict(torch.load('resnet50.pth'))\n",
        "  elif modelName == \"resnet18\":\n",
        "    modelload = torchvision.models.resnet50(pretrained=False)\n",
        "    modelload.fc = torch.nn.modules.linear.Linear(in_features=512, out_features=class_out, bias=True) \n",
        "    modelload.load_state_dict(torch.load('resnet18.pth'))\n",
        "  else:\n",
        "    modelload = torchvision.models.densenet121(pretrained=False)\n",
        "    modelload.classifier = torch.nn.modules.linear.Linear(in_features=1024, out_features=class_out, bias=True)\n",
        "    modelload.load_state_dict(torch.load('densenet121.pth'))\n",
        "\n",
        "  modelload.to('cuda')\n",
        "  modelload.eval()\n",
        "  for image, label in sample_data:\n",
        "    image = image.unsqueeze(0).to('cuda')\n",
        "    output = modelload(image)\n",
        "    _, predicted = torch.max(output, dim=1)\n",
        "    ytrue.append(label)\n",
        "    ypred += list(predicted.cpu().numpy())\n",
        "\n",
        "  outputs_video = []\n",
        "  ytrue_video = []\n",
        "  ypred_video = []\n",
        "  index = 0\n",
        "  for id in video_list:\n",
        "    index += 1\n",
        "    vtrue = []\n",
        "    vpred = []\n",
        "    for i, img in enumerate(id_video):\n",
        "      if img == id:\n",
        "        vtrue.append(ytrue[i])\n",
        "        vpred.append(ypred[i])\n",
        "\n",
        "    rate_true = [0, 0, 0]\n",
        "    rate_pred = [0, 0, 0]\n",
        "    for label in range(3):\n",
        "      rate_true[label] = list(vtrue).count(label)\n",
        "      rate_pred[label] = list(vpred).count(label)\n",
        "\n",
        "    labeltrue = np.argmax(rate_true)\n",
        "    labelpred = np.argmax(rate_pred)\n",
        "\n",
        "    if index %4 != 0:\n",
        "      print(\"id: \", id, \", true:\", labeltrue, \", pred: \", labelpred, end=\"  |  \")\n",
        "    else: print(\"id: \", id, \", true:\", labeltrue, \", pred: \", labelpred)\n",
        "    ytrue_video.append(labeltrue)\n",
        "    ypred_video.append(labelpred)\n",
        "    outputs_video.append(videotest(id=id,ytrues=labeltrue,ypreds=labelpred))\n",
        "  print(classification_report(ytrue_video, ypred_video, target_names=classes))\n",
        "  return outputs_video"
      ],
      "execution_count": null,
      "outputs": []
    },
    {
      "cell_type": "code",
      "metadata": {
        "id": "71Uqr7_HFxEc"
      },
      "source": [
        "# result = run_video('vgg16')\n",
        "for i in modelset:\n",
        "  result = run_video(modelName=i)"
      ],
      "execution_count": null,
      "outputs": []
    },
    {
      "cell_type": "code",
      "metadata": {
        "id": "tagym1XdNnXs"
      },
      "source": [
        "# for i in range(len(result)):\n",
        "#   if (i+1)%3!=0:\n",
        "#     print(result[i], end=\"  |  \")\n",
        "#   else: print(result[i])"
      ],
      "execution_count": null,
      "outputs": []
    },
    {
      "cell_type": "code",
      "metadata": {
        "id": "J4VHZ_CHUHXc"
      },
      "source": [
        "import pandas as pd\n",
        "def demo_frame(modelName='vgg16')\n",
        "  transform_test = transforms.Compose([\n",
        "        transforms.Resize((224,224)),\n",
        "        transforms.ToTensor()])\n",
        "  sample_data = torchvision.datasets.ImageFolder(\n",
        "      root='/content/echocardiography/DATA_CHAMBER_2021/test', \n",
        "      transform=transform_test)\n",
        "  filename = []\n",
        "  for i, image in enumerate(sample_data.imgs):\n",
        "    filename.append(image[0].split(\"/\")[-1])\n",
        "    # print(image[0].split(\"/\")[-1])\n",
        "  if modelName == 'vgg16':\n",
        "    modelload = torchvision.models.vgg16(pretrained=False)\n",
        "    modelload.classifier[6] = torch.nn.modules.linear.Linear(in_features=4096, out_features=3, bias=True)\n",
        "    modelload.load_state_dict(torch.load('vgg16.pth'), strict=False)\n",
        "  elif modelName == \"resnet50\":\n",
        "    modelload = torchvision.models.resnet50(pretrained=False)\n",
        "    modelload.fc = torch.nn.modules.linear.Linear(in_features=2048, out_features=class_out, bias=True) \n",
        "    modelload.load_state_dict(torch.load('resnet50.pth'))\n",
        "  elif modelName == \"resnet18\":\n",
        "    modelload = torchvision.models.resnet50(pretrained=False)\n",
        "    modelload.fc = torch.nn.modules.linear.Linear(in_features=512, out_features=class_out, bias=True) \n",
        "    modelload.load_state_dict(torch.load('resnet18.pth'))\n",
        "  else:\n",
        "    modelload = torchvision.models.densenet121(pretrained=False)\n",
        "    modelload.classifier = torch.nn.modules.linear.Linear(in_features=1024, out_features=class_out, bias=True)\n",
        "    modelload.load_state_dict(torch.load('densenet121.pth'))\n",
        "\n",
        "  modelload.to('cuda')\n",
        "  modelload.eval()\n",
        "  ypred = []\n",
        "  for image, label in sample_data:\n",
        "      image = image.unsqueeze(0).to('cuda')\n",
        "      output = modelload(image)\n",
        "      _, predicted = torch.max(output, dim=1)\n",
        "      ypred += list(predicted.cpu().numpy())\n",
        "  classes0 = {'2C':0 , '3C':1, '4C':2}\n",
        "  classes0 = dict((v,k) for k,v in classes0.items())\n",
        "  predictions = [classes0[k] for k in ypred]\n",
        "  result0 = pd.DataFrame({\"Filename\":filename, \"Prediction\":predictions})\n",
        "  results_file = \"./\" + modelName + \"_results.csv\"\n",
        "  result0.to_csv(results_file,index=False)"
      ],
      "execution_count": null,
      "outputs": []
    },
    {
      "cell_type": "code",
      "metadata": {
        "id": "Elx3_YDegfPc"
      },
      "source": [
        "for i in modelset:\n",
        "  result = demo_frame(modelName=i)"
      ],
      "execution_count": null,
      "outputs": []
    }
  ]
}